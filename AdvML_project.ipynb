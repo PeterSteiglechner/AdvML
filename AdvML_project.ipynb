{
 "cells": [
  {
   "cell_type": "markdown",
   "metadata": {
    "colab_type": "text",
    "id": "be_iIWK5cDKa"
   },
   "source": [
    "# Project Adv ML"
   ]
  },
  {
   "cell_type": "code",
   "execution_count": 1,
   "metadata": {
    "colab": {},
    "colab_type": "code",
    "id": "9-IscMsTcDKh"
   },
   "outputs": [],
   "source": [
    "import numpy as np \n",
    "import matplotlib.pyplot as plt \n",
    "import scipy\n",
    "from scipy import special\n",
    "import pandas as pd\n",
    "import nltk"
   ]
  },
  {
   "cell_type": "markdown",
   "metadata": {
    "colab_type": "text",
    "id": "ASugsoSOcDKx"
   },
   "source": [
    "### Setup"
   ]
  },
  {
   "cell_type": "raw",
   "metadata": {
    "colab": {},
    "colab_type": "code",
    "id": "aFfdzosccDK0"
   },
   "source": [
    "##### PARAMS ####\n",
    "# k = number of topics\n",
    "# N = Number of Words in a Document (different for each doc)\n",
    "# M = Number of Docs\n",
    "# z_n = [k]-vector = topic distribution for word n \n",
    "# Theta = [k]-dim vector = mixture weights\n",
    "\n",
    "# Gamma = k-dim vector = Determines Theta in Variational Model\n",
    "# Phi = phi_1 .. phi_N = [N x k] Matrix = it determines the probability distribution for topics z of words in Variational Model\n",
    "\n",
    "# alpha = [k] - vector = prior probability for theta (mixture weights) (alpha>0)\n",
    "# beta = [k x V] - Matrix = with beta_ij = p( w^j = 1 | z^i = 1) = prob of for a specific word j given a specific topic i\n",
    "\n",
    "# D = list of [VxN]-dim matrices, that is M long = [\\mathbf{w}_1, ... \\mathbf{w}_M], where \\mathbf{w}=[w_1,...,w_N] is VxN (one document consisting of N words) "
   ]
  },
  {
   "cell_type": "markdown",
   "metadata": {
    "colab_type": "text",
    "id": "fqevQ4p3c-kp"
   },
   "source": [
    "## Load the Document Corpus\n",
    "Download the data from \n",
    "https://github.com/Blei-Lab/lda-c/blob/master/example/ap.tgz\n",
    "\n",
    "We can directly load the file \"ap.dat\" which contains:\n",
    "\n",
    "1 line = 1 document,\n",
    "\n",
    "[number of different words in doc] [word index (where the one is in w_n]:[how often it occurs in the doc] [word index 2]:[occurences 2] ..."
   ]
  },
  {
   "cell_type": "code",
   "execution_count": 2,
   "metadata": {
    "colab": {},
    "colab_type": "code",
    "id": "-Ea5B3x4Kxqj"
   },
   "outputs": [],
   "source": [
    "vocab = pd.read_csv(\"./ap/vocab.txt\", header=None)\n",
    "V = vocab.shape[0] # Vocab Size given by vocab_list.txt\n",
    "# vocab.head(10)"
   ]
  },
  {
   "cell_type": "code",
   "execution_count": 3,
   "metadata": {
    "colab": {},
    "colab_type": "code",
    "id": "6rox27_k9o8A"
   },
   "outputs": [],
   "source": [
    "data = pd.read_csv('ap/ap.dat', sep=\"#\", names=['A'])\n",
    "M = data.shape[0]\n",
    "data = data.A.str.split(' ')\n",
    "doc_word_count = np.zeros((M, V))\n",
    "\n",
    "for j, m in enumerate(data):\n",
    "    count = m.pop(0)\n",
    "    for i in range(int(count)):\n",
    "        type(m[i])\n",
    "        cur = m[i].split(\":\")\n",
    "        doc_word_count[j][int(cur[0])] = int(cur[1])\n",
    "        "
   ]
  },
  {
   "cell_type": "code",
   "execution_count": 4,
   "metadata": {
    "colab": {},
    "colab_type": "code",
    "id": "6rox27_k9o8A"
   },
   "outputs": [],
   "source": [
    "data = pd.read_csv('ap/ap.dat', sep=\"#\", names=['A'])\n",
    "\n",
    "data = data.A.str.split(' |:', n=V, expand=True)\n",
    "data.head()\n",
    "data_np = data.values\n"
   ]
  },
  {
   "cell_type": "code",
   "execution_count": 5,
   "metadata": {
    "colab": {},
    "colab_type": "code",
    "id": "yNvZhGEhAw82"
   },
   "outputs": [],
   "source": [
    "D = []  # this has dim: M x 2 (words and counts) x N_words(document)\n",
    "for w in range(M): # for each document\n",
    "    doc_string = data_np[w,:]\n",
    "    #print(len(doc_string))\n",
    "    word_indices = doc_string[1::2]\n",
    "    #print(\"word_indices\", word_indices)\n",
    "    counts = doc_string[2::2]\n",
    "    #if w==1:\n",
    "    #  print(len(word_indices), len(counts))\n",
    "    #print(\"counts\", counts)\n",
    "    N_different_words_in_this_doc = doc_string[0] # not needed.\n",
    "    D.append([])\n",
    "    all_words = []\n",
    "    for n,word in enumerate(word_indices):\n",
    "        if word==None:\n",
    "            break\n",
    "        for repetition in range(int(counts[n])):\n",
    "            #if int(counts[n])>1:\n",
    "            #  print(word, counts[n])\n",
    "            all_words.append(int(word))\n",
    "    D[-1]=all_words\n",
    "  # NOTE: D does not contain M docs with each N_d words, where each word w_n is a V-dim vector.\n",
    "  # BUT:              it has M docs with each N_d words, where each word is just the unique index v, that is one of the V-dim vector.\n",
    "  # Reason: V=10,000...\n"
   ]
  },
  {
   "cell_type": "code",
   "execution_count": 6,
   "metadata": {},
   "outputs": [
    {
     "data": {
      "text/plain": [
       "(2246, 10473)"
      ]
     },
     "execution_count": 6,
     "metadata": {},
     "output_type": "execute_result"
    }
   ],
   "source": [
    "M, V"
   ]
  },
  {
   "cell_type": "code",
   "execution_count": 7,
   "metadata": {},
   "outputs": [
    {
     "data": {
      "text/plain": [
       "Text(0, 0.5, 'count')"
      ]
     },
     "execution_count": 7,
     "metadata": {},
     "output_type": "execute_result"
    },
    {
     "data": {
      "image/png": "[encoded data removed]",
      "text/plain": [
       "<Figure size 432x288 with 1 Axes>"
      ]
     },
     "metadata": {
      "needs_background": "light"
     },
     "output_type": "display_data"
    }
   ],
   "source": [
    "lengths = []\n",
    "for i in range(len(D)):\n",
    "    lengths.append(len(D[i]))\n",
    "p = plt.hist(lengths, bins=40)\n",
    "plt.xlabel(\"Length of a document\")\n",
    "plt.ylabel(\"count\")\n",
    "\n"
   ]
  },
  {
   "cell_type": "markdown",
   "metadata": {
    "colab_type": "text",
    "id": "-Y3g6rEwdTCL"
   },
   "source": [
    "## Remove the standard words and load new Dataset (Reuters)"
   ]
  },
  {
   "cell_type": "markdown",
   "metadata": {},
   "source": [
    "#### Import the Natural Langauge Processing Package\n",
    "This provides the Reuters articles"
   ]
  },
  {
   "cell_type": "code",
   "execution_count": 8,
   "metadata": {},
   "outputs": [],
   "source": [
    "#nltk.download(\"popular\")"
   ]
  },
  {
   "cell_type": "markdown",
   "metadata": {},
   "source": [
    "#### Download the reuters data, if not already downloaded"
   ]
  },
  {
   "cell_type": "code",
   "execution_count": 9,
   "metadata": {},
   "outputs": [],
   "source": [
    "from nltk.tokenize import word_tokenize\n",
    "from nltk.corpus import stopwords\n",
    "from nltk.corpus import reuters\n",
    "\n",
    "# If you run this cell for the first time, uncomment the following line to download the corpus\n",
    "#nltk.download('reuters')\n",
    "#reuters.fileids()"
   ]
  },
  {
   "cell_type": "markdown",
   "metadata": {},
   "source": [
    "The variable reuters consists of 10788 documents, with a few labeled as test and 7769 as training documents.\n",
    "\n",
    "Below, we get the filenames of the training ones"
   ]
  },
  {
   "cell_type": "code",
   "execution_count": 10,
   "metadata": {},
   "outputs": [
    {
     "name": "stdout",
     "output_type": "stream",
     "text": [
      "M_max_reuters =  7769\n"
     ]
    }
   ],
   "source": [
    "training_ids = []\n",
    "test_ids = []\n",
    "for name in reuters.fileids():\n",
    "    if \"training\" in name:\n",
    "        training_ids.append(name)\n",
    "    else:\n",
    "        test_ids.append(name)\n",
    "print(\"M_max_reuters = \", len(training_ids) )"
   ]
  },
  {
   "cell_type": "markdown",
   "metadata": {},
   "source": [
    "There are more documents than in the AP example above. Hence, we choose only those 2246 documents (for now) and compare it"
   ]
  },
  {
   "cell_type": "code",
   "execution_count": 11,
   "metadata": {},
   "outputs": [],
   "source": [
    "M_reuters = 2246 "
   ]
  },
  {
   "cell_type": "markdown",
   "metadata": {},
   "source": [
    "training = includes a list of all the chosen documents. Each of these elements contains a list of all the words in the document"
   ]
  },
  {
   "cell_type": "code",
   "execution_count": 12,
   "metadata": {},
   "outputs": [
    {
     "name": "stdout",
     "output_type": "stream",
     "text": [
      "We have  2246  Documents with sizes:  [633, 259, 119, 155, 115, 34, 250, 83, 182, 133, 126, 85, 84, 111, 99, 101, 67, 26, 73, 140, 108, 173, 49, 236, 109, 111, 365, 42, 66, 49, 130, 90, 52, 21, 136, 14, 28, 102, 110, 67, 72, 143, 196, 31, 24, 34, 601, 32, 123, 958, 193, 118, 36, 55, 54, 113, 36, 67, 569, 25, 100, 185, 60, 145, 78, 61, 10, 87, 252, 61, 151, 466, 128, 44, 25, 179, 180, 54, 167, 42, 76, 114, 301, 506, 78, 83, 51, 111, 254, 10, 136, 186, 127, 145, 85, 34, 34, 91, 68, 77]\n"
     ]
    }
   ],
   "source": [
    "training=[]  \n",
    "for i in range(M_reuters):\n",
    "    #file=str(i+1)\n",
    "    file = training_ids[i] # filename\n",
    "    training.append(reuters.words(file)) #append the document to training\n",
    "\n",
    "doc_lengths =  [len(training[i]) for i in range(len(training))] # this is N_d (length of each of the documents)\n",
    "print(\"We have \", len(training), \" Documents with sizes: \", doc_lengths[:100])\n"
   ]
  },
  {
   "cell_type": "markdown",
   "metadata": {},
   "source": [
    "### Actually create the dataset and vocab_list\n",
    "\n",
    "Example:  \n",
    "\n",
    "a sentence/document: \"You have a cactus.\" \n",
    "\n",
    "    - want to remove the \"you\", the \"a\" and the \".\" (stopwords) \n",
    "    - add the rest to my vocab_list ie. vocab_list= [\"have\", \"cactus\"].\n",
    "    - Then, store the document as a list of indices from my vocab: Ie. the document above is stored as [0,1].\n",
    "- the Vocab is a list of all the (non-unnecessary) words in the corpus\n"
   ]
  },
  {
   "cell_type": "code",
   "execution_count": 13,
   "metadata": {},
   "outputs": [
    {
     "data": {
      "text/plain": [
       "'TEST\\ndata_test = [\"All work and no play makes 4 jack dull boy.\", \\n        \"All people make mistakes, but 4 5 jack makes no work.\",\\n        \"People are dull, jack makes 4.5 mistakes\"]\\n\\nD = create_dict(data_test)\\nD, vocab_list\\n'"
      ]
     },
     "execution_count": 13,
     "metadata": {},
     "output_type": "execute_result"
    }
   ],
   "source": [
    "vocab_list=[] # \n",
    "\n",
    "def create_dict(data, test = True):     \n",
    "    global vocab_list # change the global vocab_list\n",
    "    D=[]  # dim = (#documents, #N_reduced_d),    where N_reduced_d is the Nr of words that are not filtered / are not unnecessary\n",
    "    for d in data: # for each document\n",
    "        # Uncomment 3 lines below to test the function with the string below \n",
    "        # test=True\n",
    "        if test==False: \n",
    "           d = \" \".join(d)\n",
    "        d = \" \".join(d)\n",
    "        dclean = remove_unnecessary_words(d)   # list of all the non-unnecessary words of the document\n",
    "        d_vocabInd = []  # This is the document in terms of the indices of the words in the vocab_list (example above: [0,1])\n",
    "        for w in dclean:  # loop through these words\n",
    "            w = w.lower() \n",
    "            if w in vocab_list: \n",
    "                pass # word is already in vocab_list\n",
    "            else:\n",
    "                #add word to vocab_list\n",
    "                vocab_list.append(w)\n",
    "            \n",
    "            # Store the word as the document\n",
    "            v = vocab_list.index(w) #index v\n",
    "            d_vocabInd.append(v)\n",
    "            \n",
    "        D.append(d_vocabInd)   # Add document to corpus\n",
    "    return D\n",
    "\n",
    "\n",
    "def remove_unnecessary_words(document):\n",
    "    words = word_tokenize(document)\n",
    "    wordsFiltered = []\n",
    "    for w in words:\n",
    "        if conditions(w):  # all the conditions what defines an unnecessary word\n",
    "            # word is not unnecessary --> add to cleaned document\n",
    "            wordsFiltered.append(w)\n",
    "            \n",
    "    return wordsFiltered\n",
    "\n",
    "\n",
    "def conditions(word):\n",
    "    '''Return True if all conditions are fulfilled'''\n",
    "    Cond=True\n",
    "    # Word is no stopword\n",
    "    Cond *= (word not in stopwords.words('english'))\n",
    "    # Word is no special sign (like \".\")\n",
    "    Cond *= (word not in ['.', ',', ';', '-', '+', \\\n",
    "                             '?', '!', '=', '(', ')', \\\n",
    "                            '/', '&', '$', '€'])\n",
    "    # Word is no float (\"4.2\")\n",
    "    if (\".\" in word) or (\",\" in word):\n",
    "        if word[0].isdecimal():\n",
    "            Cond=False\n",
    "    # Word is no digit\n",
    "    Cond *= (not word.isdigit())\n",
    "    Cond *= (not word.isdecimal())\n",
    "    \n",
    "    return Cond\n",
    "\n",
    "'''TEST\n",
    "data_test = [\"All work and no play makes 4 jack dull boy.\", \n",
    "        \"All people make mistakes, but 4 5 jack makes no work.\",\n",
    "        \"People are dull, jack makes 4.5 mistakes\"]\n",
    "\n",
    "D = create_dict(data_test)\n",
    "D, vocab_list\n",
    "'''"
   ]
  },
  {
   "cell_type": "markdown",
   "metadata": {},
   "source": [
    "#### Actually do the pre-processing"
   ]
  },
  {
   "cell_type": "code",
   "execution_count": 17,
   "metadata": {},
   "outputs": [
    {
     "name": "stdout",
     "output_type": "stream",
     "text": [
      "Rows = Document[1..M] (first 100 docs only), Column = Word_in_Doc[1...N_doc], data = Index in Vocab\n",
      "     0     1       2       3       4       5       6       7       8    \\\n",
      "0      0     1     2.0     3.0     4.0     5.0     6.0     0.0     1.0   \n",
      "1    158   159   160.0   161.0   162.0   163.0   164.0   165.0   158.0   \n",
      "2    176   241   242.0   243.0   244.0   245.0   246.0   247.0   113.0   \n",
      "3    260   261    44.0   262.0   263.0   161.0   264.0   163.0   265.0   \n",
      "4    298   161   299.0   163.0   300.0   301.0   302.0   303.0   304.0   \n",
      "5    328   329   186.0   330.0   331.0   161.0   328.0   329.0   332.0   \n",
      "6    134   340   341.0   342.0    61.0   343.0   344.0   345.0   346.0   \n",
      "7    412   166   161.0   413.0   163.0    31.0   303.0   414.0   415.0   \n",
      "8    426   427   428.0   252.0   191.0    85.0   429.0   427.0   428.0   \n",
      "9    449   450   451.0     1.0   452.0   453.0   454.0    26.0   113.0   \n",
      "10   490   491   492.0    24.0   493.0   494.0   495.0   496.0   497.0   \n",
      "11   534   161   535.0   163.0   164.0   165.0   536.0   537.0   538.0   \n",
      "12   559   560   166.0   161.0   561.0   163.0    31.0    33.0   562.0   \n",
      "13   307   567   161.0   568.0   163.0   493.0   188.0   550.0   243.0   \n",
      "14   582   583   584.0   161.0   585.0   163.0   586.0   302.0   303.0   \n",
      "15   260   593   166.0   161.0   594.0   163.0   595.0   302.0   415.0   \n",
      "16   607   306   161.0   608.0   163.0   595.0   302.0   415.0   414.0   \n",
      "17   611   612   300.0   292.0   414.0   586.0   302.0   415.0   613.0   \n",
      "18   226   192   176.0   616.0   617.0   166.0   161.0   618.0   163.0   \n",
      "19   619   620   161.0   621.0   163.0   493.0   622.0   623.0   539.0   \n",
      "20   582   583   584.0   161.0   585.0   163.0   586.0   302.0   303.0   \n",
      "21   660   661   662.0   247.0   663.0   664.0   660.0   161.0   665.0   \n",
      "22   161   696   697.0   163.0   698.0    60.0   699.0   536.0   700.0   \n",
      "23   676   311   707.0   669.0    85.0   708.0   709.0   433.0   708.0   \n",
      "24   741   306   161.0   742.0   163.0   595.0   302.0   303.0   415.0   \n",
      "25   746   537   747.0   748.0   606.0   749.0   537.0   750.0   346.0   \n",
      "26   781   192   135.0   782.0   783.0   784.0   785.0   493.0   786.0   \n",
      "27   874   875   617.0   166.0   262.0   876.0   877.0   878.0   191.0   \n",
      "28   534   161   535.0   163.0   881.0   537.0   538.0   539.0   534.0   \n",
      "29   883   884   885.0   161.0   886.0   163.0    31.0   415.0   414.0   \n",
      "..   ...   ...     ...     ...     ...     ...     ...     ...     ...   \n",
      "70   582   939   161.0  1600.0   163.0   300.0   315.0   301.0   302.0   \n",
      "71  1210   161  1620.0   163.0   944.0   755.0    33.0    61.0   746.0   \n",
      "72  1673  1644   283.0  1674.0   126.0  1675.0   450.0   184.0    26.0   \n",
      "73  1690  1691   106.0  1692.0   161.0  1693.0   163.0    31.0   303.0   \n",
      "74   905   697   789.0   161.0  1694.0   163.0   890.0   876.0   877.0   \n",
      "75  1695   166   161.0  1696.0   163.0   595.0   302.0   303.0  1527.0   \n",
      "76  1700  1701   161.0  1702.0   163.0   879.0   605.0   226.0  1703.0   \n",
      "77   544  1721   166.0   161.0  1722.0   163.0  1723.0  1724.0   987.0   \n",
      "78   134   135   927.0   161.0  1726.0   163.0   300.0   674.0   307.0   \n",
      "79  1741  1742  1002.0   161.0  1743.0   163.0   262.0   987.0  1741.0   \n",
      "80  1744  1745   166.0   161.0  1746.0   163.0   595.0   302.0   303.0   \n",
      "81  1747  1748   134.0   135.0  1749.0   493.0   663.0  1747.0  1750.0   \n",
      "82     1   454  1756.0  1399.0  1757.0  1758.0   266.0     1.0  1558.0   \n",
      "83   525  1803  1804.0   491.0   519.0  1805.0   346.0   537.0   511.0   \n",
      "84   307   389   161.0  1893.0   163.0  1894.0  1895.0   307.0   389.0   \n",
      "85  1903  1509   161.0  1904.0   163.0   539.0    85.0  1905.0  1903.0   \n",
      "86   161  1914   996.0   166.0   163.0    31.0   415.0   414.0  1158.0   \n",
      "87  1916   161  1917.0   163.0   336.0   589.0   587.0   303.0   414.0   \n",
      "88  1924  1925   304.0   191.0  1926.0   246.0  1927.0   676.0   526.0   \n",
      "89  1949  1949     NaN     NaN     NaN     NaN     NaN     NaN     NaN   \n",
      "90  1950   778   539.0   733.0  1951.0  1952.0   184.0  1115.0  1470.0   \n",
      "91  1968   984   161.0  1969.0   163.0   300.0   301.0   302.0   415.0   \n",
      "92  1987   161  1988.0   163.0  1989.0   161.0  1989.0   163.0    85.0   \n",
      "93  1995  1996   161.0  1997.0   163.0  1947.0   940.0  1998.0  1995.0   \n",
      "94   916  2018   161.0  2019.0   163.0  2020.0   161.0  2021.0   163.0   \n",
      "95   176  2038   540.0  1496.0   682.0    41.0   109.0    85.0   108.0   \n",
      "96   134   135   847.0  1007.0   246.0    41.0   109.0    85.0   108.0   \n",
      "97   113   120   540.0  1496.0   682.0    41.0   109.0   847.0   683.0   \n",
      "98   176  2038   243.0  2044.0  2045.0   416.0    85.0     6.0    26.0   \n",
      "99  2049   161  2050.0   163.0  1894.0   582.0  2051.0  2049.0   166.0   \n",
      "\n",
      "       9    ...  482  483  484  485  486  487  488  489  490  491  \n",
      "0      7.0  ...  NaN  NaN  NaN  NaN  NaN  NaN  NaN  NaN  NaN  NaN  \n",
      "1    159.0  ...  NaN  NaN  NaN  NaN  NaN  NaN  NaN  NaN  NaN  NaN  \n",
      "2    248.0  ...  NaN  NaN  NaN  NaN  NaN  NaN  NaN  NaN  NaN  NaN  \n",
      "3    263.0  ...  NaN  NaN  NaN  NaN  NaN  NaN  NaN  NaN  NaN  NaN  \n",
      "4    305.0  ...  NaN  NaN  NaN  NaN  NaN  NaN  NaN  NaN  NaN  NaN  \n",
      "5    333.0  ...  NaN  NaN  NaN  NaN  NaN  NaN  NaN  NaN  NaN  NaN  \n",
      "6    347.0  ...  NaN  NaN  NaN  NaN  NaN  NaN  NaN  NaN  NaN  NaN  \n",
      "7    416.0  ...  NaN  NaN  NaN  NaN  NaN  NaN  NaN  NaN  NaN  NaN  \n",
      "8     98.0  ...  NaN  NaN  NaN  NaN  NaN  NaN  NaN  NaN  NaN  NaN  \n",
      "9    120.0  ...  NaN  NaN  NaN  NaN  NaN  NaN  NaN  NaN  NaN  NaN  \n",
      "10   498.0  ...  NaN  NaN  NaN  NaN  NaN  NaN  NaN  NaN  NaN  NaN  \n",
      "11   539.0  ...  NaN  NaN  NaN  NaN  NaN  NaN  NaN  NaN  NaN  NaN  \n",
      "12   563.0  ...  NaN  NaN  NaN  NaN  NaN  NaN  NaN  NaN  NaN  NaN  \n",
      "13   307.0  ...  NaN  NaN  NaN  NaN  NaN  NaN  NaN  NaN  NaN  NaN  \n",
      "14    28.0  ...  NaN  NaN  NaN  NaN  NaN  NaN  NaN  NaN  NaN  NaN  \n",
      "15   414.0  ...  NaN  NaN  NaN  NaN  NaN  NaN  NaN  NaN  NaN  NaN  \n",
      "16   415.0  ...  NaN  NaN  NaN  NaN  NaN  NaN  NaN  NaN  NaN  NaN  \n",
      "17   614.0  ...  NaN  NaN  NaN  NaN  NaN  NaN  NaN  NaN  NaN  NaN  \n",
      "18   595.0  ...  NaN  NaN  NaN  NaN  NaN  NaN  NaN  NaN  NaN  NaN  \n",
      "19   620.0  ...  NaN  NaN  NaN  NaN  NaN  NaN  NaN  NaN  NaN  NaN  \n",
      "20   302.0  ...  NaN  NaN  NaN  NaN  NaN  NaN  NaN  NaN  NaN  NaN  \n",
      "21   579.0  ...  NaN  NaN  NaN  NaN  NaN  NaN  NaN  NaN  NaN  NaN  \n",
      "22   161.0  ...  NaN  NaN  NaN  NaN  NaN  NaN  NaN  NaN  NaN  NaN  \n",
      "23   710.0  ...  NaN  NaN  NaN  NaN  NaN  NaN  NaN  NaN  NaN  NaN  \n",
      "24   414.0  ...  NaN  NaN  NaN  NaN  NaN  NaN  NaN  NaN  NaN  NaN  \n",
      "25   751.0  ...  NaN  NaN  NaN  NaN  NaN  NaN  NaN  NaN  NaN  NaN  \n",
      "26   392.0  ...  NaN  NaN  NaN  NaN  NaN  NaN  NaN  NaN  NaN  NaN  \n",
      "27   879.0  ...  NaN  NaN  NaN  NaN  NaN  NaN  NaN  NaN  NaN  NaN  \n",
      "28   166.0  ...  NaN  NaN  NaN  NaN  NaN  NaN  NaN  NaN  NaN  NaN  \n",
      "29   415.0  ...  NaN  NaN  NaN  NaN  NaN  NaN  NaN  NaN  NaN  NaN  \n",
      "..     ...  ...  ...  ...  ...  ...  ...  ...  ...  ...  ...  ...  \n",
      "70   303.0  ...  NaN  NaN  NaN  NaN  NaN  NaN  NaN  NaN  NaN  NaN  \n",
      "71  1071.0  ...  NaN  NaN  NaN  NaN  NaN  NaN  NaN  NaN  NaN  NaN  \n",
      "72  1676.0  ...  NaN  NaN  NaN  NaN  NaN  NaN  NaN  NaN  NaN  NaN  \n",
      "73   414.0  ...  NaN  NaN  NaN  NaN  NaN  NaN  NaN  NaN  NaN  NaN  \n",
      "74   292.0  ...  NaN  NaN  NaN  NaN  NaN  NaN  NaN  NaN  NaN  NaN  \n",
      "75   414.0  ...  NaN  NaN  NaN  NaN  NaN  NaN  NaN  NaN  NaN  NaN  \n",
      "76  1700.0  ...  NaN  NaN  NaN  NaN  NaN  NaN  NaN  NaN  NaN  NaN  \n",
      "77   544.0  ...  NaN  NaN  NaN  NaN  NaN  NaN  NaN  NaN  NaN  NaN  \n",
      "78   302.0  ...  NaN  NaN  NaN  NaN  NaN  NaN  NaN  NaN  NaN  NaN  \n",
      "79  1742.0  ...  NaN  NaN  NaN  NaN  NaN  NaN  NaN  NaN  NaN  NaN  \n",
      "80   414.0  ...  NaN  NaN  NaN  NaN  NaN  NaN  NaN  NaN  NaN  NaN  \n",
      "81  1174.0  ...  NaN  NaN  NaN  NaN  NaN  NaN  NaN  NaN  NaN  NaN  \n",
      "82   192.0  ...  NaN  NaN  NaN  NaN  NaN  NaN  NaN  NaN  NaN  NaN  \n",
      "83   346.0  ...  NaN  NaN  NaN  NaN  NaN  NaN  NaN  NaN  NaN  NaN  \n",
      "84  1896.0  ...  NaN  NaN  NaN  NaN  NaN  NaN  NaN  NaN  NaN  NaN  \n",
      "85  1509.0  ...  NaN  NaN  NaN  NaN  NaN  NaN  NaN  NaN  NaN  NaN  \n",
      "86   415.0  ...  NaN  NaN  NaN  NaN  NaN  NaN  NaN  NaN  NaN  NaN  \n",
      "87   292.0  ...  NaN  NaN  NaN  NaN  NaN  NaN  NaN  NaN  NaN  NaN  \n",
      "88   192.0  ...  NaN  NaN  NaN  NaN  NaN  NaN  NaN  NaN  NaN  NaN  \n",
      "89     NaN  ...  NaN  NaN  NaN  NaN  NaN  NaN  NaN  NaN  NaN  NaN  \n",
      "90   526.0  ...  NaN  NaN  NaN  NaN  NaN  NaN  NaN  NaN  NaN  NaN  \n",
      "91  1968.0  ...  NaN  NaN  NaN  NaN  NaN  NaN  NaN  NaN  NaN  NaN  \n",
      "92   952.0  ...  NaN  NaN  NaN  NaN  NaN  NaN  NaN  NaN  NaN  NaN  \n",
      "93  1996.0  ...  NaN  NaN  NaN  NaN  NaN  NaN  NaN  NaN  NaN  NaN  \n",
      "94   656.0  ...  NaN  NaN  NaN  NaN  NaN  NaN  NaN  NaN  NaN  NaN  \n",
      "95     6.0  ...  NaN  NaN  NaN  NaN  NaN  NaN  NaN  NaN  NaN  NaN  \n",
      "96     6.0  ...  NaN  NaN  NaN  NaN  NaN  NaN  NaN  NaN  NaN  NaN  \n",
      "97  1496.0  ...  NaN  NaN  NaN  NaN  NaN  NaN  NaN  NaN  NaN  NaN  \n",
      "98   564.0  ...  NaN  NaN  NaN  NaN  NaN  NaN  NaN  NaN  NaN  NaN  \n",
      "99    24.0  ...  NaN  NaN  NaN  NaN  NaN  NaN  NaN  NaN  NaN  NaN  \n",
      "\n",
      "[100 rows x 492 columns]\n"
     ]
    }
   ],
   "source": [
    "vocab_list=[] # init vocab_list\n",
    "\n",
    "D_reuters=create_dict(training)\n",
    "\n",
    "print(\"Rows = Document[1..M] (first 100 docs only), Column = Word_in_Doc[1...N_doc], data = Index in Vocab\")\n",
    "print(pd.DataFrame(D_reuters[:100], dtype=int))\n",
    "#print(vocab_list)"
   ]
  },
  {
   "cell_type": "markdown",
   "metadata": {},
   "source": [
    "### Following: Just analysis of the Reuters data."
   ]
  },
  {
   "cell_type": "code",
   "execution_count": 18,
   "metadata": {},
   "outputs": [
    {
     "name": "stdout",
     "output_type": "stream",
     "text": [
      "V  13492 , M  2246\n"
     ]
    }
   ],
   "source": [
    "V_reuters = len(vocab_list)\n",
    "M_reuters = len(D_reuters)\n",
    "print(\"V \",V_reuters, \", M \", M_reuters)"
   ]
  },
  {
   "cell_type": "code",
   "execution_count": 19,
   "metadata": {},
   "outputs": [
    {
     "name": "stdout",
     "output_type": "stream",
     "text": [
      "159.87177203918077 88.97150489759572\n"
     ]
    },
    {
     "data": {
      "text/plain": [
       "Text(0.5, 1.0, 'Reuters')"
      ]
     },
     "execution_count": 19,
     "metadata": {},
     "output_type": "execute_result"
    },
    {
     "data": {
      "image/png": "[encoded data removed]",
      "text/plain": [
       "<Figure size 432x288 with 1 Axes>"
      ]
     },
     "metadata": {
      "needs_background": "light"
     },
     "output_type": "display_data"
    }
   ],
   "source": [
    "lengths = [] # Lengths of the cleaned documents \n",
    "for i in range(len(D_reuters)):\n",
    "    lengths.append(len(D_reuters[i]))\n",
    "p = plt.hist(lengths, bins=40)\n",
    "p = plt.hist(doc_lengths, bins=40, alpha=0.5) # document lengths (uncleaned)\n",
    "\n",
    "print(np.mean(doc_lengths), np.mean(lengths))\n",
    "\n",
    "plt.xlabel(\"Length of a document\")\n",
    "plt.ylabel(\"count\")\n",
    "plt.title(\"Reuters\")"
   ]
  },
  {
   "cell_type": "code",
   "execution_count": 20,
   "metadata": {},
   "outputs": [
    {
     "data": {
      "image/png": "[encoded data removed]",
      "text/plain": [
       "<Figure size 432x288 with 1 Axes>"
      ]
     },
     "metadata": {
      "needs_background": "light"
     },
     "output_type": "display_data"
    }
   ],
   "source": [
    "# How many words did the cleaning remove?\n",
    "removed_words = np.array(doc_lengths)-np.array(lengths)\n",
    "bla = plt.hist(removed_words, bins=100)"
   ]
  },
  {
   "cell_type": "code",
   "execution_count": null,
   "metadata": {},
   "outputs": [],
   "source": [
    "#Percentage of docs in which we removed from 20 to 100 words, and mean\n",
    "print(\"Percentage:\", np.sum(((removed_words<=100)*(removed_words>=20)))/removed_words.shape[0])\n",
    "print(np.mean(removed_words), np.std(removed_words))"
   ]
  },
  {
   "cell_type": "code",
   "execution_count": null,
   "metadata": {},
   "outputs": [],
   "source": [
    "print(\"Example: \")\n",
    "print(\"\\n D AP:\")\n",
    "print(D[100][:15], \"   Note: if the same word appears more often in the doc, it appears in direct sequence. Hence, the same index might appear multiple times in sequence\")\n",
    "print(\"\\n D Reuters:\")\n",
    "print(D_reuters[100][:15])"
   ]
  },
  {
   "cell_type": "markdown",
   "metadata": {
    "colab_type": "text",
    "id": "j1qxBd2fcDLG"
   },
   "source": [
    "### Variational Inference (the E-Step)"
   ]
  },
  {
   "cell_type": "code",
   "execution_count": null,
   "metadata": {
    "colab": {},
    "colab_type": "code",
    "id": "k8BL3H0scDLJ"
   },
   "outputs": [],
   "source": [
    "def updateGammaPhi(k, alpha, beta, w, tol=1e-5, MAX_STEPS=100, verbose=False):\n",
    "    ''' This implements the update equations for Gamma and Phi for a variational inference step.\n",
    "     Inputs: \n",
    "        k=int=number of topics;  \n",
    "        alpha=[k]-vec=priors_of_theta(mixture_weights);  \n",
    "        beta=[NxV]-matrix=prob_of_word_v_given_topic_\n",
    "        w=word\n",
    "    '''\n",
    "    N = len(w)\n",
    "    # Init    \n",
    "    phi = 1/k * np.ones([N,k])\n",
    "    gamma = alpha + np.ones([k]) * N/k \n",
    "    \n",
    "    q_old = compute_lower_bound_likelihood(w, k, phi, gamma, alpha, beta, verbose = verbose)\n",
    "    converged = False\n",
    "    \n",
    "    #Loop\n",
    "    security_count=0\n",
    "    \n",
    "    while (not converged) and (security_count < MAX_STEPS):\n",
    "        security_count+=1\n",
    "        \n",
    "        phi_old = np.copy(phi)\n",
    "        logphi = np.zeros_like(phi)\n",
    "        gamma_old = np.copy(gamma)\n",
    "        \n",
    "        for n in range(N):\n",
    "            for i in range(k):\n",
    "                w_n = w[n] ## this is not a V-Vector, but just the index of the word in the vocab\n",
    "                #beta_iv is p(w_n^v = 1 | z^i = 1) \n",
    "                v = w_n   #unique v for each word w_n\n",
    "                \n",
    "                ### TRICK: instead of phi=beta+e^{psi(gamma)}, do \n",
    "                logphi[n,i] = np.log(beta[i,v]) + (psi(gamma_old[i]))#\n",
    "                phi[n,i] = np.exp(logphi[n,i])\n",
    "                \n",
    "            #normalize Phi: s.t. for each topic the sum of phi[n,:] is 1.\n",
    "            phi[n,:] = phi[n,:]/np.sum(phi[n,:])\n",
    "        gamma = alpha + np.sum(phi,axis=0)\n",
    "       \n",
    "        # Convergence criterion is: lower bound of likleihood\n",
    "        q_new = compute_lower_bound_likelihood(w, k, phi, gamma, alpha, beta, verbose=verbose)\n",
    "        #print(\"Liks, \", q_new, q_old)#,  compute_lda_lhood(w,phi,gamma,alpha,beta,k))\n",
    "        if abs(q_new-q_old)/q_old < tol:\n",
    "            converged = True\n",
    "        else: \n",
    "            q_old=np.copy(q_new)\n",
    "        \n",
    "    return q_new, gamma, phi\n",
    "\n",
    "def psi(gamma_i):\n",
    "    # this is the first derivative (via Taylor approximation) of the log \\Gamma function\n",
    "    # according to Wikipedia this is the \"digamma\" function\n",
    "    return scipy.special.digamma(gamma_i)\n",
    "\n"
   ]
  },
  {
   "cell_type": "code",
   "execution_count": null,
   "metadata": {
    "colab": {},
    "colab_type": "code",
    "id": "ZhAPHiqOMHOn"
   },
   "outputs": [],
   "source": [
    "def compute_lower_bound_likelihood(w, k, phi, gamma, alpha, beta, verbose=False):\n",
    "    '''\n",
    "    This calculate the lower bound of L(gamma, phi, alpha, beta)\n",
    "    Ie. equation 15 in the paper in Appendix 3.\n",
    "    Only one \n",
    "    '''\n",
    "    \n",
    "    N = len(w)\n",
    "    global V # length of the vocab\n",
    "    \n",
    "    loggamma_sum = lambda x: scipy.special.gammaln(np.sum(x))\n",
    "    loggamma_x_i = lambda x, i: np.log(scipy.special.gamma(x[i]))\n",
    "    E_log_thetai_givenGamma = lambda i:  (psi(gamma[i]) - psi(np.sum(gamma))) \n",
    "\n",
    "    #print(\"gamma, alpha= \", gamma,alpha)\n",
    "    L = loggamma_sum(alpha) - loggamma_sum(gamma)\n",
    "    #if verbose: print(\"#0: \", L, end=\", \")\n",
    "    for i in range(k):\n",
    "        L += -loggamma_x_i(alpha,i) + (alpha[i]-1)*E_log_thetai_givenGamma(i)\n",
    "        L += +loggamma_x_i(gamma,i) - (gamma[i]-1)*E_log_thetai_givenGamma(i)\n",
    "        #if verbose: print(\"#\",i,\": \", L, end=\", \")\n",
    "        for n in range(N):\n",
    "            L+= phi[n,i] * E_log_thetai_givenGamma(i)\n",
    "            L+= - phi[n,i] *np.log(phi[n,i])\n",
    "            v = w[n] # here w_n is not a vector\n",
    "            L+= phi[n,i] * np.log(beta[i,v]) \n",
    "            #if verbose: print(\"#\",i,\",\",n,\": \", L, \", v=\",v, end=\", \")\n",
    "    if verbose: print(L, \"\\n\")\n",
    "    return L\n",
    "    "
   ]
  },
  {
   "cell_type": "code",
   "execution_count": null,
   "metadata": {
    "colab": {},
    "colab_type": "code",
    "id": "M1MHz8jCcDLa"
   },
   "outputs": [],
   "source": [
    "def E_step(D, k, alpha, beta, MAX_COUNTER=10, verbose=False):\n",
    "    gamma_list = []\n",
    "    phi_list = []\n",
    "    counter=0\n",
    "    likelihood_list = []\n",
    "    for d, doc in enumerate(D):\n",
    "        counter+=1\n",
    "        # doc is a N_d Vector containing indices of all words\n",
    "        if verbose: print(\"Doc: \"+str(d)+\" (\"+str(len(doc))+\")\", end=\", \")#, len(doc[0]))\n",
    "        likelihood, gamma, phi = updateGammaPhi(k, alpha, beta, doc, verbose=verbose)\n",
    "        gamma_list.append(gamma)\n",
    "        phi_list.append(phi)\n",
    "        likelihood_list.append(likelihood)\n",
    "        # Stop this if sufficient statistics (how do i know this?)\n",
    "        if verbose and counter%10 ==0:\n",
    "            print(gamma, likelihood)\n",
    "        # calculate the approximate q(theta, z | gamma, phi)\n",
    "        if counter> MAX_COUNTER:\n",
    "            break\n",
    "    return likelihood_list, gamma_list, phi_list\n"
   ]
  },
  {
   "cell_type": "markdown",
   "metadata": {
    "colab_type": "text",
    "id": "2bwKHt5Lkbnu"
   },
   "source": [
    "## M-Step"
   ]
  },
  {
   "cell_type": "code",
   "execution_count": null,
   "metadata": {},
   "outputs": [],
   "source": [
    "def psi_d1(x):\n",
    "    # this is the first derivative (via Taylor approximation) of the digamma function\n",
    "    return scipy.special.digamma(1, x)\n",
    "\n",
    "def psi_d2(x):\n",
    "    # this is the second derivative of the digamma function\n",
    "    return scipy.special.polygamma(2, x)\n",
    "\n",
    "# def updateAlphaBeta(k, gamma, phi, w, tol=1e-5, MAX_STEPS=100, verbose=False):\n",
    "#     ''' This implements the update equations for Alpha and Beta for maximazation step\n",
    "#      Inputs: \n",
    "#         k=int=number of topics;  \n",
    "#         gamma=[k]-vec=posterior_of_theta(mixture_weights);  \n",
    "#         phi=[NxV]-matrix=posterior_prob_of_word_v_given_topic_\n",
    "#         w=word\n",
    "#     '''\n",
    "#     pass"
   ]
  },
  {
   "cell_type": "code",
   "execution_count": 21,
   "metadata": {
    "colab": {
     "base_uri": "https://localhost:8080/",
     "height": 132
    },
    "colab_type": "code",
    "executionInfo": {
     "elapsed": 833,
     "status": "error",
     "timestamp": 1578575254498,
     "user": {
      "displayName": "Peter Steiglechner",
      "photoUrl": "",
      "userId": "08437803724975041227"
     },
     "user_tz": -60
    },
    "id": "QpOodnOHkcyS",
    "outputId": "9e69987e-967c-4706-c5f8-8df27ebe63a8"
   },
   "outputs": [
    {
     "ename": "SyntaxError",
     "evalue": "invalid syntax (<ipython-input-21-cbfcf70e900e>, line 6)",
     "output_type": "error",
     "traceback": [
      "\u001b[1;36m  File \u001b[1;32m\"<ipython-input-21-cbfcf70e900e>\"\u001b[1;36m, line \u001b[1;32m6\u001b[0m\n\u001b[1;33m    for i in range(K)\u001b[0m\n\u001b[1;37m                     ^\u001b[0m\n\u001b[1;31mSyntaxError\u001b[0m\u001b[1;31m:\u001b[0m invalid syntax\n"
     ]
    }
   ],
   "source": [
    "def M_step(D, K, V, gamma_list, phi_list): \n",
    "    \n",
    "    M = len(D)\n",
    "    beta = np.zeros()\n",
    "    for d, doc in ennumerate(D):\n",
    "        for i in range(K):\n",
    "            for n, v in ennumerate(doc):\n",
    "                beta[i][v] += phi_list[d][n][i]\n",
    "            \n",
    "            bets[i] = beta[i]/np.sum(beta[i])\n",
    "        \n",
    "        \n",
    "    \n",
    "    pass"
   ]
  },
  {
   "cell_type": "markdown",
   "metadata": {
    "colab_type": "text",
    "id": "XlMgdbYiKmZB"
   },
   "source": [
    "## Initialisation"
   ]
  },
  {
   "cell_type": "code",
   "execution_count": 15,
   "metadata": {
    "colab": {},
    "colab_type": "code",
    "id": "wT8WK33FKleu"
   },
   "outputs": [],
   "source": [
    "k= 4\n",
    "V= 10473\n",
    "\n",
    "alpha=np.ones([k])*0.01\n",
    "\n",
    "beta = np.zeros([k,V])+0.01\n"
   ]
  },
  {
   "cell_type": "code",
   "execution_count": 16,
   "metadata": {
    "colab": {},
    "colab_type": "code",
    "id": "1SNSQlB7KlY4",
    "scrolled": false
   },
   "outputs": [
    {
     "ename": "NameError",
     "evalue": "name 'E_step' is not defined",
     "output_type": "error",
     "traceback": [
      "\u001b[1;31m---------------------------------------------------------------------------\u001b[0m",
      "\u001b[1;31mNameError\u001b[0m                                 Traceback (most recent call last)",
      "\u001b[1;32m<ipython-input-16-4b57e8c2822c>\u001b[0m in \u001b[0;36m<module>\u001b[1;34m\u001b[0m\n\u001b[0;32m      1\u001b[0m \u001b[0mlikelihood_list\u001b[0m\u001b[1;33m,\u001b[0m \u001b[0mgamma_list\u001b[0m\u001b[1;33m,\u001b[0m \u001b[0mphi_list\u001b[0m \u001b[1;33m=\u001b[0m\u001b[0;31m \u001b[0m\u001b[0;31m\\\u001b[0m\u001b[1;33m\u001b[0m\u001b[1;33m\u001b[0m\u001b[0m\n\u001b[1;32m----> 2\u001b[1;33m     \u001b[0mE_step\u001b[0m\u001b[1;33m(\u001b[0m\u001b[0mD\u001b[0m\u001b[1;33m,\u001b[0m \u001b[0mk\u001b[0m\u001b[1;33m,\u001b[0m \u001b[0malpha\u001b[0m\u001b[1;33m,\u001b[0m \u001b[0mbeta\u001b[0m\u001b[1;33m,\u001b[0m \u001b[0mMAX_COUNTER\u001b[0m\u001b[1;33m=\u001b[0m\u001b[1;36m100\u001b[0m\u001b[1;33m,\u001b[0m \u001b[0mverbose\u001b[0m\u001b[1;33m=\u001b[0m\u001b[1;32mFalse\u001b[0m\u001b[1;33m)\u001b[0m \u001b[1;31m# MAX_COUNTER == Training set size\u001b[0m\u001b[1;33m\u001b[0m\u001b[1;33m\u001b[0m\u001b[0m\n\u001b[0m",
      "\u001b[1;31mNameError\u001b[0m: name 'E_step' is not defined"
     ]
    }
   ],
   "source": [
    "likelihood_list, gamma_list, phi_list = \\\n",
    "    E_step(D, k, alpha, beta, MAX_COUNTER=100, verbose=False) # MAX_COUNTER == Training set size"
   ]
  },
  {
   "cell_type": "code",
   "execution_count": 342,
   "metadata": {
    "colab": {
     "base_uri": "https://localhost:8080/",
     "height": 54
    },
    "colab_type": "code",
    "executionInfo": {
     "elapsed": 716,
     "status": "ok",
     "timestamp": 1578574395942,
     "user": {
      "displayName": "Peter Steiglechner",
      "photoUrl": "",
      "userId": "08437803724975041227"
     },
     "user_tz": -60
    },
    "id": "m3Mvnv9tKlTp",
    "outputId": "b94ced5a-5811-4e7c-f75a-5116ffdaadb1"
   },
   "outputs": [
    {
     "data": {
      "text/plain": [
       "[<matplotlib.lines.Line2D at 0x7f6e261606d8>]"
      ]
     },
     "execution_count": 342,
     "metadata": {},
     "output_type": "execute_result"
    },
    {
     "data": {
      "image/png": "[encoded data removed]",
      "text/plain": [
       "<Figure size 432x288 with 1 Axes>"
      ]
     },
     "metadata": {
      "needs_background": "light"
     },
     "output_type": "display_data"
    }
   ],
   "source": [
    "plt.plot(likelihood_list, 'x')"
   ]
  }
 ],
 "metadata": {
  "colab": {
   "collapsed_sections": [],
   "name": "AdvML_project.ipynb",
   "provenance": []
  },
  "kernelspec": {
   "display_name": "Python 3",
   "language": "python",
   "name": "python3"
  },
  "language_info": {
   "codemirror_mode": {
    "name": "ipython",
    "version": 3
   },
   "file_extension": ".py",
   "mimetype": "text/x-python",
   "name": "python",
   "nbconvert_exporter": "python",
   "pygments_lexer": "ipython3",
   "version": "3.7.3"
  }
 },
 "nbformat": 4,
 "nbformat_minor": 1
}
