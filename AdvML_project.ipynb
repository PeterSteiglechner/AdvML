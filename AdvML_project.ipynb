{
 "cells": [
  {
   "cell_type": "markdown",
   "metadata": {
    "colab_type": "text",
    "id": "be_iIWK5cDKa"
   },
   "source": [
    "# Project Adv ML"
   ]
  },
  {
   "cell_type": "code",
   "execution_count": 1,
   "metadata": {
    "colab": {},
    "colab_type": "code",
    "id": "9-IscMsTcDKh"
   },
   "outputs": [],
   "source": [
    "import numpy as np \n",
    "import matplotlib.pyplot as plt \n",
    "import scipy\n",
    "from scipy import special\n",
    "import pandas as pd\n",
    "import nltk"
   ]
  },
  {
   "cell_type": "markdown",
   "metadata": {
    "colab_type": "text",
    "id": "ASugsoSOcDKx"
   },
   "source": [
    "### Setup"
   ]
  },
  {
   "cell_type": "raw",
   "metadata": {
    "colab": {},
    "colab_type": "code",
    "id": "aFfdzosccDK0"
   },
   "source": [
    "PARAMETERS:\n",
    "\n",
    "k - number of topics\n",
    "N - number of words in a document (different for each document)\n",
    "M - number of documents in a corpus\n",
    "\n",
    "Model parameters:\n",
    "z_n - [k] dimension vector; topic distribution for word n \n",
    "Theta - [k] dimension vector; mixture weights\n",
    "alpha - [k] dimension vector; prior probability for theta (mixture weights) (alpha > 0)\n",
    "beta - [k x V] dimension matrix; beta_ij = p(w^j = 1 | z^i = 1) \n",
    "                                 probability for a specific word j given a specific topic i\n",
    "D - list of [V x N] dimension matrices, that is M long = [\\mathbf{w}_1, ... \\mathbf{w}_M];\n",
    "                                 where \\mathbf{w} = [w_1,...,w_N] is [V x N] (one document consisting of N words) \n",
    "\n",
    "\n",
    "Variational parameters:\n",
    "Gamma - [k] dimension vector; determines Theta in the Variational Model\n",
    "Phi = phi_1 .. phi_N - [N x k] dimension matrix; determines the probability distribution \n",
    "                                 for topics z of words in the Variational Model\n",
    "\n"
   ]
  },
  {
   "cell_type": "markdown",
   "metadata": {
    "colab_type": "text",
    "id": "fqevQ4p3c-kp"
   },
   "source": [
    "## Load the Document Corpus\n",
    "Download the data from \n",
    "https://github.com/Blei-Lab/lda-c/blob/master/example/ap.tgz\n",
    "\n",
    "We can directly load the file \"ap.dat\" which contains:\n",
    "\n",
    "1 line = 1 document,\n",
    "\n",
    "[number of different words in doc] [word index (where the one is in w_n]:[how often it occurs in the doc] [word index 2]:[occurences 2] ..."
   ]
  },
  {
   "cell_type": "code",
   "execution_count": 2,
   "metadata": {
    "colab": {},
    "colab_type": "code",
    "id": "-Ea5B3x4Kxqj"
   },
   "outputs": [],
   "source": [
    "vocab = pd.read_csv(\"./ap/vocab.txt\", header=None)\n",
    "V = vocab.shape[0] # Vocabulary size given by vocab_list.txt\n",
    "#vocab.head(10)"
   ]
  },
  {
   "cell_type": "code",
   "execution_count": 3,
   "metadata": {
    "colab": {},
    "colab_type": "code",
    "id": "6rox27_k9o8A"
   },
   "outputs": [],
   "source": [
    "data = pd.read_csv('ap/ap.dat', sep=\"#\", names=['A'])\n",
    "M = data.shape[0]\n",
    "data = data.A.str.split(' ')\n",
    "doc_word_count = np.zeros((M, V))\n",
    "\n",
    "for j, m in enumerate(data):\n",
    "    count = m.pop(0)\n",
    "    for i in range(int(count)):\n",
    "        type(m[i])\n",
    "        cur = m[i].split(\":\")\n",
    "        doc_word_count[j][int(cur[0])] = int(cur[1])"
   ]
  },
  {
   "cell_type": "code",
   "execution_count": 4,
   "metadata": {
    "colab": {},
    "colab_type": "code",
    "id": "6rox27_k9o8A"
   },
   "outputs": [],
   "source": [
    "data = pd.read_csv('ap/ap.dat', sep=\"#\", names=['A'])\n",
    "data = data.A.str.split(' |:', n=V, expand=True)\n",
    "data.head()\n",
    "data_np = data.values"
   ]
  },
  {
   "cell_type": "code",
   "execution_count": 5,
   "metadata": {
    "colab": {},
    "colab_type": "code",
    "id": "yNvZhGEhAw82"
   },
   "outputs": [],
   "source": [
    "D = []  # this has dim: M x 2 (words and counts) x N_words(document)\n",
    "for w in range(M): # for each document\n",
    "    doc_string = data_np[w,:]\n",
    "    #print(len(doc_string))\n",
    "    word_indices = doc_string[1::2]\n",
    "    #print(\"word_indices\", word_indices)\n",
    "    counts = doc_string[2::2]\n",
    "    #if w==1:\n",
    "    #  print(len(word_indices), len(counts))\n",
    "    #print(\"counts\", counts)\n",
    "    N_different_words_in_this_doc = doc_string[0] # not needed.\n",
    "    D.append([])\n",
    "    all_words = []\n",
    "    for n,word in enumerate(word_indices):\n",
    "        if word == None:\n",
    "            break\n",
    "        for repetition in range(int(counts[n])):\n",
    "            #if int(counts[n])>1:\n",
    "            #  print(word, counts[n])\n",
    "            all_words.append(int(word))\n",
    "    D[-1] = all_words\n",
    "  # NOTE: D does not contain M docs with each N_d words, where each word w_n is a V-dim vector.\n",
    "  # BUT:              it has M docs with each N_d words, where each word is just the unique index v, that is one of the V-dim vector.\n",
    "  # Reason: V=10,000...\n"
   ]
  },
  {
   "cell_type": "code",
   "execution_count": 6,
   "metadata": {},
   "outputs": [
    {
     "data": {
      "text/plain": [
       "(2246, 10473)"
      ]
     },
     "execution_count": 6,
     "metadata": {},
     "output_type": "execute_result"
    }
   ],
   "source": [
    "M, V"
   ]
  },
  {
   "cell_type": "code",
   "execution_count": 7,
   "metadata": {},
   "outputs": [
    {
     "data": {
      "text/plain": [
       "Text(0, 0.5, 'count')"
      ]
     },
     "execution_count": 7,
     "metadata": {},
     "output_type": "execute_result"
    },
    {
     "data": {
      "image/png": "[encoded data removed]",
      "text/plain": [
       "<Figure size 432x288 with 1 Axes>"
      ]
     },
     "metadata": {
      "needs_background": "light"
     },
     "output_type": "display_data"
    }
   ],
   "source": [
    "lengths = []\n",
    "for i in range(len(D)):\n",
    "    lengths.append(len(D[i]))\n",
    "p = plt.hist(lengths, bins=40)\n",
    "plt.xlabel(\"Length of a document\")\n",
    "plt.ylabel(\"count\")\n",
    "\n"
   ]
  },
  {
   "cell_type": "markdown",
   "metadata": {
    "colab_type": "text",
    "id": "-Y3g6rEwdTCL"
   },
   "source": [
    "## Remove the standard words and load new Dataset (Reuters)"
   ]
  },
  {
   "cell_type": "markdown",
   "metadata": {},
   "source": [
    "#### Import the Natural Langauge Processing Package\n",
    "This provides the Reuters articles"
   ]
  },
  {
   "cell_type": "code",
   "execution_count": 8,
   "metadata": {},
   "outputs": [],
   "source": [
    "#nltk.download(\"popular\")"
   ]
  },
  {
   "cell_type": "markdown",
   "metadata": {},
   "source": [
    "#### Download the reuters data, if not already downloaded"
   ]
  },
  {
   "cell_type": "code",
   "execution_count": 9,
   "metadata": {},
   "outputs": [],
   "source": [
    "from nltk.tokenize import word_tokenize\n",
    "from nltk.corpus import stopwords\n",
    "from nltk.corpus import reuters\n",
    "\n",
    "# If you run this cell for the first time, uncomment the following line to download the corpus\n",
    "#nltk.download('reuters')\n",
    "#reuters.fileids()"
   ]
  },
  {
   "cell_type": "markdown",
   "metadata": {},
   "source": [
    "The variable reuters consists of 10788 documents, with a few labeled as test and 7769 as training documents.\n",
    "\n",
    "Below, we get the filenames of the training ones"
   ]
  },
  {
   "cell_type": "code",
   "execution_count": 10,
   "metadata": {},
   "outputs": [
    {
     "name": "stdout",
     "output_type": "stream",
     "text": [
      "M_max_reuters =  7769\n"
     ]
    }
   ],
   "source": [
    "training_ids = []\n",
    "test_ids = []\n",
    "for name in reuters.fileids():\n",
    "    if \"training\" in name:\n",
    "        training_ids.append(name)\n",
    "    else:\n",
    "        test_ids.append(name)\n",
    "print(\"M_max_reuters = \", len(training_ids) )"
   ]
  },
  {
   "cell_type": "markdown",
   "metadata": {},
   "source": [
    "There are more documents than in the AP example above. Hence, we choose only those 2246 documents (for now) and compare it"
   ]
  },
  {
   "cell_type": "code",
   "execution_count": 11,
   "metadata": {},
   "outputs": [],
   "source": [
    "M_reuters = 20"
   ]
  },
  {
   "cell_type": "markdown",
   "metadata": {},
   "source": [
    "training = includes a list of all the chosen documents. Each of these elements contains a list of all the words in the document"
   ]
  },
  {
   "cell_type": "code",
   "execution_count": 12,
   "metadata": {},
   "outputs": [
    {
     "name": "stdout",
     "output_type": "stream",
     "text": [
      "We have  20  Documents with sizes:  [633, 259, 119, 155, 115, 34, 250, 83, 182, 133, 126, 85, 84, 111, 99, 101, 67, 26, 73, 140]\n"
     ]
    }
   ],
   "source": [
    "training=[]  \n",
    "for i in range(M_reuters):\n",
    "    #file=str(i+1)\n",
    "    file = training_ids[i] # filename\n",
    "    training.append(reuters.words(file)) #append the document to training\n",
    "\n",
    "doc_lengths =  [len(training[i]) for i in range(len(training))] # this is N_d (length of each of the documents)\n",
    "print(\"We have \", len(training), \" Documents with sizes: \", doc_lengths[:100])\n"
   ]
  },
  {
   "cell_type": "markdown",
   "metadata": {},
   "source": [
    "### Actually create the dataset and vocab_list\n",
    "\n",
    "Example:  \n",
    "\n",
    "a sentence/document: \"You have a cactus.\" \n",
    "\n",
    "    - want to remove the \"you\", the \"a\" and the \".\" (stopwords) \n",
    "    - add the rest to my vocab_list ie. vocab_list= [\"have\", \"cactus\"].\n",
    "    - Then, store the document as a list of indices from my vocab: Ie. the document above is stored as [0,1].\n",
    "- the Vocab is a list of all the (non-unnecessary) words in the corpus\n"
   ]
  },
  {
   "cell_type": "code",
   "execution_count": 13,
   "metadata": {},
   "outputs": [
    {
     "data": {
      "text/plain": [
       "'TEST\\ndata_test = [\"All work and no play makes 4 jack dull boy.\", \\n        \"All people make mistakes, but 4 5 jack makes no work.\",\\n        \"People are dull, jack makes 4.5 mistakes\"]\\n\\nD = create_dict(data_test)\\nD, vocab_list\\n'"
      ]
     },
     "execution_count": 13,
     "metadata": {},
     "output_type": "execute_result"
    }
   ],
   "source": [
    "vocab_list=[] # \n",
    "\n",
    "def create_dict(data, test = True):     \n",
    "    global vocab_list # change the global vocab_list\n",
    "    D=[]  # dim = (#documents, #N_reduced_d),    where N_reduced_d is the Nr of words that are not filtered / are not unnecessary\n",
    "    for d in data: # for each document\n",
    "        # Uncomment 3 lines below to test the function with the string below \n",
    "        # test=True\n",
    "        if test==False: \n",
    "           d = \" \".join(d)\n",
    "        d = \" \".join(d)\n",
    "        dclean = remove_unnecessary_words(d)   # list of all the non-unnecessary words of the document\n",
    "        d_vocabInd = []  # This is the document in terms of the indices of the words in the vocab_list (example above: [0,1])\n",
    "        for w in dclean:  # loop through these words\n",
    "            w = w.lower() \n",
    "            if w in vocab_list: \n",
    "                pass # word is already in vocab_list\n",
    "            else:\n",
    "                #add word to vocab_list\n",
    "                vocab_list.append(w)\n",
    "            \n",
    "            # Store the word as the document\n",
    "            v = vocab_list.index(w) #index v\n",
    "            d_vocabInd.append(v)\n",
    "            \n",
    "        D.append(d_vocabInd)   # Add document to corpus\n",
    "    return D\n",
    "\n",
    "\n",
    "def remove_unnecessary_words(document):\n",
    "    words = word_tokenize(document)\n",
    "    wordsFiltered = []\n",
    "    for w in words:\n",
    "        if conditions(w):  # all the conditions what define an unnecessary word\n",
    "            # word is not unnecessary --> add to cleaned document\n",
    "            wordsFiltered.append(w)\n",
    "            \n",
    "    return wordsFiltered\n",
    "\n",
    "\n",
    "def conditions(word):\n",
    "    '''Return True if all conditions are fulfilled'''\n",
    "    Cond=True\n",
    "    # Word is no stopword\n",
    "    Cond *= (word not in stopwords.words('english'))\n",
    "    # Word is no special sign (like \".\")\n",
    "    Cond *= (word not in ['.', ',', ';', '-', '+', \\\n",
    "                             '?', '!', '=', '(', ')', \\\n",
    "                            '/', '&', '$', '€'])\n",
    "    # Word is no float (\"4.2\")\n",
    "    if (\".\" in word) or (\",\" in word):\n",
    "        if word[0].isdecimal():\n",
    "            Cond=False\n",
    "    # Word is no digit\n",
    "    Cond *= (not word.isdigit())\n",
    "    Cond *= (not word.isdecimal())\n",
    "    \n",
    "    return Cond\n",
    "\n",
    "'''TEST\n",
    "data_test = [\"All work and no play makes 4 jack dull boy.\", \n",
    "        \"All people make mistakes, but 4 5 jack makes no work.\",\n",
    "        \"People are dull, jack makes 4.5 mistakes\"]\n",
    "\n",
    "D = create_dict(data_test)\n",
    "D, vocab_list\n",
    "'''"
   ]
  },
  {
   "cell_type": "markdown",
   "metadata": {},
   "source": [
    "#### Actually do the pre-processing"
   ]
  },
  {
   "cell_type": "code",
   "execution_count": 14,
   "metadata": {},
   "outputs": [],
   "source": [
    "vocab_list = [] # init vocab_list\n",
    "D_reuters = create_dict(training)\n",
    "\n",
    "#print(\"Rows = Document[1..M] (first 100 docs only), Column = Word_in_Doc[1...N_doc], data = Index in Vocab\")\n",
    "#print(pd.DataFrame(D_reuters[:100], dtype=int ))\n",
    "#print(vocab_list)"
   ]
  },
  {
   "cell_type": "markdown",
   "metadata": {},
   "source": [
    "### Following: Just analysis of the Reuters data."
   ]
  },
  {
   "cell_type": "code",
   "execution_count": 15,
   "metadata": {},
   "outputs": [
    {
     "name": "stdout",
     "output_type": "stream",
     "text": [
      "V  660 , M  20\n"
     ]
    }
   ],
   "source": [
    "V_reuters = len(vocab_list)\n",
    "M_reuters = len(D_reuters)\n",
    "print(\"V \",V_reuters, \", M \", M_reuters)"
   ]
  },
  {
   "cell_type": "code",
   "execution_count": 16,
   "metadata": {},
   "outputs": [
    {
     "name": "stdout",
     "output_type": "stream",
     "text": [
      "143.75 77.25\n"
     ]
    },
    {
     "data": {
      "text/plain": [
       "Text(0.5, 1.0, 'Reuters')"
      ]
     },
     "execution_count": 16,
     "metadata": {},
     "output_type": "execute_result"
    },
    {
     "data": {
      "image/png": "[encoded data removed]",
      "text/plain": [
       "<Figure size 432x288 with 1 Axes>"
      ]
     },
     "metadata": {
      "needs_background": "light"
     },
     "output_type": "display_data"
    }
   ],
   "source": [
    "lengths = [] # Lengths of the cleaned documents \n",
    "for i in range(len(D_reuters)):\n",
    "    lengths.append(len(D_reuters[i]))\n",
    "p = plt.hist(lengths, bins=40)\n",
    "p = plt.hist(doc_lengths, bins=40, alpha=0.5) # document lengths (uncleaned)\n",
    "\n",
    "print(np.mean(doc_lengths), np.mean(lengths))\n",
    "\n",
    "plt.xlabel(\"Length of a document\")\n",
    "plt.ylabel(\"count\")\n",
    "plt.title(\"Reuters\")"
   ]
  },
  {
   "cell_type": "code",
   "execution_count": 17,
   "metadata": {},
   "outputs": [
    {
     "data": {
      "image/png": "[encoded data removed]",
      "text/plain": [
       "<Figure size 432x288 with 1 Axes>"
      ]
     },
     "metadata": {
      "needs_background": "light"
     },
     "output_type": "display_data"
    }
   ],
   "source": [
    "# How many words did the cleaning remove?\n",
    "removed_words = np.array(doc_lengths)-np.array(lengths)\n",
    "bla = plt.hist(removed_words, bins=100)"
   ]
  },
  {
   "cell_type": "code",
   "execution_count": 18,
   "metadata": {},
   "outputs": [
    {
     "name": "stdout",
     "output_type": "stream",
     "text": [
      "Percentage: 0.75\n",
      "66.5 68.2601640783261\n"
     ]
    }
   ],
   "source": [
    "#Percentage of docs in which we removed from 20 to 100 words, and mean\n",
    "print(\"Percentage:\", np.sum(((removed_words<=100)*(removed_words>=20)))/removed_words.shape[0])\n",
    "print(np.mean(removed_words), np.std(removed_words))"
   ]
  },
  {
   "cell_type": "code",
   "execution_count": 20,
   "metadata": {},
   "outputs": [
    {
     "name": "stdout",
     "output_type": "stream",
     "text": [
      "Example: \n",
      "\n",
      " D AP:\n",
      "[0, 0, 0, 0, 0, 0, 256, 256, 256, 3, 3, 4, 4, 4, 4]    Note: if the same word appears more often in the doc, it appears in direct sequence. Hence, the same index might appear multiple times in sequence\n",
      "\n",
      " D Reuters:\n",
      "[158, 159, 160, 161, 162, 163, 164, 165, 158, 159, 160, 166, 24, 167, 165]\n"
     ]
    }
   ],
   "source": [
    "print(\"Example: \")\n",
    "print(\"\\n D AP:\")\n",
    "print(D[100][:15], \"   Note: if the same word appears more often in the doc, it appears in direct sequence. Hence, the same index might appear multiple times in sequence\")\n",
    "print(\"\\n D Reuters:\")\n",
    "print(D_reuters[1][:15])"
   ]
  },
  {
   "cell_type": "markdown",
   "metadata": {
    "colab_type": "text",
    "id": "j1qxBd2fcDLG"
   },
   "source": [
    "### Variational Inference (the E-Step)"
   ]
  },
  {
   "cell_type": "code",
   "execution_count": 36,
   "metadata": {
    "colab": {},
    "colab_type": "code",
    "id": "k8BL3H0scDLJ"
   },
   "outputs": [],
   "source": [
    "def updateGammaPhi(k, alpha, beta, w, tol=1e-5, MAX_STEPS=100, verbose=False):\n",
    "    ''' This implements the update equations for Gamma and Phi for a variational inference step.\n",
    "     Inputs: \n",
    "        k=int=number of topics;  \n",
    "        alpha=[k]-vec=priors_of_theta(mixture_weights);  \n",
    "        beta=[NxV]-matrix=prob_of_word_v_given_topic_\n",
    "        w=word\n",
    "    '''\n",
    "    N = len(w)\n",
    "    # Init    \n",
    "    phi = 1/k * np.ones([N,k])\n",
    "    gamma = alpha + np.ones([k]) * N/k \n",
    "    \n",
    "    q_old = compute_lower_bound_likelihood(w, k, phi, gamma, alpha, beta, verbose=verbose)\n",
    "    converged = False\n",
    "    \n",
    "    #Loop\n",
    "    security_count=0\n",
    "    \n",
    "    while (not converged) and (security_count < MAX_STEPS):\n",
    "        security_count+=1\n",
    "        \n",
    "        phi_old = np.copy(phi)\n",
    "        logphi = np.zeros_like(phi)\n",
    "        gamma_old = np.copy(gamma)\n",
    "        \n",
    "        for n in range(N):\n",
    "            for i in range(k):\n",
    "                v = w[n] ## this is not a V-Vector, but just the index of the word in the vocab\n",
    "                #beta_iv is p(w_n^v = 1 | z^i = 1) \n",
    "                #unique v for each word w_n\n",
    "                \n",
    "                ### TRICK: instead of phi=beta+e^{psi(gamma)}, do \n",
    "                logphi[n,i] = np.log(beta[i,v]) + (psi(gamma_old[i]))#\n",
    "                phi[n,i] = np.exp(logphi[n,i])\n",
    "            #normalize Phi: s.t. for each topic the sum of phi[n,:] is 1.\n",
    "            phi[n,:] = phi[n,:]/np.sum(phi[n,:])\n",
    "        gamma = alpha + np.sum(phi,axis=0)\n",
    "       \n",
    "        # Convergence criterion is: lower bound of likleihood\n",
    "        q_new = compute_lower_bound_likelihood(w, k, phi, gamma, alpha, beta, verbose=verbose)\n",
    "        #print(\"Liks, \", q_new, q_old)#,  compute_lda_lhood(w,phi,gamma,alpha,beta,k))\n",
    "        if abs(q_new-q_old) < tol:\n",
    "            converged = True\n",
    "        else: \n",
    "            q_old=np.copy(q_new)\n",
    "        \n",
    "    return q_new, gamma, phi\n",
    "\n",
    "def psi(gamma_i):\n",
    "    # this is the first derivative (via Taylor approximation) of the log \\Gamma function\n",
    "    # according to Wikipedia this is the \"digamma\" function\n",
    "    return scipy.special.digamma(gamma_i)\n",
    "\n"
   ]
  },
  {
   "cell_type": "code",
   "execution_count": 22,
   "metadata": {
    "colab": {},
    "colab_type": "code",
    "id": "ZhAPHiqOMHOn"
   },
   "outputs": [],
   "source": [
    "def compute_lower_bound_likelihood(w, k, phi, gamma, alpha, beta, verbose=False):\n",
    "    '''\n",
    "    This calculate the lower bound of L(gamma, phi, alpha, beta)\n",
    "    Ie. equation 15 in the paper in Appendix 3.\n",
    "    Only one \n",
    "    '''\n",
    "    \n",
    "    N = len(w)\n",
    "    global V # length of the vocab\n",
    "    \n",
    "    loggamma_sum = lambda x: scipy.special.gammaln(np.sum(x))\n",
    "    loggamma_x_i = lambda x, i: np.log(scipy.special.gamma(x[i]))\n",
    "    E_log_thetai_givenGamma = lambda i:  (psi(gamma[i]) - psi(np.sum(gamma))) \n",
    "\n",
    "    #print(\"gamma, alpha= \", gamma,alpha)\n",
    "    L = loggamma_sum(alpha) - loggamma_sum(gamma)\n",
    "    #if verbose: print(\"#0: \", L, end=\", \")\n",
    "    for i in range(k):\n",
    "        L += -loggamma_x_i(alpha,i) + (alpha[i]-1)*E_log_thetai_givenGamma(i)\n",
    "        L += +loggamma_x_i(gamma,i) - (gamma[i]-1)*E_log_thetai_givenGamma(i)\n",
    "        #if verbose: print(\"#\",i,\": \", L, end=\", \")\n",
    "        for n in range(N):\n",
    "            L+= phi[n,i] * E_log_thetai_givenGamma(i)\n",
    "            L+= - phi[n,i] *np.log(phi[n,i])\n",
    "            v = w[n] # here w_n is not a vector\n",
    "            L+= phi[n,i] * np.log(beta[i,v]) \n",
    "            #if verbose: print(\"#\",i,\",\",n,\": \", L, \", v=\",v, end=\", \")\n",
    "    if verbose: print(L, \"\\n\")\n",
    "    return L\n",
    "    "
   ]
  },
  {
   "cell_type": "code",
   "execution_count": 23,
   "metadata": {
    "colab": {},
    "colab_type": "code",
    "id": "M1MHz8jCcDLa"
   },
   "outputs": [],
   "source": [
    "def E_step(D, k, alpha, beta, MAX_COUNTER=10, verbose=False):\n",
    "    gamma_list = []\n",
    "    phi_list = []\n",
    "    likelihood_list = []\n",
    "    counter = 0\n",
    "    \n",
    "    for d, doc in enumerate(D):\n",
    "        counter += 1\n",
    "        # doc is a N_d Vector containing indices of all words\n",
    "        if verbose: print(\"Doc: \"+str(d)+\" (\"+str(len(doc))+\")\", end=\", \")#, len(doc[0]))\n",
    "            \n",
    "        likelihood, gamma, phi = updateGammaPhi(k, alpha, beta, doc, verbose=verbose)\n",
    "        gamma_list.append(gamma)\n",
    "        phi_list.append(phi)\n",
    "        likelihood_list.append(likelihood)\n",
    "        \n",
    "        # Stop this if sufficient statistics (how do i know this?)\n",
    "        if verbose and counter%10 == 0:\n",
    "            print(gamma, likelihood)\n",
    "        # calculate the approximate q(theta, z | gamma, phi)\n",
    "#         if counter> MAX_COUNTER:\n",
    "#             break\n",
    "    return likelihood_list, gamma_list, phi_list\n"
   ]
  },
  {
   "cell_type": "markdown",
   "metadata": {
    "colab_type": "text",
    "id": "2bwKHt5Lkbnu"
   },
   "source": [
    "## M-Step"
   ]
  },
  {
   "cell_type": "code",
   "execution_count": 53,
   "metadata": {},
   "outputs": [],
   "source": [
    "def update_alpha(alpha, gamma, max_iter=50, tol=0.001):\n",
    "    \"\"\"This function updates alpha.\"\"\"\n",
    "    \n",
    "    d = len(gamma)\n",
    "    k = len(gamma[0])\n",
    "    \n",
    "    counter = 0\n",
    "    check = False # flag for convergence\n",
    "    \n",
    "    while(not check):\n",
    "        \n",
    "        if np.isnan(alpha).any():\n",
    "            alpha = 5 # re-intialize to avoid error\n",
    "        else:\n",
    "            counter += 1\n",
    "                \n",
    "            gradient = d * k * special.polygamma(0, k*alpha)\n",
    "            gradient = gradient - d * k * special.polygamma(0, alpha)\n",
    "            \n",
    "            hessian = d * k * k * special.polygamma(1, k*alpha)\n",
    "            hessian = hessian - d * k * special.polygamma(1, alpha)\n",
    "    \n",
    "            temp = gradient / (hessian * alpha + gradient)\n",
    "            log_alpha = np.log(alpha) - temp\n",
    "            alpha = np.exp(log_alpha)\n",
    "            \n",
    "            if counter == max_iter:\n",
    "                check = True\n",
    "            else:\n",
    "                if counter > 1 and np.absolute(gradient).all() < tol:\n",
    "                    check = True                    \n",
    "    return alpha"
   ]
  },
  {
   "cell_type": "code",
   "execution_count": 44,
   "metadata": {
    "colab": {
     "base_uri": "https://localhost:8080/",
     "height": 132
    },
    "colab_type": "code",
    "executionInfo": {
     "elapsed": 833,
     "status": "error",
     "timestamp": 1578575254498,
     "user": {
      "displayName": "Peter Steiglechner",
      "photoUrl": "",
      "userId": "08437803724975041227"
     },
     "user_tz": -60
    },
    "id": "QpOodnOHkcyS",
    "outputId": "9e69987e-967c-4706-c5f8-8df27ebe63a8"
   },
   "outputs": [],
   "source": [
    "def M_step(data, k, phi, gamma, alpha, vocabulary,):\n",
    "    V = len(vocabulary)\n",
    "    M = len(data)\n",
    "    # Update beta\n",
    "    beta = np.zeros([k,V])\n",
    "    for m in range(M):\n",
    "        words = np.array(data[m])\n",
    "        phi_m = phi[m]\n",
    "    \n",
    "        for i in range(k):\n",
    "            phi_sliced = phi_m[:,i]\n",
    "            for j in range(V):\n",
    "                word = vocabulary[j]\n",
    "                bool_indicator = np.in1d(words, word) \n",
    "                beta[i,j] += np.dot(bool_indicator.astype(int), phi_sliced)\n",
    "    beta = np.transpose(np.transpose(beta) / np.sum(beta, axis=1))\n",
    "    \n",
    "    # Update alpha\n",
    "    alpha = update_alpha(alpha, gamma)\n",
    "    return alpha, beta"
   ]
  },
  {
   "cell_type": "markdown",
   "metadata": {
    "colab_type": "text",
    "id": "XlMgdbYiKmZB"
   },
   "source": [
    "## Initialisation"
   ]
  },
  {
   "cell_type": "code",
   "execution_count": 25,
   "metadata": {
    "colab": {},
    "colab_type": "code",
    "id": "wT8WK33FKleu"
   },
   "outputs": [],
   "source": [
    "k = 4\n",
    "V = 10473\n",
    "\n",
    "alpha = np.ones([k])*0.01\n",
    "beta = np.zeros([k,V])+0.01\n"
   ]
  },
  {
   "cell_type": "code",
   "execution_count": 26,
   "metadata": {},
   "outputs": [
    {
     "data": {
      "text/plain": [
       "20"
      ]
     },
     "execution_count": 26,
     "metadata": {},
     "output_type": "execute_result"
    }
   ],
   "source": [
    "len(D_reuters)"
   ]
  },
  {
   "cell_type": "code",
   "execution_count": 41,
   "metadata": {
    "colab": {},
    "colab_type": "code",
    "id": "1SNSQlB7KlY4",
    "scrolled": false
   },
   "outputs": [],
   "source": [
    "likelihood_list, gamma_list, phi_list = \\\n",
    "    E_step(D_reuters, k, alpha, beta, MAX_COUNTER=100, verbose=False) # MAX_COUNTER == Training set size\n"
   ]
  },
  {
   "cell_type": "code",
   "execution_count": 54,
   "metadata": {},
   "outputs": [
    {
     "name": "stdout",
     "output_type": "stream",
     "text": [
      "nan\n"
     ]
    },
    {
     "name": "stderr",
     "output_type": "stream",
     "text": [
      "C:\\Users\\Mimi\\Anaconda3\\lib\\site-packages\\ipykernel_launcher.py:16: RuntimeWarning: invalid value encountered in true_divide\n",
      "  app.launch_new_instance()\n",
      "C:\\Users\\Mimi\\Anaconda3\\lib\\site-packages\\ipykernel_launcher.py:18: RuntimeWarning: invalid value encountered in subtract\n",
      "C:\\Users\\Mimi\\Anaconda3\\lib\\site-packages\\ipykernel_launcher.py:21: RuntimeWarning: invalid value encountered in subtract\n",
      "C:\\Users\\Mimi\\Anaconda3\\lib\\site-packages\\ipykernel_launcher.py:24: RuntimeWarning: divide by zero encountered in log\n",
      "C:\\Users\\Mimi\\Anaconda3\\lib\\site-packages\\ipykernel_launcher.py:18: RuntimeWarning: invalid value encountered in double_scalars\n",
      "C:\\Users\\Mimi\\Anaconda3\\lib\\site-packages\\ipykernel_launcher.py:21: RuntimeWarning: invalid value encountered in double_scalars\n"
     ]
    },
    {
     "data": {
      "text/plain": [
       "array([[nan, nan, nan, ..., nan, nan, nan],\n",
       "       [nan, nan, nan, ..., nan, nan, nan],\n",
       "       [nan, nan, nan, ..., nan, nan, nan],\n",
       "       [nan, nan, nan, ..., nan, nan, nan]])"
      ]
     },
     "execution_count": 54,
     "metadata": {},
     "output_type": "execute_result"
    }
   ],
   "source": [
    "alpha_new, beta_new = M_step(D_reuters, k, phi_list, gamma_list, alpha, vocab_list)\n",
    "print(alpha_new)\n",
    "beta_new"
   ]
  },
  {
   "cell_type": "code",
   "execution_count": 35,
   "metadata": {},
   "outputs": [
    {
     "data": {
      "text/plain": [
       "101"
      ]
     },
     "execution_count": 35,
     "metadata": {},
     "output_type": "execute_result"
    }
   ],
   "source": [
    "len(phi_list)"
   ]
  },
  {
   "cell_type": "code",
   "execution_count": null,
   "metadata": {
    "colab": {
     "base_uri": "https://localhost:8080/",
     "height": 54
    },
    "colab_type": "code",
    "executionInfo": {
     "elapsed": 716,
     "status": "ok",
     "timestamp": 1578574395942,
     "user": {
      "displayName": "Peter Steiglechner",
      "photoUrl": "",
      "userId": "08437803724975041227"
     },
     "user_tz": -60
    },
    "id": "m3Mvnv9tKlTp",
    "outputId": "b94ced5a-5811-4e7c-f75a-5116ffdaadb1"
   },
   "outputs": [],
   "source": [
    "plt.plot(likelihood_list, 'x')"
   ]
  }
 ],
 "metadata": {
  "colab": {
   "collapsed_sections": [],
   "name": "AdvML_project.ipynb",
   "provenance": []
  },
  "kernelspec": {
   "display_name": "Python 3",
   "language": "python",
   "name": "python3"
  },
  "language_info": {
   "codemirror_mode": {
    "name": "ipython",
    "version": 3
   },
   "file_extension": ".py",
   "mimetype": "text/x-python",
   "name": "python",
   "nbconvert_exporter": "python",
   "pygments_lexer": "ipython3",
   "version": "3.7.3"
  }
 },
 "nbformat": 4,
 "nbformat_minor": 1
}
