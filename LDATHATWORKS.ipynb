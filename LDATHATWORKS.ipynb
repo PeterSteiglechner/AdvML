{
 "cells": [
  {
   "cell_type": "markdown",
   "metadata": {},
   "source": [
    "# DD2434_Project"
   ]
  },
  {
   "cell_type": "markdown",
   "metadata": {},
   "source": [
    "# Setup"
   ]
  },
  {
   "cell_type": "raw",
   "metadata": {},
   "source": [
    "PARAMETERS:\n",
    "\n",
    "k - number of topics\n",
    "N - number of words in a document (different for each document)\n",
    "M - number of documents in a corpus\n",
    "\n",
    "Model parameters:\n",
    "z_n - [k] dimension vector; topic distribution for word n \n",
    "Theta - [k] dimension vector; mixture weights\n",
    "alpha - [k] dimension vector; prior probability for theta (mixture weights) (alpha > 0)\n",
    "beta - [k x V] dimension matrix; beta_ij = p(w^j = 1 | z^i = 1) \n",
    "                                 probability for a specific word j given a specific topic i\n",
    "D - list of [V x N] dimension matrices, that is M long = [\\mathbf{w}_1, ... \\mathbf{w}_M];\n",
    "                                 where \\mathbf{w} = [w_1,...,w_N] is [V x N] (one document consisting of N words) \n",
    "\n",
    "\n",
    "Variational parameters:\n",
    "Gamma - [k] dimension vector; determines Theta in the Variational Model\n",
    "Phi = phi_1 .. phi_N - [N x k] dimension matrix; determines the probability distribution \n",
    "                                 for topics z of words in the Variational Model"
   ]
  },
  {
   "cell_type": "code",
   "execution_count": null,
   "metadata": {},
   "outputs": [],
   "source": [
    "import numpy as np \n",
    "import matplotlib.pyplot as plt \n",
    "import scipy\n",
    "from scipy import special, misc\n",
    "from scipy.special import logsumexp\n",
    "from scipy.special import digamma, gammaln, polygamma\n",
    "import pandas as pd\n",
    "from collections import Counter "
   ]
  },
  {
   "cell_type": "markdown",
   "metadata": {},
   "source": [
    "## Load the Document Corpus\n",
    "Download the data from \n",
    "https://github.com/Blei-Lab/lda-c/blob/master/example/ap.tgz\n",
    "\n",
    "We can directly load the file \"ap.dat\" which contains:\n",
    "\n",
    "1 line = 1 document,\n",
    "\n",
    "[number of different words in doc] [word index (where the one is in w_n]:[how often it occurs in the doc] [word index 2]:[occurences 2] ..."
   ]
  },
  {
   "cell_type": "code",
   "execution_count": null,
   "metadata": {},
   "outputs": [],
   "source": [
    "vocabulary = np.genfromtxt('ap/vocab.txt',  dtype='str')"
   ]
  },
  {
   "cell_type": "code",
   "execution_count": null,
   "metadata": {},
   "outputs": [],
   "source": [
    "def clean_up_data(corpus_file, vocabulary_file, stopwords_file):\n",
    "    \"\"\"\n",
    "    Reads the corpus from the .txt file into a list of lists;\n",
    "    a list for each document which contains a list of all the \n",
    "    words as strings.\n",
    "    Input parameters:\n",
    "    corpus_file - path to the corpus file\n",
    "    vocabulary_file - path to the vocabulary file\n",
    "    stopwords_file - path to the stopwords file\n",
    "    \"\"\"\n",
    "    vocabulary = np.genfromtxt(vocabulary_file,  dtype='str')\n",
    "    special_chars = '1234567890~!@#£$%^&*()_+,./<>?\\|\"]}\\'[{`-'\n",
    "    corpus = []\n",
    "    \n",
    "    # read in stopwords from file into a list\n",
    "    stopwords = [] \n",
    "    with open(stopwords_file, 'r') as file:\n",
    "        stop_words = file.read().replace(',', ' ')\n",
    "        for word in stop_words.split():\n",
    "            stopwords.append(word) \n",
    "    \n",
    "    with open(corpus_file, 'r') as text:\n",
    "        doc = ''\n",
    "        new = False\n",
    "        for line in text:\n",
    "            if new: # reached a new document\n",
    "                if line.strip() != '</TEXT>': # until we reach the new doc\n",
    "                    for char in special_chars: # remove punctuation etc,\n",
    "                        line = line.replace(char, '') \n",
    "                    doc += line\n",
    "                else: # we've reached a new doc again\n",
    "                    doc = doc.lower() # all words lowercase\n",
    "                    words = np.array(doc.split())\n",
    "                    # PETER EDIT: next two lines\n",
    "                    doc = [word for word in words if (  (word not in stopwords) and (word in vocabulary)  )]\n",
    "                    corpus.append(doc)\n",
    "                    doc = ''\n",
    "            elif line.strip() == '<TEXT>': new = True\n",
    "\n",
    "    \n",
    "    return corpus, vocabulary"
   ]
  },
  {
   "cell_type": "code",
   "execution_count": null,
   "metadata": {},
   "outputs": [],
   "source": [
    "corpus, vocabulary = clean_up_data('ap/ap.txt', 'ap/vocab.txt', 'ap/stopwords.txt')"
   ]
  },
  {
   "cell_type": "code",
   "execution_count": null,
   "metadata": {},
   "outputs": [],
   "source": [
    "def initialize_parameters(documents, vocabulary, k):\n",
    "    M = len(documents)\n",
    "    V = len(vocabulary)\n",
    "    \n",
    "    # Initialize alpha \n",
    "    # alpha = np.ones([M,k]) * 50/k # for every document, for every topic\n",
    "    alpha = np.ones(k)*50/k\n",
    "    eta = 5/k\n",
    "    \n",
    "    Lambda = np.random.rand(k,V) * 0.5 + 0.5\n",
    "    \n",
    "    # Initialize beta\n",
    "    beta = np.zeros([k,V]) # for every topic, for every word in the vocabulary\n",
    "    for i in range(k):\n",
    "        beta[i] = np.random.uniform(0, 1, V)\n",
    "        beta[i] = beta[i] / np.sum(beta[i])\n",
    "    \n",
    "    # Initialize phi and gamma\n",
    "    phi = []\n",
    "    gamma = np.zeros([M,k]) # for every document, for every topic\n",
    "    for m in range(M):\n",
    "        doc = np.array(documents[m])\n",
    "        N = len(doc)\n",
    "        phi.append(np.ones([N,k]) * 1/float(k)) # uniform over topics\n",
    "        \n",
    "        for i in range(k):\n",
    "            gamma[m][i] = alpha[i] + N/float(k)\n",
    "        #m += 1 # WHYYYYYYY?\n",
    "        \n",
    "    return alpha, eta, beta, gamma, phi, Lambda"
   ]
  },
  {
   "cell_type": "code",
   "execution_count": null,
   "metadata": {},
   "outputs": [],
   "source": [
    "def compute_lower_bound_likelihood(phi, gamma, alpha, beta, document, vocabulary, k):\n",
    "    '''\n",
    "    This calculates the lower bound of L(gamma, phi, alpha, beta)\n",
    "    Ie. equation 15 in the paper in Appendix 3.\n",
    "    '''\n",
    "   \n",
    "    N, k = phi.shape\n",
    "    k, V = beta.shape\n",
    "    \n",
    "    loggamma_sum = lambda x: scipy.special.gammaln(np.sum(x))\n",
    "    loggamma_x_i = lambda x, i: np.log(scipy.special.gamma(x[i]))\n",
    "    E_log_thetai_givenGamma = lambda i:  (psi(gamma[i]) - psi(np.sum(gamma))) \n",
    "\n",
    "    term0 = loggamma_sum(alpha) - loggamma_sum(gamma)\n",
    "    term_kSum=0\n",
    "    for i in range(k):\n",
    "        E = E_log_thetai_givenGamma(i)\n",
    "        term_kSum += -loggamma_x_i(alpha,i) + (alpha[i]-1) * E\n",
    "        term_kSum += gammaln(gamma[i]) - (gamma[i] - 1) * E\n",
    "\n",
    "        term_knSum = 0\n",
    "        term_knvSum = 0\n",
    "        for n in range(N):\n",
    "            if phi[n,i] == 0:\n",
    "                print(\"Error: Phi[\",n,i,\"] == 0\")\n",
    "            term_knSum += phi[n,i] * E_log_thetai_givenGamma(i)\n",
    "            term_knSum += - phi[n,i] * np.log(phi[n,i])\n",
    "            \n",
    "            v = np.where(vocabulary == document[n])[0][0] # here w_n is not a vector\n",
    "            if beta[i,v] <= 0:\n",
    "                print(\"Error: beta[\"+i,v,\"]<=0\")\n",
    "            #L+= phi[n,i] * np.log(beta[i,v]) \n",
    "            term_knvSum += phi[n,i] * np.log(beta[i,v]) \n",
    "\n",
    "    #print(term0,term_knSum, term_kSum)\n",
    "    L_terms = term0 + term_knSum + term_kSum + term_knvSum\n",
    "    \n",
    "    return L_terms\n",
    "    \n",
    "\n",
    "\n",
    "def psi(gamma_i):\n",
    "    # this is the first derivative (via Taylor approximation) of the log \\Gamma function\n",
    "    # according to Wikipedia this is the \"digamma\" function\n",
    "    return scipy.special.digamma(gamma_i)\n",
    "\n"
   ]
  },
  {
   "cell_type": "code",
   "execution_count": null,
   "metadata": {},
   "outputs": [],
   "source": [
    "def compute_lower_bound_likelihood_smoothed(phi, gamma, alpha, Lambda, document, vocabulary, digamma_lambda, k, V):\n",
    "    '''\n",
    "    This calculates the lower bound of L(gamma, phi, alpha, beta)\n",
    "    Ie. equation 15 in the paper in Appendix 3.\n",
    "    '''\n",
    "   \n",
    "    N, k = phi.shape\n",
    "    \n",
    "    loggamma_sum = lambda x: scipy.special.gammaln(np.sum(x))\n",
    "    loggamma_x_i = lambda x, i: np.log(scipy.special.gamma(x[i]))\n",
    "    E_log_thetai_givenGamma = lambda i:  (psi(gamma[i]) - psi(np.sum(gamma))) \n",
    "    #E_log_betai_givenLambda = lambda i:  (psi(Lambda[i].T) - psi(np.sum(Lambda))) \n",
    "\n",
    "    term0 = loggamma_sum(alpha) - loggamma_sum(gamma)\n",
    "    term_kSum=0\n",
    "    for i in range(k):\n",
    "        E = E_log_thetai_givenGamma(i)\n",
    "        term_kSum += -loggamma_x_i(alpha,i) + (alpha[i]-1) * E\n",
    "        term_kSum += gammaln(gamma[i]) - (gamma[i] - 1) * E\n",
    "\n",
    "        term_knSum = 0\n",
    "        for n in range(N):\n",
    "            if phi[n,i] == 0:\n",
    "                print(\"Error: Phi[\",n,i,\"] == 0\")\n",
    "                \n",
    "            term_knSum += phi[n,i] * E_log_thetai_givenGamma(i)\n",
    "            term_knSum += - phi[n,i] * np.log(phi[n,i])\n",
    "            term_knSum += phi[n,i] * digamma_lambda[i]\n",
    "\n",
    "    \n",
    "    L_terms = term0 + term_knSum + term_kSum \n",
    "    \n",
    "    return L_terms"
   ]
  },
  {
   "cell_type": "code",
   "execution_count": null,
   "metadata": {},
   "outputs": [],
   "source": [
    "def update_phi_gamma(k, phi, gamma, alpha, beta, document, vocabulary, tol=1e-5, MAX_STEPS = 100):\n",
    "    \n",
    "    likelihood = 0.0\n",
    "    iterations = 0\n",
    "    converged = False\n",
    "    \n",
    "    words = np.array(document)\n",
    "    N = len(words)\n",
    "\n",
    "    while (not converged) and (iterations < MAX_STEPS):\n",
    "        iterations += 1\n",
    "            \n",
    "        phi_old = phi.copy()\n",
    "        gamma_old = gamma.copy()\n",
    "\n",
    "        for n in range(N):\n",
    "            word = words[n]\n",
    "            if len(np.where(vocabulary == word)[0]) > 0: # word exists in vocabulary\n",
    "                for i in range(k):                \n",
    "                    beta_ = beta[i, np.where(vocabulary == word)]\n",
    "                    phi[n, i] = beta_[0][0] * np.exp(digamma(gamma[i]) - digamma(np.sum(gamma)))\n",
    "                phi[n,:] = phi[n,:] / np.sum(phi[n,:])   \n",
    "        \n",
    "        \n",
    "        gamma = alpha + np.sum(phi, axis=0)\n",
    "        \n",
    "        \n",
    "\n",
    "        # Convergence ctierion: did phi and gamma change significantly?\n",
    "        if (np.linalg.norm(phi - phi_old) < tol) and (np.linalg.norm(gamma - gamma_old) < tol):              \n",
    "            print(str(iterations) + ' iterations to converge.')\n",
    "                \n",
    "            likelihood += compute_lower_bound_likelihood(phi, gamma, alpha, beta, document, vocabulary, k)\n",
    "            converged = True\n",
    "    \n",
    "    return phi, gamma, likelihood"
   ]
  },
  {
   "cell_type": "code",
   "execution_count": null,
   "metadata": {},
   "outputs": [],
   "source": [
    "def update_phi_gamma_smoothed(k, M, V, phi, gamma, alpha, eta, Lambda, documents, vocabulary, document, tol=1e-5, MAX_STEPS = 100):\n",
    "    \n",
    "    digamma_lambda = digamma(Lambda.T) - digamma(np.sum(Lambda, axis = 1))\n",
    "    \n",
    "    for d in range(M):\n",
    "        likelihood = -0.00001\n",
    "        iterations = 0\n",
    "        converged = False\n",
    "        \n",
    "        words = np.array(documents[d])\n",
    "        N = len(words)\n",
    "\n",
    "        while (not converged) and (iterations < MAX_STEPS):\n",
    "            iterations += 1\n",
    "            \n",
    "            phi_old = phi[d].copy()\n",
    "            gamma_old = gamma[d].copy()\n",
    "\n",
    "            digamma_gamma = digamma(gamma[d,:]) - digamma(np.sum(gamma[d,:]))\n",
    "            N = len(documents[d])\n",
    "            \n",
    "            for n in range(N):\n",
    "                word = words[n]\n",
    "                if len(np.where(vocabulary == word)[0]) > 0: # word exists in vocabulary\n",
    "                    for i in range(k):\n",
    "                        temp_2 = digamma_gamma[i] + digamma_lambda[d][i]\n",
    "                        phi[d][n, i] = np.exp(temp_2)\n",
    "                    phi[d][n,:] =  phi[d][n,:] / np.sum(phi[d][n,:] + tol)\n",
    "            \n",
    "            gamma[d] = alpha + np.sum(phi[d], axis=0) \n",
    "            \n",
    "\n",
    "            # Convergence ctierion: did phi and gamma change significantly?            \n",
    "            if (np.linalg.norm(phi[d] - phi_old) < tol) and (np.linalg.norm(gamma[d] - gamma_old) < tol):              \n",
    "                print(str(iterations) + ' iterations to converge.')\n",
    "\n",
    "                likelihood += compute_lower_bound_likelihood_smoothed(phi[d], gamma[d], alpha, Lambda, document, vocabulary, digamma_lambda[d], k, V)\n",
    "                converged = True\n",
    "\n",
    "    return phi, gamma, likelihood"
   ]
  },
  {
   "cell_type": "code",
   "execution_count": null,
   "metadata": {},
   "outputs": [],
   "source": [
    "def update_lambda(phi, eta, Lambda, documents, vocabulary, k):\n",
    "    \n",
    "    M = len(documents)\n",
    "    V = len(vocabulary)\n",
    "    \n",
    "    Lambda = np.ones([k, V]) * eta\n",
    "    for m, doc in enumerate(documents):\n",
    "        words = np.array(doc)\n",
    "        phi_m = phi[m]\n",
    "        for i in range(k):\n",
    "            phi_ = phi_m[:,i]\n",
    "            for j in range(V):\n",
    "                word = vocabulary[j]\n",
    "                indicator = np.in1d(words, word)\n",
    "                indicator.astype(int) \n",
    "                Lambda[i][j] += np.dot(indicator, phi_)\n",
    "\n",
    "    return Lambda"
   ]
  },
  {
   "cell_type": "code",
   "execution_count": null,
   "metadata": {},
   "outputs": [],
   "source": [
    "def update_beta(phi, documents, vocabulary, k):\n",
    "    \n",
    "    M = len(documents)\n",
    "    V = len(vocabulary)\n",
    "    \n",
    "    beta = np.zeros([k, V])\n",
    "    for m, doc in enumerate(documents):\n",
    "        words = np.array(doc)\n",
    "        phi_m = phi[m]\n",
    "        for i in range(k):\n",
    "            phi_ = phi_m[:,i]\n",
    "            for j in range(V):\n",
    "                word = vocabulary[j]\n",
    "                indicator = np.in1d(words, word)\n",
    "                indicator.astype(int) \n",
    "                beta[i][j] += np.dot(indicator, phi_)\n",
    "    beta = np.transpose(np.transpose(beta) / np.sum(beta, axis=1))\n",
    "\n",
    "    return beta\n",
    "    "
   ]
  },
  {
   "cell_type": "code",
   "execution_count": null,
   "metadata": {},
   "outputs": [],
   "source": [
    "def update_alpha(alpha, gamma, k, M, max_iter=50, tol=1e-4):\n",
    "    \n",
    "    # Maria B version\n",
    "    temp = 0\n",
    "    for d in range(M):\n",
    "        temp_1 = np.sum(special.polygamma(0, gamma[d])) - np.sum(special.polygamma(0, np.sum(gamma, axis=1)))\n",
    "    \n",
    "    gradient = M * (k * special.polygamma(1, alpha) - special.polygamma(1, k*alpha))\n",
    "    gradient = gradient + temp\n",
    "\n",
    "    hessian = M * k * (k * special.polygamma(2, k*alpha) - special.polygamma(2, alpha))\n",
    "\n",
    "    temp = gradient / (hessian * alpha + gradient + tol)\n",
    "    if (alpha == 0).any():\n",
    "        alpha += 0.005\n",
    "\n",
    "    log_alpha = np.log(alpha) - temp\n",
    "    alpha = np.exp(log_alpha)    \n",
    "        \n",
    "    return alpha\n"
   ]
  },
  {
   "cell_type": "code",
   "execution_count": null,
   "metadata": {},
   "outputs": [],
   "source": [
    "def update_eta(eta, gamma, k, V, M, max_iter=50, tol=1e-4):\n",
    "\n",
    "    temp = 0\n",
    "    for d in range(M):\n",
    "        temp_1 = np.sum(special.polygamma(0, gamma[d])) - np.sum(special.polygamma(0, np.sum(gamma, axis=1)))\n",
    "    \n",
    "    gradient = V * (k * special.polygamma(1, eta) - special.polygamma(1, k*eta))\n",
    "    gradient = gradient + temp\n",
    "\n",
    "    hessian = V * k * (k * special.polygamma(2, k*eta) - special.polygamma(2, eta))\n",
    "\n",
    "    temp = gradient / (hessian * eta + gradient + tol)\n",
    "    if (eta == 0):\n",
    "        eta += 0.005\n",
    "\n",
    "    log_eta = np.log(eta) - temp\n",
    "    eta = np.exp(log_eta)    \n",
    "        \n",
    "    return eta"
   ]
  },
  {
   "cell_type": "code",
   "execution_count": null,
   "metadata": {},
   "outputs": [],
   "source": [
    "def E_step(phi, gamma, alpha, beta, documents, vocabulary, k):\n",
    "    print('E-step')\n",
    "    \n",
    "    for d, doc in enumerate(documents):\n",
    "        phi[d], gamma[d], likelihood = update_phi_gamma(k, phi[d], gamma[d], alpha, beta, doc, vocabulary)\n",
    "                \n",
    "    return phi, gamma, likelihood"
   ]
  },
  {
   "cell_type": "code",
   "execution_count": null,
   "metadata": {},
   "outputs": [],
   "source": [
    "def E_step_smoothed(phi, gamma, alpha, eta, Lambda, documents, vocabulary, k):\n",
    "    print('E-step')\n",
    "    \n",
    "    V = len(vocabulary)\n",
    "\n",
    "    phi, gamma, likelihood = update_phi_gamma_smoothed(k, M, V, phi, gamma, alpha, eta, Lambda, documents, vocabulary, Lambda)\n",
    "    Lambda = update_lambda(phi, eta, Lambda, documents, vocabulary, k)\n",
    "        \n",
    "    return phi, gamma, Lambda, likelihood"
   ]
  },
  {
   "cell_type": "code",
   "execution_count": null,
   "metadata": {},
   "outputs": [],
   "source": [
    "def M_step(phi, gamma, alpha, documents, vocabulary, k):\n",
    "    print('M-step')\n",
    "    \n",
    "    M = len(documents)\n",
    "    V = len(vocabulary)\n",
    "    \n",
    "    beta = update_beta(phi, documents, vocabulary, k)\n",
    "    alpha = update_alpha(alpha, gamma, k, M)\n",
    "    \n",
    "    return alpha, beta"
   ]
  },
  {
   "cell_type": "code",
   "execution_count": null,
   "metadata": {},
   "outputs": [],
   "source": [
    "def M_step_smoothed(phi, gamma, alpha, eta, documents, vocabulary, k):\n",
    "    print('M-step')\n",
    "    \n",
    "    M = len(documents)\n",
    "    V = len(vocabulary)\n",
    "\n",
    "    alpha = update_alpha(alpha, gamma, k, M)\n",
    "    eta = update_eta(eta, gamma, k, V, M)\n",
    "\n",
    "    return alpha, eta"
   ]
  },
  {
   "cell_type": "code",
   "execution_count": null,
   "metadata": {},
   "outputs": [],
   "source": [
    "def variational_EM(phi_init, gamma_init, alpha_init, beta_init, documents, vocabulary, k, tol=1e-5):\n",
    "    print('Variational EM')\n",
    "    \n",
    "    M = len(documents)\n",
    "    \n",
    "    likelihood = 0\n",
    "    likelihood_old = 0.000004\n",
    "    \n",
    "    iteration = 1 # Initialization step is the first step\n",
    "    \n",
    "    phi = phi_init\n",
    "    gamma = gamma_init\n",
    "    alpha = alpha_init\n",
    "    beta = beta_init\n",
    "    \n",
    "    converged = False\n",
    "    \n",
    "    while (not converged):\n",
    "        \n",
    "        iteration += 1\n",
    "        \n",
    "        # Update parameters \n",
    "        if likelihood == 0:\n",
    "            print(\"Likelihood==0\")\n",
    "            likelihood_old = 0.005\n",
    "        else:\n",
    "            likelihood_old = likelihood\n",
    "        phi_old = phi \n",
    "        gamma_old = gamma \n",
    "        alpha_old = alpha\n",
    "        beta_old = beta\n",
    "    \n",
    "        phi, gamma, likelihood = \\\n",
    "            E_step(phi_old, gamma_old, alpha_old, beta_old, documents, vocabulary, k)\n",
    "        alpha, Beta = \\\n",
    "            M_step(phi, gamma, alpha_old, documents, vocabulary, k)\n",
    "                \n",
    "        if iteration > 15:\n",
    "            break\n",
    "        \n",
    "        # check convergence\n",
    "        if (np.abs((likelihood-likelihood_old)/likelihood_old) > tol):\n",
    "            if (iteration > 2):\n",
    "                converged = True\n",
    "        \n",
    "    return phi, gamma, alpha, Beta, likelihood"
   ]
  },
  {
   "cell_type": "code",
   "execution_count": null,
   "metadata": {},
   "outputs": [],
   "source": [
    "def variational_EM_smoothed(phi_init, gamma_init, alpha_init, beta_init, Lambda_init, eta_init, documents, vocabulary, k, tol=1e-5):\n",
    "    print('Variational EM')\n",
    "    \n",
    "    M = len(documents)\n",
    "    \n",
    "    likelihood = 0\n",
    "    likelihood_old = 0.000004\n",
    "    \n",
    "    iteration = 1 # Initialization step is the first step\n",
    "    \n",
    "    phi = phi_init\n",
    "    gamma = gamma_init\n",
    "    alpha = alpha_init\n",
    "    beta = beta_init\n",
    "    Lambda = Lambda_init\n",
    "    eta = eta_init\n",
    "    \n",
    "    converged = False\n",
    "    \n",
    "    while (not converged):\n",
    "        \n",
    "        iteration += 1\n",
    "        \n",
    "        # Update parameters \n",
    "        if likelihood == 0:\n",
    "            print(\"Likelihood==0\")\n",
    "            likelihood_old = 0.005\n",
    "        else:\n",
    "            likelihood_old = likelihood\n",
    "        phi_old = phi \n",
    "        gamma_old = gamma \n",
    "        alpha_old = alpha\n",
    "        beta_old = beta\n",
    "        Lambda_old = Lambda\n",
    "        eta_old = eta\n",
    "        \n",
    "    \n",
    "        phi, gamma, Lambda, likelihood = \\\n",
    "            E_step_smoothed( phi_old, gamma_old, alpha_old, eta_old, Lambda_old, documents, vocabulary, k)\n",
    "        alpha, eta = \\\n",
    "            M_step_smoothed(phi, gamma, alpha, eta, documents, vocabulary, k)\n",
    "                \n",
    "        if iteration > 15:\n",
    "            break\n",
    "            \n",
    "        # check convergence\n",
    "        if (np.abs((likelihood - likelihood_old) / likelihood_old) > tol):\n",
    "            if (iteration > 2):\n",
    "                converged = True\n",
    "        \n",
    "    return phi, gamma, Lambda, alpha, eta, likelihood"
   ]
  },
  {
   "cell_type": "markdown",
   "metadata": {},
   "source": [
    "# MAIN: LDA"
   ]
  },
  {
   "cell_type": "code",
   "execution_count": null,
   "metadata": {},
   "outputs": [],
   "source": [
    "k = 5\n",
    "corpus_reduced = corpus[:50]\n",
    "M = len(corpus_reduced)\n"
   ]
  },
  {
   "cell_type": "code",
   "execution_count": 133,
   "metadata": {},
   "outputs": [],
   "source": [
    "alpha_init, eta_init, beta_init, gamma_init, phi_init, Lambda_init = initialize_parameters(corpus_reduced, vocabulary, k)"
   ]
  },
  {
   "cell_type": "code",
   "execution_count": 134,
   "metadata": {},
   "outputs": [
    {
     "name": "stdout",
     "output_type": "stream",
     "text": [
      "Variational EM\n",
      "Likelihood==0\n",
      "E-step\n",
      "53 iterations to converge.\n",
      "57 iterations to converge.\n",
      "49 iterations to converge.\n",
      "45 iterations to converge.\n",
      "25 iterations to converge.\n",
      "79 iterations to converge.\n",
      "43 iterations to converge.\n",
      "23 iterations to converge.\n",
      "8 iterations to converge.\n",
      "38 iterations to converge.\n",
      "19 iterations to converge.\n",
      "29 iterations to converge.\n",
      "44 iterations to converge.\n",
      "13 iterations to converge.\n",
      "63 iterations to converge.\n",
      "36 iterations to converge.\n",
      "45 iterations to converge.\n",
      "63 iterations to converge.\n",
      "46 iterations to converge.\n",
      "74 iterations to converge.\n",
      "21 iterations to converge.\n",
      "9 iterations to converge.\n",
      "8 iterations to converge.\n",
      "21 iterations to converge.\n",
      "74 iterations to converge.\n",
      "49 iterations to converge.\n",
      "57 iterations to converge.\n",
      "32 iterations to converge.\n",
      "73 iterations to converge.\n",
      "52 iterations to converge.\n",
      "71 iterations to converge.\n",
      "66 iterations to converge.\n",
      "21 iterations to converge.\n",
      "30 iterations to converge.\n",
      "51 iterations to converge.\n",
      "33 iterations to converge.\n",
      "63 iterations to converge.\n",
      "47 iterations to converge.\n",
      "57 iterations to converge.\n",
      "29 iterations to converge.\n",
      "65 iterations to converge.\n",
      "36 iterations to converge.\n",
      "73 iterations to converge.\n",
      "29 iterations to converge.\n",
      "42 iterations to converge.\n",
      "46 iterations to converge.\n",
      "28 iterations to converge.\n",
      "60 iterations to converge.\n",
      "45 iterations to converge.\n",
      "64 iterations to converge.\n",
      "M-step\n",
      "E-step\n",
      "65 iterations to converge.\n",
      "70 iterations to converge.\n",
      "62 iterations to converge.\n",
      "58 iterations to converge.\n",
      "34 iterations to converge.\n",
      "89 iterations to converge.\n",
      "57 iterations to converge.\n",
      "33 iterations to converge.\n",
      "10 iterations to converge.\n",
      "52 iterations to converge.\n",
      "26 iterations to converge.\n",
      "40 iterations to converge.\n",
      "53 iterations to converge.\n",
      "17 iterations to converge.\n",
      "70 iterations to converge.\n",
      "47 iterations to converge.\n",
      "58 iterations to converge.\n",
      "73 iterations to converge.\n",
      "57 iterations to converge.\n",
      "84 iterations to converge.\n",
      "28 iterations to converge.\n",
      "11 iterations to converge.\n",
      "9 iterations to converge.\n",
      "29 iterations to converge.\n",
      "88 iterations to converge.\n",
      "62 iterations to converge.\n",
      "72 iterations to converge.\n",
      "44 iterations to converge.\n",
      "84 iterations to converge.\n",
      "62 iterations to converge.\n",
      "78 iterations to converge.\n",
      "77 iterations to converge.\n",
      "29 iterations to converge.\n",
      "42 iterations to converge.\n",
      "64 iterations to converge.\n",
      "44 iterations to converge.\n",
      "69 iterations to converge.\n",
      "62 iterations to converge.\n",
      "71 iterations to converge.\n",
      "39 iterations to converge.\n",
      "78 iterations to converge.\n",
      "38 iterations to converge.\n",
      "82 iterations to converge.\n",
      "38 iterations to converge.\n",
      "54 iterations to converge.\n",
      "56 iterations to converge.\n",
      "37 iterations to converge.\n",
      "67 iterations to converge.\n",
      "57 iterations to converge.\n",
      "76 iterations to converge.\n",
      "M-step\n"
     ]
    }
   ],
   "source": [
    "phi, gamma, alpha, beta, likelihood = \\\n",
    "        variational_EM(phi_init, gamma_init, alpha_init, beta_init, corpus_reduced, vocabulary, k)"
   ]
  },
  {
   "cell_type": "markdown",
   "metadata": {},
   "source": [
    "# MAIN: smoothed LDA"
   ]
  },
  {
   "cell_type": "code",
   "execution_count": null,
   "metadata": {},
   "outputs": [],
   "source": [
    "alpha_init, eta_init, beta_init, gamma_init, phi_init, Lambda_init = initialize_parameters(corpus_reduced, vocabulary, k)"
   ]
  },
  {
   "cell_type": "code",
   "execution_count": null,
   "metadata": {},
   "outputs": [],
   "source": [
    "phi_s, gamma_s, lambda_s, alpha_s, eta_s, likelihood_s = \\\n",
    "variational_EM_smoothed(phi_init, gamma_init, alpha_init, beta_init, Lambda_init, eta_init, corpus_reduced, vocabulary, k, tol=1e-5)"
   ]
  },
  {
   "cell_type": "markdown",
   "metadata": {},
   "source": [
    "# Analysis"
   ]
  },
  {
   "cell_type": "code",
   "execution_count": null,
   "metadata": {},
   "outputs": [],
   "source": [
    "plt.pcolormesh(gamma.T)\n",
    "plt.xlabel(\"Documents\")\n",
    "plt.ylabel(\"topic 1..k\")\n",
    "plt.colorbar()"
   ]
  },
  {
   "cell_type": "code",
   "execution_count": null,
   "metadata": {},
   "outputs": [],
   "source": [
    "#plt.pcolormesh(Beta)"
   ]
  },
  {
   "cell_type": "code",
   "execution_count": null,
   "metadata": {},
   "outputs": [],
   "source": [
    "for l in range(k):\n",
    "    beta_topic = beta[l,:]\n",
    "    beta_topic_top4 = np.argsort(beta_topic)[-5:]\n",
    "    plt.plot(beta_topic)\n",
    "    print([w for w in np.array(vocabulary)[beta_topic_top4][:]])"
   ]
  },
  {
   "cell_type": "code",
   "execution_count": 131,
   "metadata": {},
   "outputs": [
    {
     "name": "stdout",
     "output_type": "stream",
     "text": [
      "['million', 'people', 'text', 'ap', 'gas', 'dukakis', 'waste', 'new', 'doc', 'bank']\n",
      "['officers', 'polish', 'text', 'ap', 'percent', 'new', 'years', 'rating', 'soviet', 'doc']\n",
      "['september', 'official', 'people', 'offer', 'year', 'prices', 'peres', 'oil', 'doc', 'percent']\n",
      "['national', 'monday', 'ap', 'text', 'police', 'bush', 'fire', 'year', 'doc', 'percent']\n",
      "['people', 'ap', 'text', 'officials', 'magellan', 'spacecraft', 'two', 'panama', 'noriega', 'doc']\n"
     ]
    },
    {
     "data": {
      "image/png": "[encoded data removed]",
      "text/plain": [
       "<Figure size 432x288 with 1 Axes>"
      ]
     },
     "metadata": {
      "needs_background": "light"
     },
     "output_type": "display_data"
    }
   ],
   "source": [
    "for l in range(k):\n",
    "    l_topic = lambda_s[l, :]\n",
    "    l_topic_top4 = np.argsort(l_topic)[-10:]\n",
    "    plt.plot(l_topic)\n",
    "    print([w for w in np.array(vocabulary)[l_topic_top4][:]])"
   ]
  },
  {
   "cell_type": "markdown",
   "metadata": {},
   "source": [
    "## WRITE TEXT WITH COLOR"
   ]
  },
  {
   "cell_type": "code",
   "execution_count": 167,
   "metadata": {},
   "outputs": [
    {
     "data": {
      "text/plain": [
       "'The William Randolph Hearst Foundation will give  million to Lincoln Center Metropolitan Opera Co New York Philharmonic and Juilliard School Our board felt that we had a real opportunity to make a mark on the future of the performing arts with these grants  an act every bit as important as our traditional areas of support in health medical research education and the social services Hearst Foundation President Randolph A Hearst said Monday in announcing the grants Lincoln Centers share will be  for its new building which will house young artists and provide new public facilities The Metropolitan'"
      ]
     },
     "execution_count": 167,
     "metadata": {},
     "output_type": "execute_result"
    }
   ],
   "source": [
    "def get_full_text(corpus_file, number_of_text):\n",
    "    fulltext_words=[]\n",
    "    fulltext_allwords=[]\n",
    "    #number_of_text=2\n",
    "    text_counter=0\n",
    "    special_chars = '1234567890~!@#£$%^&*()_+,./<>?\\|\"]}\\'[{`-'\n",
    "\n",
    "    with open(corpus_file, 'r') as text:\n",
    "        new=False\n",
    "        for line in text:\n",
    "            if new:\n",
    "                #print(line.strip()[0], line.strip()[:10])\n",
    "                if line.strip()[0]==\"<\":\n",
    "                    pass\n",
    "                else:\n",
    "                    #print(\"FOUND\", text)\n",
    "                    text_counter+=1\n",
    "                    if text_counter==number_of_text:\n",
    "                        #print(\" CORRECT\")\n",
    "                        new_text=line\n",
    "                        fulltext=new_text\n",
    "                        words = np.array(new_text.split())\n",
    "                        for word in words:\n",
    "                            fulltext_allwords.append(word)\n",
    "                            for char in special_chars: # remove punctuation etc,\n",
    "                                word = word.replace(char, '') \n",
    "                            fulltext_words.append(word)\n",
    "\n",
    "\n",
    "            else:\n",
    "                if line.strip() == \"<TEXT>\":\n",
    "                    new=True\n",
    "    return fulltext_words, fulltext_allwords\n",
    "\n",
    "fulltext_words, fulltext_allwords = get_full_text('ap/ap.txt', 1358)\n",
    "\" \".join(fulltext_words[:100])"
   ]
  },
  {
   "cell_type": "code",
   "execution_count": 113,
   "metadata": {},
   "outputs": [],
   "source": [
    "colors=['blue','green', 'red', 'yellow', 'magenta']\n",
    "colors_ansi=[34, 32, 31, 33, 35]\n"
   ]
  },
  {
   "cell_type": "code",
   "execution_count": 114,
   "metadata": {},
   "outputs": [
    {
     "name": "stdout",
     "output_type": "stream",
     "text": [
      "give= 3, million= 4, board= 1, felt= 1, real= 2, opportunity= 0, mark= 4, future= 2, arts= 4, bit= 2, important= 0, traditional= 4, areas= 1, support= 0, health= 0, medical= 4, research= 3, education= 3, social= 4, share= 0, new= 4, building= 3, young= 1, provide= 4, new= 4, public= 3, facilities= 1, receive= 0, music= 0, arts= 4, leading= 3, supporter= 4, annual= 3, "
     ]
    }
   ],
   "source": [
    "fulltext_colors=[]\n",
    "\n",
    "how_significant=1.5\n",
    "significance=[]\n",
    "for word in fulltext_words:\n",
    "    if word in vocabulary:\n",
    "        v = np.where(vocabulary==word)[0][0]\n",
    "        #print(v,word_beta )\n",
    "        word_beta = beta[:,v]\n",
    "        #significance.append(np.max(word_beta)/np.mean(word_beta))\n",
    "        if np.max(word_beta)>np.mean(beta):\n",
    "            if np.max(word_beta)> how_significant*np.mean(word_beta):\n",
    "                #significance =  (np.max(word_beta) / np.mean(word_beta) > 10)\n",
    "                topic = np.where(np.max(word_beta)==word_beta)[0][0]\n",
    "                color = colors[topic]\n",
    "                print(word+\"=\",str( topic)+\", \", end=\"\")\n",
    "\n",
    "            else:\n",
    "                color='k'\n",
    "        else:\n",
    "            color='k'\n",
    "    else: \n",
    "        color='k'\n",
    "    fulltext_colors.append(color)"
   ]
  },
  {
   "cell_type": "code",
   "execution_count": null,
   "metadata": {},
   "outputs": [],
   "source": [
    "#http://ozzmaker.com/add-colour-to-text-in-python/\n",
    "#print(\"Examples of how to use ANSI COLOR: \\033[1;37;40m White          \\033[0m 1;37;40m            \\033[0;37;40m Light Grey \\033[0m 0;37;40m               \\033[0;37;48m Black      \\033[0m 0;37;48m\")\n",
    "             \n",
    "for a in range(len(fulltext_allwords)):\n",
    "    if fulltext_colors[a]=='k':\n",
    "        #IF WE WANT TO FOCUS ON THE TOPIC WORDS:\n",
    "        #print(\"\\033[0;37;48m\"+fulltext_allwords[a], end=\" \")\n",
    "        print(\"\\033[0m\"+fulltext_allwords[a], end=\" \")\n",
    "        \n",
    "        #print(fulltext_allwords[a], end=\" \")\n",
    "    else:\n",
    "        for j in range(k):\n",
    "             if fulltext_colors[a]==colors[j]:\n",
    "                print(\"\\033[0;\"+str(colors_ansi[j])+\";48m\"+fulltext_allwords[a], end=\" \")"
   ]
  },
  {
   "cell_type": "code",
   "execution_count": null,
   "metadata": {},
   "outputs": [],
   "source": [
    "topic_words =[]\n",
    "for i in range(k):\n",
    "    topic_words.append(np.where(np.array(fulltext_colors)==colors[i]))\n",
    "    print(\"\\033[0mTOPIC: \"+str(i)+\": \"+\"\\033[0;\"+str(colors_ansi[i])+\";48m\"+ \", \".join(np.array(fulltext_words)[topic_words[i]]))\n",
    "    print(\"\\033[0m\")"
   ]
  },
  {
   "cell_type": "code",
   "execution_count": 115,
   "metadata": {},
   "outputs": [
    {
     "name": "stdout",
     "output_type": "stream",
     "text": [
      "million= 0, felt= 3, real= 0, make= 4, mark= 1, future= 0, arts= 3, act= 4, traditional= 3, areas= 4, support= 0, education= 0, social= 2, share= 0, new= 0, house= 4, artists= 1, new= 0, public= 4, facilities= 4, music= 3, arts= 3, leading= 3, make= 4, "
     ]
    }
   ],
   "source": [
    "fulltext_colors=[]\n",
    "\n",
    "how_significant=1.5\n",
    "significance=[]\n",
    "for word in fulltext_words:\n",
    "    if word in vocabulary:\n",
    "        v = np.where(vocabulary==word)[0][0]\n",
    "        #print(v,word_beta )\n",
    "        word_l = lambda_s[:,v]\n",
    "        #significance.append(np.max(word_beta)/np.mean(word_beta))\n",
    "        if np.max(word_l)>np.mean(Lambda):\n",
    "            if np.max(word_l)> how_significant*np.mean(word_l):\n",
    "                #significance =  (np.max(word_beta) / np.mean(word_beta) > 10)\n",
    "                topic = np.where(np.max(word_l)==word_l)[0][0]\n",
    "                color = colors[topic]\n",
    "                print(word+\"=\",str( topic)+\", \", end=\"\")\n",
    "\n",
    "            else:\n",
    "                color='k'\n",
    "        else:\n",
    "            color='k'\n",
    "    else: \n",
    "        color='k'\n",
    "    fulltext_colors.append(color)"
   ]
  },
  {
   "cell_type": "code",
   "execution_count": 116,
   "metadata": {},
   "outputs": [
    {
     "name": "stdout",
     "output_type": "stream",
     "text": [
      "\u001b[0mThe \u001b[0mWilliam \u001b[0mRandolph \u001b[0mHearst \u001b[0mFoundation \u001b[0mwill \u001b[0mgive \u001b[0m$1.25 \u001b[0;34;48mmillion \u001b[0mto \u001b[0mLincoln \u001b[0mCenter, \u001b[0mMetropolitan \u001b[0mOpera \u001b[0mCo., \u001b[0mNew \u001b[0mYork \u001b[0mPhilharmonic \u001b[0mand \u001b[0mJuilliard \u001b[0mSchool. \u001b[0m``Our \u001b[0mboard \u001b[0;33;48mfelt \u001b[0mthat \u001b[0mwe \u001b[0mhad \u001b[0ma \u001b[0;34;48mreal \u001b[0mopportunity \u001b[0mto \u001b[0;35;48mmake \u001b[0ma \u001b[0;32;48mmark \u001b[0mon \u001b[0mthe \u001b[0;34;48mfuture \u001b[0mof \u001b[0mthe \u001b[0mperforming \u001b[0;33;48marts \u001b[0mwith \u001b[0mthese \u001b[0mgrants \u001b[0m_ \u001b[0man \u001b[0;35;48mact \u001b[0mevery \u001b[0mbit \u001b[0mas \u001b[0mimportant \u001b[0mas \u001b[0mour \u001b[0;33;48mtraditional \u001b[0;35;48mareas \u001b[0mof \u001b[0;34;48msupport \u001b[0min \u001b[0mhealth, \u001b[0mmedical \u001b[0mresearch, \u001b[0;34;48meducation \u001b[0mand \u001b[0mthe \u001b[0;31;48msocial \u001b[0mservices,'' \u001b[0mHearst \u001b[0mFoundation \u001b[0mPresident \u001b[0mRandolph \u001b[0mA. \u001b[0mHearst \u001b[0msaid \u001b[0mMonday \u001b[0min \u001b[0mannouncing \u001b[0mthe \u001b[0mgrants. \u001b[0mLincoln \u001b[0mCenter's \u001b[0;34;48mshare \u001b[0mwill \u001b[0mbe \u001b[0m$200,000 \u001b[0mfor \u001b[0mits \u001b[0;34;48mnew \u001b[0mbuilding, \u001b[0mwhich \u001b[0mwill \u001b[0;35;48mhouse \u001b[0myoung \u001b[0;32;48martists \u001b[0mand \u001b[0mprovide \u001b[0;34;48mnew \u001b[0;35;48mpublic \u001b[0;35;48mfacilities. \u001b[0mThe \u001b[0mMetropolitan \u001b[0mOpera \u001b[0mCo. \u001b[0mand \u001b[0mNew \u001b[0mYork \u001b[0mPhilharmonic \u001b[0mwill \u001b[0mreceive \u001b[0m$400,000 \u001b[0meach. \u001b[0mThe \u001b[0mJuilliard \u001b[0mSchool, \u001b[0mwhere \u001b[0;33;48mmusic \u001b[0mand \u001b[0mthe \u001b[0mperforming \u001b[0;33;48marts \u001b[0mare \u001b[0mtaught, \u001b[0mwill \u001b[0mget \u001b[0m$250,000. \u001b[0mThe \u001b[0mHearst \u001b[0mFoundation, \u001b[0ma \u001b[0;33;48mleading \u001b[0msupporter \u001b[0mof \u001b[0mthe \u001b[0mLincoln \u001b[0mCenter \u001b[0mConsolidated \u001b[0mCorporate \u001b[0mFund, \u001b[0mwill \u001b[0;35;48mmake \u001b[0mits \u001b[0musual \u001b[0mannual \u001b[0m$100,000 \u001b[0mdonation, \u001b[0mtoo. "
     ]
    }
   ],
   "source": [
    "for a in range(len(fulltext_allwords)):\n",
    "    if fulltext_colors[a]=='k':\n",
    "        #IF WE WANT TO FOCUS ON THE TOPIC WORDS:\n",
    "        #print(\"\\033[0;37;48m\"+fulltext_allwords[a], end=\" \")\n",
    "        print(\"\\033[0m\"+fulltext_allwords[a], end=\" \")\n",
    "        \n",
    "        #print(fulltext_allwords[a], end=\" \")\n",
    "    else:\n",
    "        for j in range(k):\n",
    "             if fulltext_colors[a]==colors[j]:\n",
    "                print(\"\\033[0;\"+str(colors_ansi[j])+\";48m\"+fulltext_allwords[a], end=\" \")"
   ]
  },
  {
   "cell_type": "code",
   "execution_count": 117,
   "metadata": {},
   "outputs": [
    {
     "name": "stdout",
     "output_type": "stream",
     "text": [
      "\u001b[0mTOPIC: 0: \u001b[0;34;48mmillion, real, future, support, education, share, new, new\n",
      "\u001b[0m\n",
      "\u001b[0mTOPIC: 1: \u001b[0;32;48mmark, artists\n",
      "\u001b[0m\n",
      "\u001b[0mTOPIC: 2: \u001b[0;31;48msocial\n",
      "\u001b[0m\n",
      "\u001b[0mTOPIC: 3: \u001b[0;33;48mfelt, arts, traditional, music, arts, leading\n",
      "\u001b[0m\n",
      "\u001b[0mTOPIC: 4: \u001b[0;35;48mmake, act, areas, house, public, facilities, make\n",
      "\u001b[0m\n"
     ]
    }
   ],
   "source": [
    "topic_words =[]\n",
    "for i in range(k):\n",
    "    topic_words.append(np.where(np.array(fulltext_colors)==colors[i]))\n",
    "    print(\"\\033[0mTOPIC: \"+str(i)+\": \"+\"\\033[0;\"+str(colors_ansi[i])+\";48m\"+ \", \".join(np.array(fulltext_words)[topic_words[i]]))\n",
    "    print(\"\\033[0m\")"
   ]
  },
  {
   "cell_type": "markdown",
   "metadata": {},
   "source": [
    "# REUTERS DATA (get from the external program to keep this a bit tidier)"
   ]
  },
  {
   "cell_type": "code",
   "execution_count": 140,
   "metadata": {},
   "outputs": [],
   "source": [
    "from getReuters import D_reuters as corpus_reuters\n",
    "from getReuters import vocab_list as vocabulary_reuters\n",
    "vocabulary_reuters=np.array(vocabulary_reuters)"
   ]
  },
  {
   "cell_type": "code",
   "execution_count": 141,
   "metadata": {},
   "outputs": [
    {
     "data": {
      "text/plain": [
       "100"
      ]
     },
     "execution_count": 141,
     "metadata": {},
     "output_type": "execute_result"
    }
   ],
   "source": [
    "len(corpus_reuters)"
   ]
  },
  {
   "cell_type": "code",
   "execution_count": null,
   "metadata": {},
   "outputs": [],
   "source": [
    "k_reuters = 5\n",
    "corpus_reuters_reduced = corpus_reuters[:50]\n",
    "M_reuters = len(corpus_reuters_reduced)\n"
   ]
  },
  {
   "cell_type": "code",
   "execution_count": null,
   "metadata": {},
   "outputs": [],
   "source": [
    "alpha_init_reuters, eta_init_reuters, beta_init_reuters, gamma_init_reuters, phi_init_reuters, Lambda_init_reuters =\\\n",
    "    initialize_parameters(corpus_reuters_reduced, vocabulary_reuters, k_reuters)"
   ]
  },
  {
   "cell_type": "code",
   "execution_count": null,
   "metadata": {},
   "outputs": [],
   "source": [
    "Phi_reuters, gamma_reuters, alpha_reuters, Beta_reuters, likelihood_reuters = \\\n",
    "        variational_EM(phi_init_reuters, gamma_init_reuters, alpha_init_reuters, beta_init_reuters, \n",
    "                       corpus_reuters_reduced, vocabulary_reuters, k_reuters)"
   ]
  },
  {
   "cell_type": "markdown",
   "metadata": {},
   "source": [
    "# TODO Analysis for REUTERS"
   ]
  },
  {
   "cell_type": "code",
   "execution_count": null,
   "metadata": {},
   "outputs": [],
   "source": [
    "plt.pcolormesh(Beta_reuters)"
   ]
  },
  {
   "cell_type": "code",
   "execution_count": 132,
   "metadata": {},
   "outputs": [
    {
     "name": "stdout",
     "output_type": "stream",
     "text": [
      "['election', 'space', 'thursday', 'white', 'party', 'six', 'judge', 'proposed', 'things', 'told']\n",
      "['countries', 'health', 'election', 'told', 'six', 'proposed', 'vice', 'things', 'day', 'party']\n",
      "['thursday', 'election', 'workers', 'proposed', 'bill', 'countries', 'day', 'things', 'vice', 'told']\n",
      "['thursday', 'gorbachev', 'space', 'white', 'death', 'food', 'election', 'six', 'judge', 'party']\n",
      "['party', 'countries', 'day', 'catholic', 'judge', 'past', 'white', 'gorbachev', 'vice', 'told']\n"
     ]
    },
    {
     "data": {
      "image/png": "[encoded data removed]",
      "text/plain": [
       "<Figure size 432x288 with 1 Axes>"
      ]
     },
     "metadata": {
      "needs_background": "light"
     },
     "output_type": "display_data"
    }
   ],
   "source": [
    "for l in range(k):\n",
    "    beta_topic = Beta_reuters[l,:]\n",
    "    beta_topic_top4 = np.argsort(beta_topic)[-10:]\n",
    "    plt.plot(beta_topic)\n",
    "    print([w for w in np.array(vocabulary)[beta_topic_top4][:]])"
   ]
  },
  {
   "cell_type": "code",
   "execution_count": 111,
   "metadata": {},
   "outputs": [
    {
     "name": "stderr",
     "output_type": "stream",
     "text": [
      "[nltk_data] Downloading package reuters to\n",
      "[nltk_data]     C:\\Users\\Mimi\\AppData\\Roaming\\nltk_data...\n",
      "[nltk_data]   Package reuters is already up-to-date!\n"
     ]
    },
    {
     "data": {
      "text/plain": [
       "<CategorizedPlaintextCorpusReader in 'C:\\\\Users\\\\Mimi\\\\AppData\\\\Roaming\\\\nltk_data\\\\corpora\\\\reuters.zip/reuters/'>"
      ]
     },
     "execution_count": 111,
     "metadata": {},
     "output_type": "execute_result"
    }
   ],
   "source": [
    "fulltext_words = corpus_reuters[0]\n",
    "import nltk\n",
    "nltk.download('reuters')\n",
    "nltk.corpus.reuters"
   ]
  },
  {
   "cell_type": "code",
   "execution_count": 155,
   "metadata": {},
   "outputs": [
    {
     "name": "stdout",
     "output_type": "stream",
     "text": [
      "the\n",
      "again\n",
      "with\n",
      "there\n",
      "in\n",
      "s\n",
      "but\n",
      "a\n",
      "up\n",
      "was\n",
      "she\n",
      "i\n",
      "we\n",
      "and\n",
      "most\n",
      "to\n",
      "be\n",
      "against\n",
      "they\n",
      "of\n",
      "d\n",
      "it\n",
      "on\n",
      "off\n",
      "from\n",
      "he\n",
      "such\n",
      "by\n",
      "for\n",
      "at\n",
      "does\n",
      "not\n",
      "is\n",
      "further\n",
      "this\n",
      "an\n",
      "after\n",
      "no\n",
      "under\n",
      "t\n",
      "some\n",
      "will\n",
      "his\n",
      "me\n",
      "these\n",
      "y\n"
     ]
    }
   ],
   "source": [
    "new = []\n",
    "\n",
    "for w in vocabulary_reuters:\n",
    "    if w in nltk.corpus.stopwords.words(\"english\"):\n",
    "        #print(w)\n",
    "        pass\n",
    "    else: \n",
    "        new.append(w)\n",
    "        \n",
    "vocbulary_reuters = new"
   ]
  },
  {
   "cell_type": "code",
   "execution_count": 168,
   "metadata": {},
   "outputs": [],
   "source": [
    "fulltext_colors=[]\n",
    "\n",
    "how_significant=1.5\n",
    "significance=[]\n",
    "for word in fulltext_words:\n",
    "    if word in nltk.corpus.stopwords.words(\"english\"):\n",
    "        color = \"k\"\n",
    "    else:\n",
    "        if word in vocabulary_reuters:\n",
    "            v = np.where(vocabulary_reuters==word)[0][0]\n",
    "            #print(word)\n",
    "            word_beta = Beta_reuters[:,v]\n",
    "            #significance.append(np.max(word_beta)/np.mean(word_beta))\n",
    "            if np.max(word_beta)>np.mean(beta):\n",
    "                if np.max(word_beta)> how_significant*np.mean(word_beta):\n",
    "                    #significance =  (np.max(word_beta) / np.mean(word_beta) > 10)\n",
    "                    topic = np.where(np.max(word_beta)==word_beta)[0][0]\n",
    "                    color = colors[topic]\n",
    "                    #print(word+\"=\",str( topic)+\", \", end=\"\")\n",
    "\n",
    "                else:\n",
    "                    color='k'\n",
    "            else:\n",
    "                color='k'\n",
    "        else: \n",
    "            color='k'\n",
    "    fulltext_colors.append(color)"
   ]
  },
  {
   "cell_type": "code",
   "execution_count": 169,
   "metadata": {},
   "outputs": [
    {
     "name": "stdout",
     "output_type": "stream",
     "text": [
      "\u001b[0mThe \u001b[0mWilliam \u001b[0mRandolph \u001b[0mHearst \u001b[0mFoundation \u001b[0mwill \u001b[0;34;48mgive \u001b[0m$1.25 \u001b[0mmillion \u001b[0mto \u001b[0mLincoln \u001b[0mCenter, \u001b[0mMetropolitan \u001b[0mOpera \u001b[0mCo., \u001b[0mNew \u001b[0mYork \u001b[0mPhilharmonic \u001b[0mand \u001b[0mJuilliard \u001b[0mSchool. \u001b[0m``Our \u001b[0;31;48mboard \u001b[0mfelt \u001b[0mthat \u001b[0mwe \u001b[0mhad \u001b[0ma \u001b[0;34;48mreal \u001b[0mopportunity \u001b[0mto \u001b[0mmake \u001b[0ma \u001b[0mmark \u001b[0mon \u001b[0mthe \u001b[0;35;48mfuture \u001b[0mof \u001b[0mthe \u001b[0mperforming \u001b[0marts \u001b[0mwith \u001b[0mthese \u001b[0mgrants \u001b[0m_ \u001b[0man \u001b[0;31;48mact \u001b[0mevery \u001b[0mbit \u001b[0mas \u001b[0mimportant \u001b[0mas \u001b[0mour \u001b[0mtraditional \u001b[0mareas \u001b[0mof \u001b[0;32;48msupport \u001b[0min \u001b[0mhealth, \u001b[0mmedical \u001b[0mresearch, \u001b[0meducation \u001b[0mand \u001b[0mthe \u001b[0msocial \u001b[0;34;48mservices,'' \u001b[0mHearst \u001b[0mFoundation \u001b[0mPresident \u001b[0mRandolph \u001b[0mA. \u001b[0mHearst \u001b[0;35;48msaid \u001b[0mMonday \u001b[0min \u001b[0mannouncing \u001b[0mthe \u001b[0mgrants. \u001b[0mLincoln \u001b[0mCenter's \u001b[0;34;48mshare \u001b[0mwill \u001b[0mbe \u001b[0m$200,000 \u001b[0mfor \u001b[0mits \u001b[0mnew \u001b[0mbuilding, \u001b[0mwhich \u001b[0mwill \u001b[0mhouse \u001b[0myoung \u001b[0martists \u001b[0mand \u001b[0mprovide \u001b[0mnew \u001b[0;32;48mpublic \u001b[0mfacilities. \u001b[0mThe \u001b[0mMetropolitan \u001b[0mOpera \u001b[0mCo. \u001b[0mand \u001b[0mNew \u001b[0mYork \u001b[0mPhilharmonic \u001b[0mwill \u001b[0mreceive \u001b[0m$400,000 \u001b[0meach. \u001b[0mThe \u001b[0mJuilliard \u001b[0mSchool, \u001b[0mwhere \u001b[0mmusic \u001b[0mand \u001b[0mthe \u001b[0mperforming \u001b[0marts \u001b[0mare \u001b[0mtaught, \u001b[0mwill \u001b[0;35;48mget \u001b[0m$250,000. \u001b[0mThe \u001b[0mHearst \u001b[0mFoundation, \u001b[0ma \u001b[0mleading \u001b[0msupporter \u001b[0mof \u001b[0mthe \u001b[0mLincoln \u001b[0mCenter \u001b[0mConsolidated \u001b[0mCorporate \u001b[0mFund, \u001b[0mwill \u001b[0mmake \u001b[0mits \u001b[0musual \u001b[0;31;48mannual \u001b[0m$100,000 \u001b[0mdonation, \u001b[0mtoo. "
     ]
    }
   ],
   "source": [
    "for a in range(len(fulltext_allwords)):\n",
    "    if fulltext_colors[a]=='k':\n",
    "        #IF WE WANT TO FOCUS ON THE TOPIC WORDS:\n",
    "        #print(\"\\033[0;37;48m\"+fulltext_allwords[a], end=\" \")\n",
    "        print(\"\\033[0m\"+fulltext_allwords[a], end=\" \")\n",
    "        \n",
    "        #print(fulltext_allwords[a], end=\" \")\n",
    "    else:\n",
    "        for j in range(k):\n",
    "             if fulltext_colors[a]==colors[j]:\n",
    "                print(\"\\033[0;\"+str(colors_ansi[j])+\";48m\"+fulltext_allwords[a], end=\" \")"
   ]
  },
  {
   "cell_type": "code",
   "execution_count": 161,
   "metadata": {},
   "outputs": [
    {
     "name": "stdout",
     "output_type": "stream",
     "text": [
      "\u001b[0mTOPIC: 0: \u001b[0;34;48mgive, real, services, share\n",
      "\u001b[0m\n",
      "\u001b[0mTOPIC: 1: \u001b[0;32;48msupport, public\n",
      "\u001b[0m\n",
      "\u001b[0mTOPIC: 2: \u001b[0;31;48mboard, act, annual\n",
      "\u001b[0m\n",
      "\u001b[0mTOPIC: 3: \u001b[0;33;48m\n",
      "\u001b[0m\n",
      "\u001b[0mTOPIC: 4: \u001b[0;35;48mfuture, said, get\n",
      "\u001b[0m\n"
     ]
    }
   ],
   "source": [
    "topic_words =[]\n",
    "for i in range(k):\n",
    "    topic_words.append(np.where(np.array(fulltext_colors)==colors[i]))\n",
    "    print(\"\\033[0mTOPIC: \"+str(i)+\": \"+\"\\033[0;\"+str(colors_ansi[i])+\";48m\"+ \", \".join(np.array(fulltext_words)[topic_words[i]]))\n",
    "    print(\"\\033[0m\")"
   ]
  },
  {
   "cell_type": "code",
   "execution_count": 171,
   "metadata": {},
   "outputs": [],
   "source": [
    "corpus_file = \"reuters0.txt\"\n",
    "fulltext_words=[]\n",
    "fulltext_allwords=[]\n",
    "#number_of_text=2\n",
    "text_counter=0\n",
    "special_chars = '1234567890~!@#£$%^&*()_+,./<>?\\|\"]}\\'[{`-'\n",
    "\n",
    "with open(corpus_file, 'r') as text:\n",
    "    new=False\n",
    "    for line in text:\n",
    "        new_text=line\n",
    "        fulltext=new_text\n",
    "        words = np.array(new_text.split())\n",
    "        for word in words:\n",
    "            fulltext_allwords.append(word)\n",
    "            for char in special_chars: # remove punctuation etc,\n",
    "                word = word.replace(char, '') \n",
    "            fulltext_words.append(word)\n",
    "\n",
    "\n",
    "        else:\n",
    "            if line.strip() == \"<TEXT>\":\n",
    "                new=True\n"
   ]
  },
  {
   "cell_type": "code",
   "execution_count": 172,
   "metadata": {},
   "outputs": [],
   "source": [
    "fulltext_colors=[]\n",
    "\n",
    "how_significant=1.5\n",
    "significance=[]\n",
    "for word in fulltext_words:\n",
    "    if word in nltk.corpus.stopwords.words(\"english\"):\n",
    "        color = 'k'\n",
    "    else:\n",
    "        if word in vocabulary_reuters:\n",
    "            v = np.where(vocabulary_reuters==word)[0][0]\n",
    "            #print(word)\n",
    "            word_beta = Beta_reuters[:,v]\n",
    "            #significance.append(np.max(word_beta)/np.mean(word_beta))\n",
    "            if np.max(word_beta)>np.mean(beta):\n",
    "                if np.max(word_beta)> how_significant*np.mean(word_beta):\n",
    "                    #significance =  (np.max(word_beta) / np.mean(word_beta) > 10)\n",
    "                    topic = np.where(np.max(word_beta)==word_beta)[0][0]\n",
    "                    color = colors[topic]\n",
    "                    #print(word+\"=\",str( topic)+\", \", end=\"\")\n",
    "\n",
    "                else:\n",
    "                    color='k'\n",
    "            else:\n",
    "                color='k'\n",
    "        else: \n",
    "            color='k'\n",
    "            \n",
    "    fulltext_colors.append(color)"
   ]
  },
  {
   "cell_type": "code",
   "execution_count": 173,
   "metadata": {},
   "outputs": [
    {
     "name": "stdout",
     "output_type": "stream",
     "text": [
      "\u001b[0mBAHIA \u001b[0mCOCOA \u001b[0mREVIEW \u001b[0mShowers \u001b[0;32;48mcontinued \u001b[0;31;48mthroughout \u001b[0mthe \u001b[0;32;48mweek \u001b[0min \u001b[0mthe \u001b[0mBahia \u001b[0;33;48mcocoa \u001b[0;32;48mzone, \u001b[0;33;48malleviating \u001b[0mthe \u001b[0;31;48mdrought \u001b[0;34;48msince \u001b[0;35;48mearly \u001b[0mJanuary \u001b[0mand \u001b[0;32;48mimproving \u001b[0;31;48mprospects \u001b[0mfor \u001b[0mthe \u001b[0;31;48mcoming \u001b[0;31;48mtemporao, \u001b[0;34;48malthough \u001b[0;31;48mnormal \u001b[0;32;48mhumidity \u001b[0;32;48mlevels \u001b[0mhave \u001b[0mnot \u001b[0mbeen \u001b[0;32;48mrestored, \u001b[0mComissaria \u001b[0mSmith \u001b[0;35;48msaid \u001b[0min \u001b[0mits \u001b[0;33;48mweekly \u001b[0;32;48mreview. \u001b[0mThe \u001b[0;35;48mdry \u001b[0mperiod \u001b[0;31;48mmeans \u001b[0mthe \u001b[0;31;48mtemporao \u001b[0mwill \u001b[0mbe \u001b[0;31;48mlate \u001b[0mthis \u001b[0;32;48myear. \u001b[0mArrivals \u001b[0mfor \u001b[0mthe \u001b[0;32;48mweek \u001b[0;32;48mended \u001b[0mFebruary \u001b[0m22 \u001b[0mwere \u001b[0m155,221 \u001b[0;33;48mbags \u001b[0mof \u001b[0m60 \u001b[0;35;48mkilos \u001b[0;34;48mmaking \u001b[0ma \u001b[0;31;48mcumulative \u001b[0;33;48mtotal \u001b[0mfor \u001b[0mthe \u001b[0;31;48mseason \u001b[0mof \u001b[0m5.93 \u001b[0mmln \u001b[0magainst \u001b[0m5.81 \u001b[0mat \u001b[0mthe \u001b[0msame \u001b[0;32;48mstage \u001b[0;31;48mlast \u001b[0;32;48myear. \u001b[0mAgain \u001b[0mit \u001b[0;32;48mseems \u001b[0mthat \u001b[0;33;48mcocoa \u001b[0;34;48mdelivered \u001b[0;35;48mearlier \u001b[0mon \u001b[0;31;48mconsignment \u001b[0mwas \u001b[0;33;48mincluded \u001b[0min \u001b[0mthe \u001b[0;31;48marrivals \u001b[0;31;48mfigures. \u001b[0mComissaria \u001b[0mSmith \u001b[0;35;48msaid \u001b[0mthere \u001b[0mis \u001b[0;32;48mstill \u001b[0msome \u001b[0;32;48mdoubt \u001b[0mas \u001b[0mto \u001b[0mhow \u001b[0;34;48mmuch \u001b[0;34;48mold \u001b[0;31;48mcrop \u001b[0;33;48mcocoa \u001b[0mis \u001b[0;32;48mstill \u001b[0;34;48mavailable \u001b[0mas \u001b[0;32;48mharvesting \u001b[0mhas \u001b[0;32;48mpractically \u001b[0mcome \u001b[0mto \u001b[0man \u001b[0mend. \u001b[0mWith \u001b[0;33;48mtotal \u001b[0mBahia \u001b[0;31;48mcrop \u001b[0;32;48mestimates \u001b[0;33;48maround \u001b[0m6.4 \u001b[0mmln \u001b[0;33;48mbags \u001b[0mand \u001b[0;33;48msales \u001b[0;32;48mstanding \u001b[0mat \u001b[0;34;48malmost \u001b[0m6.2 \u001b[0mmln \u001b[0mthere \u001b[0mare \u001b[0ma \u001b[0mfew \u001b[0;32;48mhundred \u001b[0;32;48mthousand \u001b[0;33;48mbags \u001b[0;32;48mstill \u001b[0min \u001b[0mthe \u001b[0;32;48mhands \u001b[0mof \u001b[0;32;48mfarmers, \u001b[0;35;48mmiddlemen, \u001b[0;32;48mexporters \u001b[0mand \u001b[0mprocessors. \u001b[0mThere \u001b[0mare \u001b[0;31;48mdoubts \u001b[0mas \u001b[0mto \u001b[0mhow \u001b[0;34;48mmuch \u001b[0mof \u001b[0mthis \u001b[0;33;48mcocoa \u001b[0mwould \u001b[0mbe \u001b[0;32;48mfit \u001b[0mfor \u001b[0;34;48mexport \u001b[0mas \u001b[0;35;48mshippers \u001b[0mare \u001b[0mnow \u001b[0;31;48mexperiencing \u001b[0;32;48mdificulties \u001b[0min \u001b[0;34;48mobtaining \u001b[0m+Bahia \u001b[0;33;48msuperior+ \u001b[0;32;48mcertificates. \u001b[0mIn \u001b[0;32;48mview \u001b[0mof \u001b[0mthe \u001b[0;31;48mlower \u001b[0;32;48mquality \u001b[0mover \u001b[0;34;48mrecent \u001b[0;32;48mweeks \u001b[0;32;48mfarmers \u001b[0mhave \u001b[0msold \u001b[0ma \u001b[0;35;48mgood \u001b[0mpart \u001b[0mof \u001b[0mtheir \u001b[0;33;48mcocoa \u001b[0;32;48mheld \u001b[0mon \u001b[0;31;48mconsignment. \u001b[0mComissaria \u001b[0mSmith \u001b[0;35;48msaid \u001b[0;32;48mspot \u001b[0;32;48mbean \u001b[0;35;48mprices \u001b[0;31;48mrose \u001b[0mto \u001b[0m340 \u001b[0mto \u001b[0m350 \u001b[0;32;48mcruzados \u001b[0mper \u001b[0;32;48marroba \u001b[0mof \u001b[0m15 \u001b[0;35;48mkilos. \u001b[0mBean \u001b[0;35;48mshippers \u001b[0mwere \u001b[0;31;48mreluctant \u001b[0mto \u001b[0;35;48moffer \u001b[0;31;48mnearby \u001b[0;35;48mshipment \u001b[0mand \u001b[0monly \u001b[0;34;48mlimited \u001b[0;33;48msales \u001b[0mwere \u001b[0;32;48mbooked \u001b[0mfor \u001b[0mMarch \u001b[0;35;48mshipment \u001b[0mat \u001b[0m1,750 \u001b[0mto \u001b[0m1,780 \u001b[0;35;48mdlrs \u001b[0mper \u001b[0;34;48mtonne \u001b[0mto \u001b[0mports \u001b[0mto \u001b[0mbe \u001b[0;31;48mnamed. \u001b[0mNew \u001b[0;31;48mcrop \u001b[0;33;48msales \u001b[0mwere \u001b[0;35;48malso \u001b[0;34;48mlight \u001b[0mand \u001b[0mall \u001b[0mto \u001b[0;32;48mopen \u001b[0mports \u001b[0mwith \u001b[0mJune/July \u001b[0;35;48mgoing \u001b[0mat \u001b[0m1,850 \u001b[0mand \u001b[0m1,880 \u001b[0;35;48mdlrs \u001b[0mand \u001b[0mat \u001b[0m35 \u001b[0mand \u001b[0m45 \u001b[0;35;48mdlrs \u001b[0munder \u001b[0mNew \u001b[0mYork \u001b[0;35;48mjuly, \u001b[0mAug/Sept \u001b[0mat \u001b[0m1,870, \u001b[0m1,875 \u001b[0mand \u001b[0m1,880 \u001b[0;35;48mdlrs \u001b[0mper \u001b[0;34;48mtonne \u001b[0mFOB. \u001b[0mRoutine \u001b[0;33;48msales \u001b[0mof \u001b[0mbutter \u001b[0mwere \u001b[0mmade. \u001b[0mMarch/April \u001b[0msold \u001b[0mat \u001b[0m4,340, \u001b[0m4,345 \u001b[0mand \u001b[0m4,350 \u001b[0;35;48mdlrs. \u001b[0mApril/May \u001b[0mbutter \u001b[0;33;48mwent \u001b[0mat \u001b[0m2.27 \u001b[0;31;48mtimes \u001b[0mNew \u001b[0mYork \u001b[0mMay, \u001b[0mJune/July \u001b[0mat \u001b[0m4,400 \u001b[0mand \u001b[0m4,415 \u001b[0;35;48mdlrs, \u001b[0mAug/Sept \u001b[0mat \u001b[0m4,351 \u001b[0mto \u001b[0m4,450 \u001b[0;35;48mdlrs \u001b[0mand \u001b[0mat \u001b[0m2.27 \u001b[0mand \u001b[0m2.28 \u001b[0;31;48mtimes \u001b[0mNew \u001b[0mYork \u001b[0mSept \u001b[0mand \u001b[0mOct/Dec \u001b[0mat \u001b[0m4,480 \u001b[0;35;48mdlrs \u001b[0mand \u001b[0m2.27 \u001b[0;31;48mtimes \u001b[0mNew \u001b[0mYork \u001b[0mDec, \u001b[0mComissaria \u001b[0mSmith \u001b[0;35;48msaid. \u001b[0mDestinations \u001b[0mwere \u001b[0mthe \u001b[0mU.S., \u001b[0mCovertible \u001b[0;31;48mcurrency \u001b[0mareas, \u001b[0mUruguay \u001b[0mand \u001b[0;32;48mopen \u001b[0mports. \u001b[0mCake \u001b[0;33;48msales \u001b[0mwere \u001b[0;31;48mregistered \u001b[0mat \u001b[0m785 \u001b[0mto \u001b[0m995 \u001b[0;35;48mdlrs \u001b[0mfor \u001b[0mMarch/April, \u001b[0m785 \u001b[0;35;48mdlrs \u001b[0mfor \u001b[0mMay, \u001b[0m753 \u001b[0;35;48mdlrs \u001b[0mfor \u001b[0mAug \u001b[0mand \u001b[0m0.39 \u001b[0;31;48mtimes \u001b[0mNew \u001b[0mYork \u001b[0mDec \u001b[0mfor \u001b[0mOct/Dec. \u001b[0mBuyers \u001b[0mwere \u001b[0mthe \u001b[0mU.S., \u001b[0mArgentina, \u001b[0mUruguay \u001b[0mand \u001b[0;32;48mconvertible \u001b[0;31;48mcurrency \u001b[0mareas. \u001b[0mLiquor \u001b[0;33;48msales \u001b[0mwere \u001b[0;34;48mlimited \u001b[0mwith \u001b[0mMarch/April \u001b[0;32;48mselling \u001b[0mat \u001b[0m2,325 \u001b[0mand \u001b[0m2,380 \u001b[0;35;48mdlrs, \u001b[0mJune/July \u001b[0mat \u001b[0m2,375 \u001b[0;35;48mdlrs \u001b[0mand \u001b[0mat \u001b[0m1.25 \u001b[0;31;48mtimes \u001b[0mNew \u001b[0mYork \u001b[0mJuly, \u001b[0mAug/Sept \u001b[0mat \u001b[0m2,400 \u001b[0;35;48mdlrs \u001b[0mand \u001b[0mat \u001b[0m1.25 \u001b[0;31;48mtimes \u001b[0mNew \u001b[0mYork \u001b[0mSept \u001b[0mand \u001b[0mOct/Dec \u001b[0mat \u001b[0m1.25 \u001b[0;31;48mtimes \u001b[0mNew \u001b[0mYork \u001b[0mDec, \u001b[0mComissaria \u001b[0mSmith \u001b[0;35;48msaid. \u001b[0mTotal \u001b[0mBahia \u001b[0;33;48msales \u001b[0mare \u001b[0;32;48mcurrently \u001b[0mestimated \u001b[0mat \u001b[0m6.13 \u001b[0mmln \u001b[0;33;48mbags \u001b[0magainst \u001b[0mthe \u001b[0m1986/87 \u001b[0;31;48mcrop \u001b[0mand \u001b[0m1.06 \u001b[0mmln \u001b[0;33;48mbags \u001b[0magainst \u001b[0mthe \u001b[0m1987/88 \u001b[0;31;48mcrop. \u001b[0mFinal \u001b[0;31;48mfigures \u001b[0mfor \u001b[0mthe \u001b[0mperiod \u001b[0mto \u001b[0mFebruary \u001b[0m28 \u001b[0mare \u001b[0;32;48mexpected \u001b[0mto \u001b[0mbe \u001b[0;35;48mpublished \u001b[0mby \u001b[0mthe \u001b[0mBrazilian \u001b[0mCocoa \u001b[0mTrade \u001b[0mCommission \u001b[0mafter \u001b[0;32;48mcarnival \u001b[0mwhich \u001b[0;31;48mends \u001b[0;31;48mmidday \u001b[0mon \u001b[0mFebruary \u001b[0m27. "
     ]
    }
   ],
   "source": [
    "for a in range(len(fulltext_allwords)):\n",
    "    if fulltext_colors[a]=='k':\n",
    "        #IF WE WANT TO FOCUS ON THE TOPIC WORDS:\n",
    "        #print(\"\\033[0;37;48m\"+fulltext_allwords[a], end=\" \")\n",
    "        print(\"\\033[0m\"+fulltext_allwords[a], end=\" \")\n",
    "        \n",
    "        #print(fulltext_allwords[a], end=\" \")\n",
    "    else:\n",
    "        for j in range(k):\n",
    "             if fulltext_colors[a]==colors[j]:\n",
    "                print(\"\\033[0;\"+str(colors_ansi[j])+\";48m\"+fulltext_allwords[a], end=\" \")"
   ]
  },
  {
   "cell_type": "code",
   "execution_count": 174,
   "metadata": {},
   "outputs": [
    {
     "name": "stdout",
     "output_type": "stream",
     "text": [
      "\u001b[0mTOPIC: 0: \u001b[0;34;48msince, although, making, delivered, much, old, available, almost, much, export, obtaining, recent, limited, tonne, light, tonne, limited\n",
      "\u001b[0m\n",
      "\u001b[0mTOPIC: 1: \u001b[0;32;48mcontinued, week, zone, improving, humidity, levels, restored, review, year, week, ended, stage, year, seems, still, doubt, still, harvesting, practically, estimates, standing, hundred, thousand, still, hands, farmers, exporters, fit, dificulties, certificates, view, quality, weeks, farmers, held, spot, bean, cruzados, arroba, booked, open, open, convertible, selling, currently, expected, carnival\n",
      "\u001b[0m\n",
      "\u001b[0mTOPIC: 2: \u001b[0;31;48mthroughout, drought, prospects, coming, temporao, normal, means, temporao, late, cumulative, season, last, consignment, arrivals, figures, crop, crop, doubts, experiencing, lower, consignment, rose, reluctant, nearby, named, crop, times, times, times, currency, registered, times, currency, times, times, times, crop, crop, figures, ends, midday\n",
      "\u001b[0m\n",
      "\u001b[0mTOPIC: 3: \u001b[0;33;48mcocoa, alleviating, weekly, bags, total, cocoa, included, cocoa, total, around, bags, sales, bags, cocoa, superior, cocoa, sales, sales, sales, went, sales, sales, sales, bags, bags\n",
      "\u001b[0m\n",
      "\u001b[0mTOPIC: 4: \u001b[0;35;48mearly, said, dry, kilos, earlier, said, middlemen, shippers, good, said, prices, kilos, shippers, offer, shipment, shipment, dlrs, also, going, dlrs, dlrs, july, dlrs, dlrs, dlrs, dlrs, dlrs, said, dlrs, dlrs, dlrs, dlrs, dlrs, dlrs, said, published\n",
      "\u001b[0m\n"
     ]
    }
   ],
   "source": [
    "topic_words =[]\n",
    "for i in range(k):\n",
    "    topic_words.append(np.where(np.array(fulltext_colors)==colors[i]))\n",
    "    print(\"\\033[0mTOPIC: \"+str(i)+\": \"+\"\\033[0;\"+str(colors_ansi[i])+\";48m\"+ \", \".join(np.array(fulltext_words)[topic_words[i]]))\n",
    "    print(\"\\033[0m\")"
   ]
  },
  {
   "cell_type": "code",
   "execution_count": 135,
   "metadata": {},
   "outputs": [
    {
     "data": {
      "text/plain": [
       "2060"
      ]
     },
     "execution_count": 135,
     "metadata": {},
     "output_type": "execute_result"
    }
   ],
   "source": [
    "len(vocabulary_reuters)"
   ]
  }
 ],
 "metadata": {
  "kernelspec": {
   "display_name": "Python 3",
   "language": "python",
   "name": "python3"
  },
  "language_info": {
   "codemirror_mode": {
    "name": "ipython",
    "version": 3
   },
   "file_extension": ".py",
   "mimetype": "text/x-python",
   "name": "python",
   "nbconvert_exporter": "python",
   "pygments_lexer": "ipython3",
   "version": "3.7.3"
  }
 },
 "nbformat": 4,
 "nbformat_minor": 2
}
