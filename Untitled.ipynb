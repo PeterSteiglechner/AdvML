{
 "cells": [
  {
   "cell_type": "markdown",
   "metadata": {},
   "source": [
    "# DD2434_Project"
   ]
  },
  {
   "cell_type": "markdown",
   "metadata": {},
   "source": [
    "# Setup"
   ]
  },
  {
   "cell_type": "markdown",
   "metadata": {},
   "source": [
    "PARAMETERS:\n",
    "\n",
    "k - number of topics\n",
    "N - number of words in a document (different for each document)\n",
    "M - number of documents in a corpus\n",
    "\n",
    "Model parameters:\n",
    "z_n - [k] dimension vector; topic distribution for word n \n",
    "Theta - [k] dimension vector; mixture weights\n",
    "alpha - [k] dimension vector; prior probability for theta (mixture weights) (alpha > 0)\n",
    "beta - [k x V] dimension matrix; beta_ij = p(w^j = 1 | z^i = 1) \n",
    "                                 probability for a specific word j given a specific topic i\n",
    "D - list of [V x N] dimension matrices, that is M long = [\\mathbf{w}_1, ... \\mathbf{w}_M];\n",
    "                                 where \\mathbf{w} = [w_1,...,w_N] is [V x N] (one document consisting of N words) \n",
    "\n",
    "\n",
    "Variational parameters:\n",
    "Gamma - [k] dimension vector; determines Theta in the Variational Model\n",
    "Phi = phi_1 .. phi_N - [N x k] dimension matrix; determines the probability distribution \n",
    "                                 for topics z of words in the Variational Model"
   ]
  },
  {
   "cell_type": "code",
   "execution_count": 1,
   "metadata": {},
   "outputs": [],
   "source": [
    "import numpy as np \n",
    "import matplotlib.pyplot as plt \n",
    "import scipy\n",
    "from scipy import special\n",
    "from scipy.special import digamma, gammaln, polygamma\n",
    "import pandas as pd\n",
    "from collections import Counter "
   ]
  },
  {
   "cell_type": "markdown",
   "metadata": {},
   "source": [
    "## Load the Document Corpus\n",
    "Download the data from \n",
    "https://github.com/Blei-Lab/lda-c/blob/master/example/ap.tgz\n",
    "\n",
    "We can directly load the file \"ap.dat\" which contains:\n",
    "\n",
    "1 line = 1 document,\n",
    "\n",
    "[number of different words in doc] [word index (where the one is in w_n]:[how often it occurs in the doc] [word index 2]:[occurences 2] ..."
   ]
  },
  {
   "cell_type": "code",
   "execution_count": 2,
   "metadata": {},
   "outputs": [],
   "source": [
    "vocabulary = np.genfromtxt('ap/vocab.txt',  dtype='str')"
   ]
  },
  {
   "cell_type": "code",
   "execution_count": 3,
   "metadata": {},
   "outputs": [],
   "source": [
    "def clean_up_data(corpus_file, vocabulary_file, stopwords_file):\n",
    "    \"\"\"\n",
    "    Reads the corpus from the .txt file into a list of lists;\n",
    "    a list for each document which contains a list of all the \n",
    "    words as strings.\n",
    "    Input parameters:\n",
    "    corpus_file - path to the corpus file\n",
    "    vocabulary_file - path to the vocabulary file\n",
    "    stopwords_file - path to the stopwords file\n",
    "    \"\"\"\n",
    "    vocabulary = np.genfromtxt(vocabulary_file,  dtype='str')\n",
    "    special_chars = '1234567890~!@#£$%^&*()_+,./<>?\\|\"]}\\'[{`-'\n",
    "    corpus = []\n",
    "    \n",
    "    # read in stopwords from file into a list\n",
    "    stopwords = [] \n",
    "    with open(stopwords_file, 'r') as file:\n",
    "        stop_words = file.read().replace(',', ' ')\n",
    "        for word in stop_words.split():\n",
    "            stopwords.append(word) \n",
    "    \n",
    "    with open(corpus_file, 'r') as text:\n",
    "        doc = ''\n",
    "        new = False\n",
    "        for line in text:\n",
    "            if new: # reached a new document\n",
    "                if line.strip() != '</TEXT>': # until we reach the new doc\n",
    "                    for char in special_chars: # remove punctuation etc,\n",
    "                        line = line.replace(char, '') \n",
    "                    doc += line\n",
    "                else: # we've reached a new doc again\n",
    "                    doc = doc.lower() # all words lowercase\n",
    "                    words = np.array(doc.split())\n",
    "                    # PETER EDIT: next two lines\n",
    "                    doc = [word for word in words if (  (word not in stopwords) and (word in vocabulary)  )]\n",
    "                    corpus.append(doc)\n",
    "                    doc = ''\n",
    "            elif line.strip() == '<TEXT>': new = True\n",
    "\n",
    "    \n",
    "    return corpus, vocabulary"
   ]
  },
  {
   "cell_type": "code",
   "execution_count": 4,
   "metadata": {},
   "outputs": [],
   "source": [
    "corpus, vocabulary = clean_up_data('ap/ap.txt', 'ap/vocab.txt', 'ap/stopwords.txt')"
   ]
  },
  {
   "cell_type": "code",
   "execution_count": 5,
   "metadata": {},
   "outputs": [],
   "source": [
    "def initialize_parameters(documents, vocabulary, k):\n",
    "    M = len(documents)\n",
    "    V = len(vocabulary)\n",
    "    \n",
    "    # Initialize alpha \n",
    "    # alpha = np.ones([M,k]) * 50/k # for every document, for every topic\n",
    "    alpha = np.ones(k)*50/k\n",
    "    # Initialize beta\n",
    "    beta = np.zeros([k,V]) # for every topic, for every word in the vocabulary\n",
    "    for i in range(k):\n",
    "        beta[i] = np.random.uniform(0, 1, V)\n",
    "        beta[i] = beta[i] / np.sum(beta[i])\n",
    "    \n",
    "    # Initialize phi and gamma\n",
    "    phi = []\n",
    "    gamma = np.zeros([M,k]) # for every document, for every topic\n",
    "    for m in range(M):\n",
    "        doc = np.array(documents[m])\n",
    "        N = len(doc)\n",
    "        phi.append(np.ones([N,k]) * 1/float(k)) # uniform over topics\n",
    "        \n",
    "        for i in range(k):\n",
    "            gamma[m][i] = alpha[i] + N/float(k)\n",
    "        #m += 1 # WHYYYYYYY?\n",
    "        \n",
    "    return alpha, beta, gamma, phi"
   ]
  },
  {
   "cell_type": "code",
   "execution_count": 18,
   "metadata": {},
   "outputs": [],
   "source": [
    "def compute_lower_bound_likelihood(phi, gamma, alpha, beta, document, vocabulary,k):\n",
    "    '''\n",
    "    This calculate the lower bound of L(gamma, phi, alpha, beta)\n",
    "    Ie. equation 15 in the paper in Appendix 3.\n",
    "    '''\n",
    "   \n",
    "    N, k = phi.shape\n",
    "    k,V = beta.shape\n",
    "    \n",
    "    loggamma_sum = lambda x: scipy.special.gammaln(np.sum(x))\n",
    "    loggamma_x_i = lambda x, i: np.log(scipy.special.gamma(x[i]))\n",
    "    E_log_thetai_givenGamma = lambda i:  (psi(gamma[i]) - psi(np.sum(gamma))) \n",
    "\n",
    "    term0 = loggamma_sum(alpha) - loggamma_sum(gamma)\n",
    "    term_kSum=0\n",
    "    for i in range(k):\n",
    "        E = E_log_thetai_givenGamma(i)\n",
    "        term_kSum += -loggamma_x_i(alpha,i) + (alpha[i]-1)*E\n",
    "        term_kSum += gammaln(gamma[i]) - (gamma[i] - 1) * E\n",
    "\n",
    "        term_knSum = 0\n",
    "        term_knvSum=0\n",
    "        for n in range(N):\n",
    "            if phi[n,i]==0:\n",
    "                print(\"Error: Phi[\",n,i,\"]==0\")\n",
    "            term_knSum += phi[n,i] * E_log_thetai_givenGamma(i)\n",
    "            term_knSum += - phi[n,i] *np.log(phi[n,i])\n",
    "            \n",
    "            v = np.where(vocabulary == document[n])[0][0] # here w_n is not a vector\n",
    "            if beta[i,v]<=0:\n",
    "                print(\"Error: beta[\"+i,v,\"]<=0\")\n",
    "            #L+= phi[n,i] * np.log(beta[i,v]) \n",
    "            term_knvSum += phi[n,i] * np.log(beta[i,v]) \n",
    "\n",
    "    #print(term0,term_knSum, term_kSum)\n",
    "    L_terms = term0+term_knSum+term_kSum+term_knvSum\n",
    "    \n",
    "    return L_terms\n",
    "    \n",
    "\n",
    "\n",
    "def psi(gamma_i):\n",
    "    # this is the first derivative (via Taylor approximation) of the log \\Gamma function\n",
    "    # according to Wikipedia this is the \"digamma\" function\n",
    "    return scipy.special.digamma(gamma_i)\n",
    "\n"
   ]
  },
  {
   "cell_type": "code",
   "execution_count": 7,
   "metadata": {},
   "outputs": [],
   "source": [
    "#def copied(Phi, gamma, alpha, Beta, document, vocabulary, k):\n",
    "#    likelihood = 0.0\n",
    "#    V = len(vocabulary)\n",
    "#    words = np.array(document)\n",
    "#    N = len(words)\n",
    "#    print(N,V,k)\n",
    "#    \n",
    "#    alpha_sum = 0.0\n",
    "#    phi_gamma_sum = 0.0\n",
    "#    phi_logbeta_sum = 0.0\n",
    "#    entropy_sum = 0.0\n",
    "#    gamma_sum = 0.0\n",
    "#    \n",
    "#    alpha_sum += gammaln(np.sum(alpha))  \n",
    "#    gamma_sum -= gammaln(np.sum(gamma)) \n",
    "#    \n",
    "#    for i in range(k):\n",
    "#        alpha_sum += -gammaln(alpha[i]) + \\\n",
    "#                (alpha[i] - 1) * (digamma(gamma[i]) - digamma(np.sum(gamma)))\n",
    "#        \n",
    "#        for n in range(N):\n",
    "#            if Phi[n,i] > 0:\n",
    "#                w_indicator = np.sum(np.in1d(vocabulary, words[n]))   \n",
    "#                phi_gamma_sum += Phi[n,i] * (digamma(gamma[i]) - digamma(np.sum(gamma[:])))\n",
    "#                entropy_sum += Phi[n,i] * np.log(Phi[n,i])\n",
    "#                for j in range(V):\n",
    "#                    if Beta[i,j] > 0:\n",
    "#                        phi_logbeta_sum += Phi[n,i] * w_indicator * np.log(Beta[i,j])\n",
    "#                        #phi_logbeta_sum+=0\n",
    "#        \n",
    "#        gamma_sum += gammaln(gamma[i]) - \\\n",
    "#                    (gamma[i] - 1) * (digamma(gamma[i]) - digamma(np.sum(gamma[:])))\n",
    "#        \n",
    "#        print(\"i: \")\n",
    "#        print(-gammaln(alpha[i]) + \\\n",
    "#                (alpha[i] - 1) * (digamma(gamma[i]) - digamma(np.sum(gamma))))\n",
    "#        print(gammaln(gamma[i]) - \\\n",
    "#                    (gamma[i] - 1) * (digamma(gamma[i]) - digamma(np.sum(gamma[:]))))\n",
    "#        \n",
    "#    \n",
    "#    likelihood += (alpha_sum + phi_gamma_sum + phi_logbeta_sum - gamma_sum - entropy_sum) \n",
    "#    \n",
    "#    print(alpha_sum, gamma_sum, phi_gamma_sum,entropy_sum)\n",
    "#    print(\"L=\",alpha_sum+phi_gamma_sum-gamma_sum-entropy_sum)\n",
    "#\n",
    "#    print(phi_logbeta_sum)\n",
    "#    return likelihood#\n"
   ]
  },
  {
   "cell_type": "code",
   "execution_count": 8,
   "metadata": {},
   "outputs": [],
   "source": [
    "def update_phi_gamma(k, phi, gamma, alpha, beta, document, vocabulary, tol=1e-5, MAX_STEPS = 100):\n",
    "    \n",
    "    likelihood = 0.0\n",
    "    security_count = 0\n",
    "    converged = False\n",
    "    \n",
    "    words = np.array(document)\n",
    "    N = len(words)\n",
    "\n",
    "    while (not converged) and (security_count < MAX_STEPS):\n",
    "        security_count += 1\n",
    "            \n",
    "        phi_old = phi\n",
    "        phi = np.zeros([N,k])\n",
    "        gamma_old = gamma\n",
    "            \n",
    "        for n in range(N):\n",
    "            word = words[n]\n",
    "            if len(np.where(vocabulary == word)[0]) > 0: # word exists in vocabulary\n",
    "                for i in range(k):                \n",
    "                    beta_ = beta[i, np.where(vocabulary == word)]\n",
    "                    phi[n, i] = beta_[0][0] * np.exp(digamma(gamma[i]) - digamma(np.sum(gamma)))\n",
    "                phi[n,:] = phi[n,:] / np.sum(phi[n,:])   \n",
    "        gamma = alpha + np.sum(phi, axis=0)    \n",
    "            \n",
    "\n",
    "        # Convergence ctierion: did phi and gamma change significantly?\n",
    "        if (np.linalg.norm(phi - phi_old) < tol) and (np.linalg.norm(gamma - gamma_old) < tol):              \n",
    "            print('Document needed ' + str(security_count) + ' iterations to converge.')\n",
    "                \n",
    "            likelihood += compute_lower_bound_likelihood(phi, gamma, alpha, beta, document, vocabulary, k)\n",
    "            converged = True\n",
    "    \n",
    "    return phi, gamma, likelihood"
   ]
  },
  {
   "cell_type": "code",
   "execution_count": 9,
   "metadata": {},
   "outputs": [],
   "source": [
    "def update_beta(phi, documents, vocabulary, k):\n",
    "    \n",
    "    M = len(documents)\n",
    "    V = len(vocabulary)\n",
    "    \n",
    "    beta = np.zeros([k, V])\n",
    "    for m, doc in enumerate(documents):\n",
    "        words = np.array(doc)\n",
    "        phi_m = phi[m]\n",
    "        for i in range(k):\n",
    "            phi_ = phi_m[:,i]\n",
    "            for j in range(V):\n",
    "                word = vocabulary[j]\n",
    "                indicator = np.in1d(words, word)\n",
    "                indicator.astype(int) \n",
    "                beta[i][j] += np.dot(indicator, phi_)\n",
    "    beta = np.transpose(np.transpose(beta) / np.sum(beta, axis=1))\n",
    "\n",
    "    return beta\n",
    "    "
   ]
  },
  {
   "cell_type": "code",
   "execution_count": 10,
   "metadata": {},
   "outputs": [],
   "source": [
    "def update_lambda(phi, ni, documents, vocabulary, k):\n",
    "    \n",
    "    M = len(documents)\n",
    "    V = len(vocabulary)\n",
    "    \n",
    "    Lambda = np.ones([k, V])*ni\n",
    "    for m, doc in enumerate(documents):\n",
    "        words = np.array(doc)\n",
    "        phi_m = phi[m]\n",
    "        for i in range(k):\n",
    "            phi_ = phi_m[:,i]\n",
    "            for n, j in enumerate(words):\n",
    "                Lambda[i][j] += phi_[n]\n",
    "\n",
    "\n",
    "    return Lambda"
   ]
  },
  {
   "cell_type": "code",
   "execution_count": 11,
   "metadata": {},
   "outputs": [],
   "source": [
    "def update_alpha(alpha, gamma, k, M, max_iter=50, tol=0.0001):\n",
    "    \"\"\"This function updates alpha.\"\"\"\n",
    "    \n",
    "    # Maria B version\n",
    "    temp = 0\n",
    "    for d in range(M):\n",
    "        temp_1 = np.sum(special.polygamma(0, gamma[d])) - np.sum(special.polygamma(0, np.sum(gamma, axis=1)))\n",
    "    \n",
    "    gradient = M * (k * special.polygamma(1, alpha) - special.polygamma(1, k*alpha))\n",
    "    gradient = gradient + temp\n",
    "\n",
    "    hessian = M * k * (k * special.polygamma(2, k*alpha) - special.polygamma(2, alpha))\n",
    "\n",
    "    temp = gradient / (hessian * alpha + gradient + tol)\n",
    "    if (alpha == 0).any():\n",
    "        alpha += 0.005\n",
    "\n",
    "    log_alpha = np.log(alpha) - temp\n",
    "    alpha = np.exp(log_alpha)    \n",
    "        \n",
    "    return alpha\n"
   ]
  },
  {
   "cell_type": "code",
   "execution_count": 12,
   "metadata": {},
   "outputs": [],
   "source": [
    "def E_step(phi, gamma, alpha, beta, documents, vocabulary, k):\n",
    "\n",
    "    for m, doc in enumerate(documents):\n",
    "        # words = np.array(documents[m])\n",
    "        # N = len(words)\n",
    "        \n",
    "        phi[m], gamma[m], likelihood = update_phi_gamma(k, phi[m], gamma[m], alpha, beta, doc, vocabulary)\n",
    "                \n",
    "    return phi, gamma, likelihood"
   ]
  },
  {
   "cell_type": "code",
   "execution_count": 13,
   "metadata": {},
   "outputs": [],
   "source": [
    "def M_step(phi, gamma, alpha, documents, vocabulary, k):\n",
    "    print('M-step')\n",
    "    beta = update_beta(phi, documents, vocabulary, k)\n",
    "    alpha = update_alpha(alpha, gamma, k, M)\n",
    "    \n",
    "    return alpha, beta"
   ]
  },
  {
   "cell_type": "markdown",
   "metadata": {},
   "source": [
    "# MAIN"
   ]
  },
  {
   "cell_type": "code",
   "execution_count": 19,
   "metadata": {},
   "outputs": [],
   "source": [
    "k = 2\n",
    "corpus = corpus[:2]\n",
    "M = len(corpus)\n"
   ]
  },
  {
   "cell_type": "code",
   "execution_count": 20,
   "metadata": {},
   "outputs": [],
   "source": [
    "def variational_EM(Phi_init, gamma_init, alpha_init, Beta_init, documents, vocabulary, k):\n",
    "    print('Variational EM')\n",
    "    M = len(documents)\n",
    "    \n",
    "    likelihood = 0\n",
    "    likelihood_old = 0.000004\n",
    "    iteration = 1 # Initialization step is the first step\n",
    "    Phi = Phi_init\n",
    "    gamma = gamma_init\n",
    "    alpha = alpha_init\n",
    "    Beta = Beta_init\n",
    "    while iteration <= 2 or np.abs((likelihood-likelihood_old)/likelihood_old) > 1e-5:\n",
    "        \n",
    "        # Update parameters \n",
    "        if likelihood == 0:\n",
    "            print(\"Likelihood==0\")\n",
    "            likelihood_old = 0.005\n",
    "        else:\n",
    "            likelihood_old = likelihood\n",
    "        Phi_old = Phi \n",
    "        gamma_old = gamma \n",
    "        alpha_old = alpha\n",
    "        Beta_old = Beta\n",
    "    \n",
    "        Phi, gamma, likelihood = \\\n",
    "            E_step(Phi_old, gamma_old, alpha_old, Beta_old, documents, vocabulary, k)\n",
    "        alpha, Beta = \\\n",
    "            M_step(Phi, gamma, alpha_old, documents, vocabulary, k)\n",
    "                \n",
    "        iteration += 1\n",
    "        \n",
    "        if iteration > 10:\n",
    "            break\n",
    "        \n",
    "    return Phi, gamma, alpha, Beta, likelihood"
   ]
  },
  {
   "cell_type": "code",
   "execution_count": 21,
   "metadata": {},
   "outputs": [],
   "source": [
    "alpha_init, beta_init, gamma_init, phi_init = initialize_parameters(corpus, vocabulary, k)"
   ]
  },
  {
   "cell_type": "code",
   "execution_count": 242,
   "metadata": {},
   "outputs": [
    {
     "name": "stdout",
     "output_type": "stream",
     "text": [
      "Document needed 43 iterations to converge.\n",
      "Document needed 48 iterations to converge.\n",
      "Document needed 45 iterations to converge.\n",
      "Document needed 38 iterations to converge.\n"
     ]
    }
   ],
   "source": [
    "phi, gamma, likelihood = E_step(phi_init, gamma_init, alpha_init, beta_init, corpus, vocabulary, k)"
   ]
  },
  {
   "cell_type": "code",
   "execution_count": 243,
   "metadata": {},
   "outputs": [
    {
     "name": "stdout",
     "output_type": "stream",
     "text": [
      "M-step\n"
     ]
    }
   ],
   "source": [
    "alpha, beta = M_step(phi, gamma, alpha_init, corpus, vocabulary, k)"
   ]
  },
  {
   "cell_type": "code",
   "execution_count": 22,
   "metadata": {},
   "outputs": [
    {
     "name": "stdout",
     "output_type": "stream",
     "text": [
      "Variational EM\n",
      "Likelihood==0\n",
      "Document needed 33 iterations to converge.\n",
      "Document needed 36 iterations to converge.\n",
      "M-step\n",
      "Document needed 40 iterations to converge.\n",
      "Document needed 39 iterations to converge.\n",
      "M-step\n",
      "Document needed 36 iterations to converge.\n",
      "Document needed 29 iterations to converge.\n",
      "M-step\n",
      "Document needed 12 iterations to converge.\n",
      "Document needed 9 iterations to converge.\n",
      "M-step\n",
      "Document needed 6 iterations to converge.\n",
      "Document needed 6 iterations to converge.\n",
      "M-step\n",
      "Document needed 5 iterations to converge.\n",
      "Document needed 6 iterations to converge.\n",
      "M-step\n",
      "Document needed 5 iterations to converge.\n",
      "Document needed 5 iterations to converge.\n",
      "M-step\n",
      "Document needed 5 iterations to converge.\n",
      "Document needed 5 iterations to converge.\n",
      "M-step\n",
      "Document needed 4 iterations to converge.\n",
      "Document needed 4 iterations to converge.\n",
      "M-step\n",
      "Document needed 4 iterations to converge.\n",
      "Document needed 4 iterations to converge.\n",
      "M-step\n"
     ]
    }
   ],
   "source": [
    "Phi, gamma, alpha, Beta, likelihood = \\\n",
    "        variational_EM(phi_init, gamma_init, alpha_init, beta_init, corpus, vocabulary, k)"
   ]
  },
  {
   "cell_type": "code",
   "execution_count": 23,
   "metadata": {},
   "outputs": [
    {
     "data": {
      "text/plain": [
       "array([0.17781634, 0.17781634])"
      ]
     },
     "execution_count": 23,
     "metadata": {},
     "output_type": "execute_result"
    }
   ],
   "source": [
    "alpha"
   ]
  },
  {
   "cell_type": "markdown",
   "metadata": {},
   "source": [
    "# Analysis"
   ]
  },
  {
   "cell_type": "code",
   "execution_count": 28,
   "metadata": {},
   "outputs": [],
   "source": [
    "beta=Beta"
   ]
  },
  {
   "cell_type": "code",
   "execution_count": 29,
   "metadata": {},
   "outputs": [
    {
     "data": {
      "text/plain": [
       "<matplotlib.collections.QuadMesh at 0x7f411e49d438>"
      ]
     },
     "execution_count": 29,
     "metadata": {},
     "output_type": "execute_result"
    },
    {
     "data": {
      "image/png": "[encoded data removed]",
      "text/plain": [
       "<Figure size 432x288 with 1 Axes>"
      ]
     },
     "metadata": {
      "needs_background": "light"
     },
     "output_type": "display_data"
    }
   ],
   "source": [
    "plt.pcolormesh(Beta)"
   ]
  },
  {
   "cell_type": "code",
   "execution_count": 30,
   "metadata": {},
   "outputs": [
    {
     "name": "stdout",
     "output_type": "stream",
     "text": [
      "['rappaport', 'bechtel', 'official', 'offer', 'peres']\n",
      "['shot', 'students', 'teacher', 'police', 'school']\n"
     ]
    },
    {
     "data": {
      "image/png": "[encoded data removed]",
      "text/plain": [
       "<Figure size 432x288 with 1 Axes>"
      ]
     },
     "metadata": {
      "needs_background": "light"
     },
     "output_type": "display_data"
    }
   ],
   "source": [
    "for l in range(k):\n",
    "    beta_topic = beta[l,:]\n",
    "    beta_topic_top4 = np.argsort(beta_topic)[-5:]\n",
    "    plt.plot(beta_topic)\n",
    "    print([w for w in np.array(vocabulary)[beta_topic_top4][:]])"
   ]
  },
  {
   "cell_type": "markdown",
   "metadata": {},
   "source": [
    "## WRITE TEXT WITH COLOR"
   ]
  },
  {
   "cell_type": "code",
   "execution_count": 56,
   "metadata": {},
   "outputs": [
    {
     "data": {
      "text/plain": [
       "'A gunman took a yearold woman hostage after he was foiled in an attempt to steal  million in jewelry belonging to the late Liberace but police shot and killed the man outside the entertainers museum I just tried to stay cool said hostage Margaret Bloomberg who sat down to give police a clear shot at the man and escaped unharmed in Sunday evenings incident at the Liberace Museum The man had a bag of tools including a crowbar and was going to smash into the jewelry case said Dora Liberace administrator of the museum and sisterinlaw of the late'"
      ]
     },
     "execution_count": 56,
     "metadata": {},
     "output_type": "execute_result"
    }
   ],
   "source": [
    "def get_full_text(corpus_file, number_of_text):\n",
    "    fulltext_words=[]\n",
    "    fulltext_allwords=[]\n",
    "    #number_of_text=2\n",
    "    text_counter=0\n",
    "    special_chars = '1234567890~!@#£$%^&*()_+,./<>?\\|\"]}\\'[{`-'\n",
    "\n",
    "    with open(corpus_file, 'r') as text:\n",
    "        new=False\n",
    "        for line in text:\n",
    "            if new:\n",
    "                #print(line.strip()[0], line.strip()[:10])\n",
    "                if line.strip()[0]==\"<\":\n",
    "                    pass\n",
    "                else:\n",
    "                    #print(\"FOUND\", text)\n",
    "                    text_counter+=1\n",
    "                    if text_counter==number_of_text:\n",
    "                        #print(\" CORRECT\")\n",
    "                        new_text=line\n",
    "                        fulltext=new_text\n",
    "                        words = np.array(new_text.split())\n",
    "                        for word in words:\n",
    "                            fulltext_allwords.append(word)\n",
    "                            for char in special_chars: # remove punctuation etc,\n",
    "                                word = word.replace(char, '') \n",
    "                            fulltext_words.append(word)\n",
    "\n",
    "\n",
    "            else:\n",
    "                if line.strip() == \"<TEXT>\":\n",
    "                    new=True\n",
    "    return fulltext_words, fulltext_allwords\n",
    "\n",
    "fulltext_words, fulltext_allwords = get_full_text('ap/ap.txt', 3)\n",
    "\" \".join(fulltext_words[:100])"
   ]
  },
  {
   "cell_type": "code",
   "execution_count": 57,
   "metadata": {},
   "outputs": [
    {
     "name": "stdout",
     "output_type": "stream",
     "text": [
      "yearold= 1, million= 0, police= 1, shot= 1, killed= 1, man= 0, outside= 1, police= 1, shot= 1, man= 0, man= 0, came= 0, take= 0, man= 0, saying= 0, man= 0, gun= 1, offered= 0, offered= 0, dont= 1, know= 1, door= 1, police= 1, outside= 1, went= 1, police= 1, told= 0, door= 1, police= 1, door= 1, gun= 1, told= 0, police= 1, didnt= 1, police= 1, shot= 1, police= 1, work= 0, thought= 0, identified= 1, died= 1, ago= 1, students= 1, "
     ]
    }
   ],
   "source": [
    "colors=['blue','green', 'red']\n",
    "fulltext_colors=[]\n",
    "\n",
    "how_significant=1.9\n",
    "significance=[]\n",
    "for word in fulltext_words:\n",
    "    if word in vocabulary:\n",
    "        v = np.where(vocabulary==word)[0][0]\n",
    "        #print(v,word_beta )\n",
    "        word_beta = beta[:,v]\n",
    "        #significance.append(np.max(word_beta)/np.mean(word_beta))\n",
    "        if np.max(word_beta)>np.mean(beta):\n",
    "            if np.max(word_beta)> how_significant*np.mean(word_beta):\n",
    "                #significance =  (np.max(word_beta) / np.mean(word_beta) > 10)\n",
    "                topic = np.where(np.max(word_beta)==word_beta)[0][0]\n",
    "                color = colors[topic]\n",
    "                print(word+\"=\",str( topic)+\", \", end=\"\")\n",
    "\n",
    "            else:\n",
    "                color='k'\n",
    "        else:\n",
    "            color='k'\n",
    "    else: \n",
    "        color='k'\n",
    "    fulltext_colors.append(color)"
   ]
  },
  {
   "cell_type": "code",
   "execution_count": 58,
   "metadata": {},
   "outputs": [
    {
     "name": "stdout",
     "output_type": "stream",
     "text": [
      "\u001b[0mA \u001b[0mgunman \u001b[0mtook \u001b[0ma \u001b[0;32;48m74-year-old \u001b[0mwoman \u001b[0mhostage \u001b[0mafter \u001b[0mhe \u001b[0mwas \u001b[0mfoiled \u001b[0min \u001b[0man \u001b[0mattempt \u001b[0mto \u001b[0msteal \u001b[0m$1 \u001b[0;34;48mmillion \u001b[0min \u001b[0mjewelry \u001b[0mbelonging \u001b[0mto \u001b[0mthe \u001b[0mlate \u001b[0mLiberace, \u001b[0mbut \u001b[0;32;48mpolice \u001b[0;32;48mshot \u001b[0mand \u001b[0;32;48mkilled \u001b[0mthe \u001b[0;34;48mman \u001b[0;32;48moutside \u001b[0mthe \u001b[0mentertainer's \u001b[0mmuseum. \u001b[0m``I \u001b[0mjust \u001b[0mtried \u001b[0mto \u001b[0mstay \u001b[0mcool,'' \u001b[0msaid \u001b[0mhostage \u001b[0mMargaret \u001b[0mBloomberg, \u001b[0mwho \u001b[0msat \u001b[0mdown \u001b[0mto \u001b[0mgive \u001b[0;32;48mpolice \u001b[0ma \u001b[0mclear \u001b[0;32;48mshot \u001b[0mat \u001b[0mthe \u001b[0;34;48mman \u001b[0mand \u001b[0mescaped \u001b[0munharmed \u001b[0min \u001b[0mSunday \u001b[0mevening's \u001b[0mincident \u001b[0mat \u001b[0mthe \u001b[0mLiberace \u001b[0mMuseum. \u001b[0m``The \u001b[0;34;48mman \u001b[0mhad \u001b[0ma \u001b[0mbag \u001b[0mof \u001b[0mtools, \u001b[0mincluding \u001b[0ma \u001b[0mcrowbar, \u001b[0mand \u001b[0mwas \u001b[0mgoing \u001b[0mto \u001b[0msmash \u001b[0minto \u001b[0mthe \u001b[0mjewelry \u001b[0mcase,'' \u001b[0msaid \u001b[0mDora \u001b[0mLiberace, \u001b[0madministrator \u001b[0mof \u001b[0mthe \u001b[0mmuseum \u001b[0mand \u001b[0msister-in-law \u001b[0mof \u001b[0mthe \u001b[0mlate \u001b[0mentertainer. \u001b[0m``He \u001b[0mwanted \u001b[0mthe \u001b[0mjewelry \u001b[0mand \u001b[0mhe \u001b[0;34;48mcame \u001b[0mprepared \u001b[0mto \u001b[0;34;48mtake \u001b[0mit.'' \u001b[0mMrs. \u001b[0mBloomberg, \u001b[0mwho \u001b[0mhas \u001b[0mworked \u001b[0mat \u001b[0mthe \u001b[0mmuseum \u001b[0m10 \u001b[0myears, \u001b[0mwas \u001b[0mclosing \u001b[0mthe \u001b[0moffice \u001b[0mwhen \u001b[0mthe \u001b[0;34;48mman \u001b[0mappeared, \u001b[0;34;48msaying \u001b[0mhe \u001b[0mwanted \u001b[0mto \u001b[0mdeliver \u001b[0ma \u001b[0mplant, \u001b[0mMrs. \u001b[0mLiberace \u001b[0msaid. \u001b[0mThe \u001b[0;34;48mman \u001b[0mproduced \u001b[0ma \u001b[0;32;48mgun, \u001b[0mforced \u001b[0mhis \u001b[0mway \u001b[0minside \u001b[0mand \u001b[0mrefused \u001b[0moffers \u001b[0mof \u001b[0mmoney, \u001b[0mMrs. \u001b[0mBloomberg \u001b[0msaid. \u001b[0m``Margaret \u001b[0;34;48moffered \u001b[0mhim \u001b[0mthe \u001b[0mday's \u001b[0mreceipts, \u001b[0meven \u001b[0;34;48moffered \u001b[0mhim \u001b[0mthe \u001b[0mmoney \u001b[0min \u001b[0mher \u001b[0mpurse, \u001b[0mbut \u001b[0mhe \u001b[0mwasn't \u001b[0minterested,'' \u001b[0mMrs. \u001b[0mLiberace \u001b[0msaid. \u001b[0m``He \u001b[0msaid \u001b[0m`I \u001b[0;32;48mdon't \u001b[0mwant \u001b[0mthe \u001b[0mcash. \u001b[0mI \u001b[0mwant \u001b[0mthe \u001b[0mjewelry.' \u001b[0mHe \u001b[0mobviously \u001b[0mhad \u001b[0mbeen \u001b[0min \u001b[0mthere \u001b[0mbefore \u001b[0mand \u001b[0mchecked \u001b[0mout \u001b[0mthe \u001b[0mplace. \u001b[0mHe \u001b[0mseemed \u001b[0mto \u001b[0;32;48mknow \u001b[0mwhere \u001b[0meverything \u001b[0mwas.'' \u001b[0mMrs. \u001b[0mBloomberg \u001b[0mwas \u001b[0mable \u001b[0mto \u001b[0mwarn \u001b[0ma \u001b[0mcleaning \u001b[0mwoman, \u001b[0mwho \u001b[0mslipped \u001b[0mout \u001b[0ma \u001b[0mback \u001b[0;32;48mdoor \u001b[0mand \u001b[0mcalled \u001b[0;32;48mpolice. \u001b[0mThe \u001b[0mgunman \u001b[0mtied \u001b[0mMrs. \u001b[0mBloomberg's \u001b[0mhands \u001b[0mand \u001b[0mfeet, \u001b[0mtaped \u001b[0mher \u001b[0mmouth, \u001b[0mthen \u001b[0muntied \u001b[0mher, \u001b[0mmoved \u001b[0mher \u001b[0mto \u001b[0manother \u001b[0mpart \u001b[0mof \u001b[0mthe \u001b[0mmuseum \u001b[0mand \u001b[0mtied \u001b[0mher \u001b[0magain. \u001b[0m``He \u001b[0mwas \u001b[0mgetting \u001b[0mready \u001b[0mto \u001b[0mpop \u001b[0mthe \u001b[0mjewelry \u001b[0mcase \u001b[0mwhen \u001b[0mhe \u001b[0mheard \u001b[0ma \u001b[0mnoise \u001b[0;32;48moutside,'' \u001b[0mMrs. \u001b[0mBloomberg \u001b[0msaid. \u001b[0m``He \u001b[0;32;48mwent \u001b[0mand \u001b[0msaw \u001b[0mthe \u001b[0;32;48mpolice. \u001b[0mI \u001b[0;34;48mtold \u001b[0mhim \u001b[0mI'd \u001b[0mget \u001b[0mhim \u001b[0mout \u001b[0mthe \u001b[0mback \u001b[0;32;48mdoor. \u001b[0mWhen \u001b[0mwe \u001b[0mtried \u001b[0mthat, \u001b[0;32;48mpolice \u001b[0mwere \u001b[0mthere, \u001b[0mtoo.'' \u001b[0mThe \u001b[0mgunman \u001b[0mwalked \u001b[0mout \u001b[0mthe \u001b[0mfront \u001b[0;32;48mdoor \u001b[0mwith \u001b[0ma \u001b[0;32;48mgun \u001b[0mpointed \u001b[0mat \u001b[0mthe \u001b[0mbound \u001b[0mhostage. \u001b[0m``He \u001b[0;34;48mtold \u001b[0;32;48mpolice \u001b[0mhe \u001b[0mwould \u001b[0mshoot \u001b[0mme \u001b[0mif \u001b[0mthey \u001b[0;32;48mdidn't \u001b[0mlet \u001b[0mhim \u001b[0mget \u001b[0mto \u001b[0mhis \u001b[0mcar,'' \u001b[0mshe \u001b[0mrecalled. \u001b[0m``I \u001b[0mjust \u001b[0mtried \u001b[0mto \u001b[0mstay \u001b[0mcool.'' \u001b[0m``She \u001b[0mjust \u001b[0msat \u001b[0mdown \u001b[0mon \u001b[0mthe \u001b[0msidewalk, \u001b[0mpretending \u001b[0mher \u001b[0mlegs \u001b[0mhad \u001b[0mcollapsed \u001b[0munder \u001b[0mher,'' \u001b[0mMrs. \u001b[0mLiberace \u001b[0msaid. \u001b[0m``He \u001b[0mtried \u001b[0mto \u001b[0mlift \u001b[0mher \u001b[0min \u001b[0mthe \u001b[0mcar \u001b[0mbut \u001b[0mcouldn't. \u001b[0mHe \u001b[0mleaned \u001b[0mback \u001b[0mfor \u001b[0ma \u001b[0mminute \u001b[0mand \u001b[0mthe \u001b[0;32;48mpolice \u001b[0;32;48mshot \u001b[0mhim.'' \u001b[0m``When \u001b[0mI \u001b[0msat \u001b[0mdown \u001b[0mI \u001b[0mfigured \u001b[0mthe \u001b[0;32;48mpolice \u001b[0mwould \u001b[0mpick \u001b[0mhim \u001b[0moff, \u001b[0mmaybe,'' \u001b[0mMrs. \u001b[0mBloomberg \u001b[0msaid. \u001b[0mMrs. \u001b[0mBloomberg, \u001b[0msomewhat \u001b[0mshaken \u001b[0mand \u001b[0mher \u001b[0mhands \u001b[0mstill \u001b[0mbearing \u001b[0mmarks \u001b[0mfrom \u001b[0mthe \u001b[0mropes, \u001b[0mwas \u001b[0mback \u001b[0mat \u001b[0;34;48mwork \u001b[0mMonday. \u001b[0m``I \u001b[0;34;48mthought \u001b[0mI \u001b[0mwas \u001b[0mbetter \u001b[0moff \u001b[0mworking \u001b[0mthan \u001b[0mstaying \u001b[0mat \u001b[0mhome \u001b[0mand \u001b[0mdwelling \u001b[0mon \u001b[0mit,'' \u001b[0mshe \u001b[0msaid. \u001b[0mThe \u001b[0mgunman, \u001b[0;32;48midentified \u001b[0mas \u001b[0mHugh \u001b[0mPerry, \u001b[0m47, \u001b[0mof \u001b[0mLas \u001b[0mVegas, \u001b[0mhad \u001b[0ma \u001b[0mlengthy \u001b[0marrest \u001b[0mrecord \u001b[0mdating \u001b[0mback \u001b[0mto \u001b[0mthe \u001b[0m1960s, \u001b[0msaid \u001b[0mMetro \u001b[0mPolice \u001b[0mLt. \u001b[0mKyle \u001b[0mEdwards. \u001b[0mThe \u001b[0mmuseum \u001b[0mis \u001b[0mone \u001b[0mof \u001b[0mthe \u001b[0mcity's \u001b[0mtop \u001b[0mtourist \u001b[0mattractions, \u001b[0mfeaturing \u001b[0mmemorabilia \u001b[0mof \u001b[0mthe \u001b[0mentertainer \u001b[0mwho \u001b[0mgained \u001b[0mfame \u001b[0mhere \u001b[0mand \u001b[0mretained \u001b[0ma \u001b[0mhome \u001b[0mnot \u001b[0mfar \u001b[0maway. \u001b[0mMrs. \u001b[0mLiberace \u001b[0msaid \u001b[0mthe \u001b[0mmuseum \u001b[0mhas \u001b[0mone \u001b[0mof \u001b[0mthe \u001b[0mmost \u001b[0msophisticated \u001b[0msecurity \u001b[0msystems \u001b[0min \u001b[0mthe \u001b[0mcity \u001b[0mbut \u001b[0mwill \u001b[0mnow \u001b[0madd \u001b[0mguards. \u001b[0mLiberace, \u001b[0mwho \u001b[0;32;48mdied \u001b[0min \u001b[0mFebruary \u001b[0m1987 \u001b[0mof \u001b[0mcomplications \u001b[0mdue \u001b[0mto \u001b[0mAIDS, \u001b[0mfounded \u001b[0mthe \u001b[0mmuseum \u001b[0m10 \u001b[0myears \u001b[0;32;48mago \u001b[0mto \u001b[0mfund \u001b[0mthe \u001b[0mLiberace \u001b[0mFoundation \u001b[0mfor \u001b[0mthe \u001b[0mPerforming \u001b[0mArts, \u001b[0mwhich \u001b[0mprovides \u001b[0mscholarships \u001b[0mfor \u001b[0mmusic \u001b[0mand \u001b[0mart \u001b[0;32;48mstudents \u001b[0mat \u001b[0m27 \u001b[0mcolleges \u001b[0mand \u001b[0muniversities \u001b[0macross \u001b[0mthe \u001b[0mUnited \u001b[0mStates. "
     ]
    }
   ],
   "source": [
    "#http://ozzmaker.com/add-colour-to-text-in-python/\n",
    "#print(\"Examples of how to use ANSI COLOR: \\033[1;37;40m White          \\033[0m 1;37;40m            \\033[0;37;40m Light Grey \\033[0m 0;37;40m               \\033[0;37;48m Black      \\033[0m 0;37;48m\")\n",
    "colors_ansi=[34, 32,31] #blue, green, red\n",
    "             \n",
    "             \n",
    "for a in range(len(fulltext_allwords)):\n",
    "    if fulltext_colors[a]=='k':\n",
    "        #IF WE WANT TO FOCUS ON THE TOPIC WORDS:\n",
    "        #print(\"\\033[0;37;48m\"+fulltext_allwords[a], end=\" \")\n",
    "        print(\"\\033[0m\"+fulltext_allwords[a], end=\" \")\n",
    "        \n",
    "        #print(fulltext_allwords[a], end=\" \")\n",
    "    else:\n",
    "        for j in range(k):\n",
    "             if fulltext_colors[a]==colors[j]:\n",
    "                print(\"\\033[0;\"+str(colors_ansi[j])+\";48m\"+fulltext_allwords[a], end=\" \")"
   ]
  },
  {
   "cell_type": "code",
   "execution_count": 59,
   "metadata": {},
   "outputs": [
    {
     "name": "stdout",
     "output_type": "stream",
     "text": [
      "\u001b[0mTOPIC: 0: \u001b[0;34;48mmillion, man, man, man, came, take, man, saying, man, offered, offered, told, told, work, thought\n",
      "\u001b[0m\n",
      "\u001b[0mTOPIC: 1: \u001b[0;32;48myearold, police, shot, killed, outside, police, shot, gun, dont, know, door, police, outside, went, police, door, police, door, gun, police, didnt, police, shot, police, identified, died, ago, students\n",
      "\u001b[0m\n"
     ]
    }
   ],
   "source": [
    "topic_words =[]\n",
    "for i in range(k):\n",
    "    topic_words.append(np.where(np.array(fulltext_colors)==colors[i]))\n",
    "    print(\"\\033[0mTOPIC: \"+str(i)+\": \"+\"\\033[0;\"+str(colors_ansi[i])+\";48m\"+ \", \".join(np.array(fulltext_words)[topic_words[i]]))\n",
    "    print(\"\\033[0m\")"
   ]
  },
  {
   "cell_type": "code",
   "execution_count": null,
   "metadata": {},
   "outputs": [],
   "source": []
  },
  {
   "cell_type": "code",
   "execution_count": null,
   "metadata": {},
   "outputs": [],
   "source": []
  }
 ],
 "metadata": {
  "kernelspec": {
   "display_name": "Python 3",
   "language": "python",
   "name": "python3"
  },
  "language_info": {
   "codemirror_mode": {
    "name": "ipython",
    "version": 3
   },
   "file_extension": ".py",
   "mimetype": "text/x-python",
   "name": "python",
   "nbconvert_exporter": "python",
   "pygments_lexer": "ipython3",
   "version": "3.7.3"
  }
 },
 "nbformat": 4,
 "nbformat_minor": 2
}
