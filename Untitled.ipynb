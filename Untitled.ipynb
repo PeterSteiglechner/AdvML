{
 "cells": [
  {
   "cell_type": "markdown",
   "metadata": {},
   "source": [
    "# DD2434_Project"
   ]
  },
  {
   "cell_type": "markdown",
   "metadata": {},
   "source": [
    "# Setup"
   ]
  },
  {
   "cell_type": "markdown",
   "metadata": {},
   "source": [
    "PARAMETERS:\n",
    "\n",
    "k - number of topics\n",
    "N - number of words in a document (different for each document)\n",
    "M - number of documents in a corpus\n",
    "\n",
    "Model parameters:\n",
    "z_n - [k] dimension vector; topic distribution for word n \n",
    "Theta - [k] dimension vector; mixture weights\n",
    "alpha - [k] dimension vector; prior probability for theta (mixture weights) (alpha > 0)\n",
    "beta - [k x V] dimension matrix; beta_ij = p(w^j = 1 | z^i = 1) \n",
    "                                 probability for a specific word j given a specific topic i\n",
    "D - list of [V x N] dimension matrices, that is M long = [\\mathbf{w}_1, ... \\mathbf{w}_M];\n",
    "                                 where \\mathbf{w} = [w_1,...,w_N] is [V x N] (one document consisting of N words) \n",
    "\n",
    "\n",
    "Variational parameters:\n",
    "Gamma - [k] dimension vector; determines Theta in the Variational Model\n",
    "Phi = phi_1 .. phi_N - [N x k] dimension matrix; determines the probability distribution \n",
    "                                 for topics z of words in the Variational Model"
   ]
  },
  {
   "cell_type": "code",
   "execution_count": 1,
   "metadata": {},
   "outputs": [],
   "source": [
    "import numpy as np \n",
    "import matplotlib.pyplot as plt \n",
    "import scipy\n",
    "from scipy import special, misc\n",
    "from scipy.special import digamma, gammaln, polygamma\n",
    "import pandas as pd\n",
    "from collections import Counter "
   ]
  },
  {
   "cell_type": "markdown",
   "metadata": {},
   "source": [
    "## Load the Document Corpus\n",
    "Download the data from \n",
    "https://github.com/Blei-Lab/lda-c/blob/master/example/ap.tgz\n",
    "\n",
    "We can directly load the file \"ap.dat\" which contains:\n",
    "\n",
    "1 line = 1 document,\n",
    "\n",
    "[number of different words in doc] [word index (where the one is in w_n]:[how often it occurs in the doc] [word index 2]:[occurences 2] ..."
   ]
  },
  {
   "cell_type": "code",
   "execution_count": 2,
   "metadata": {},
   "outputs": [],
   "source": [
    "vocabulary = np.genfromtxt('ap/vocab.txt',  dtype='str')"
   ]
  },
  {
   "cell_type": "code",
   "execution_count": 3,
   "metadata": {},
   "outputs": [],
   "source": [
    "def clean_up_data(corpus_file, vocabulary_file, stopwords_file):\n",
    "    \"\"\"\n",
    "    Reads the corpus from the .txt file into a list of lists;\n",
    "    a list for each document which contains a list of all the \n",
    "    words as strings.\n",
    "    Input parameters:\n",
    "    corpus_file - path to the corpus file\n",
    "    vocabulary_file - path to the vocabulary file\n",
    "    stopwords_file - path to the stopwords file\n",
    "    \"\"\"\n",
    "    vocabulary = np.genfromtxt(vocabulary_file,  dtype='str')\n",
    "    special_chars = '1234567890~!@#£$%^&*()_+,./<>?\\|\"]}\\'[{`-'\n",
    "    corpus = []\n",
    "    \n",
    "    # read in stopwords from file into a list\n",
    "    stopwords = [] \n",
    "    with open(stopwords_file, 'r') as file:\n",
    "        stop_words = file.read().replace(',', ' ')\n",
    "        for word in stop_words.split():\n",
    "            stopwords.append(word) \n",
    "    \n",
    "    with open(corpus_file, 'r') as text:\n",
    "        doc = ''\n",
    "        new = False\n",
    "        for line in text:\n",
    "            if new: # reached a new document\n",
    "                if line.strip() != '</TEXT>': # until we reach the new doc\n",
    "                    for char in special_chars: # remove punctuation etc,\n",
    "                        line = line.replace(char, '') \n",
    "                    doc += line\n",
    "                else: # we've reached a new doc again\n",
    "                    doc = doc.lower() # all words lowercase\n",
    "                    words = np.array(doc.split())\n",
    "                    # PETER EDIT: next two lines\n",
    "                    doc = [word for word in words if (  (word not in stopwords) and (word in vocabulary)  )]\n",
    "                    corpus.append(doc)\n",
    "                    doc = ''\n",
    "            elif line.strip() == '<TEXT>': new = True\n",
    "\n",
    "    \n",
    "    return corpus, vocabulary"
   ]
  },
  {
   "cell_type": "code",
   "execution_count": 4,
   "metadata": {},
   "outputs": [],
   "source": [
    "corpus, vocabulary = clean_up_data('ap/ap.txt', 'ap/vocab.txt', 'ap/stopwords.txt')"
   ]
  },
  {
   "cell_type": "code",
   "execution_count": 5,
   "metadata": {},
   "outputs": [],
   "source": [
    "def initialize_parameters(documents, vocabulary, k):\n",
    "    M = len(documents)\n",
    "    V = len(vocabulary)\n",
    "    \n",
    "    # Initialize alpha \n",
    "    # alpha = np.ones([M,k]) * 50/k # for every document, for every topic\n",
    "    alpha = np.ones(k)*50/k\n",
    "    eta = 5/k\n",
    "    \n",
    "    Lambda = np.random.rand(k,V) * 0.5 + 0.5\n",
    "    \n",
    "    # Initialize beta\n",
    "    beta = np.zeros([k,V]) # for every topic, for every word in the vocabulary\n",
    "    for i in range(k):\n",
    "        beta[i] = np.random.uniform(0, 1, V)\n",
    "        beta[i] = beta[i] / np.sum(beta[i])\n",
    "    \n",
    "    # Initialize phi and gamma\n",
    "    phi = []\n",
    "    gamma = np.zeros([M,k]) # for every document, for every topic\n",
    "    for m in range(M):\n",
    "        doc = np.array(documents[m])\n",
    "        N = len(doc)\n",
    "        phi.append(np.ones([N,k]) * 1/float(k)) # uniform over topics\n",
    "        \n",
    "        for i in range(k):\n",
    "            gamma[m][i] = alpha[i] + N/float(k)\n",
    "        #m += 1 # WHYYYYYYY?\n",
    "        \n",
    "    return alpha, eta, beta, gamma, phi, Lambda"
   ]
  },
  {
   "cell_type": "code",
   "execution_count": 6,
   "metadata": {},
   "outputs": [],
   "source": [
    "def compute_lower_bound_likelihood(phi, gamma, alpha, beta, document, vocabulary,k):\n",
    "    '''\n",
    "    This calculates the lower bound of L(gamma, phi, alpha, beta)\n",
    "    Ie. equation 15 in the paper in Appendix 3.\n",
    "    '''\n",
    "   \n",
    "    N, k = phi.shape\n",
    "    k, V = beta.shape\n",
    "    \n",
    "    loggamma_sum = lambda x: scipy.special.gammaln(np.sum(x))\n",
    "    loggamma_x_i = lambda x, i: np.log(scipy.special.gamma(x[i]))\n",
    "    E_log_thetai_givenGamma = lambda i:  (psi(gamma[i]) - psi(np.sum(gamma))) \n",
    "\n",
    "    term0 = loggamma_sum(alpha) - loggamma_sum(gamma)\n",
    "    term_kSum=0\n",
    "    for i in range(k):\n",
    "        E = E_log_thetai_givenGamma(i)\n",
    "        term_kSum += -loggamma_x_i(alpha,i) + (alpha[i]-1) * E\n",
    "        term_kSum += gammaln(gamma[i]) - (gamma[i] - 1) * E\n",
    "\n",
    "        term_knSum = 0\n",
    "        term_knvSum = 0\n",
    "        for n in range(N):\n",
    "            if phi[n,i] == 0:\n",
    "                print(\"Error: Phi[\",n,i,\"] == 0\")\n",
    "            term_knSum += phi[n,i] * E_log_thetai_givenGamma(i)\n",
    "            term_knSum += - phi[n,i] * np.log(phi[n,i])\n",
    "            \n",
    "            v = np.where(vocabulary == document[n])[0][0] # here w_n is not a vector\n",
    "            if beta[i,v] <= 0:\n",
    "                print(\"Error: beta[\"+i,v,\"]<=0\")\n",
    "            #L+= phi[n,i] * np.log(beta[i,v]) \n",
    "            term_knvSum += phi[n,i] * np.log(beta[i,v]) \n",
    "\n",
    "    #print(term0,term_knSum, term_kSum)\n",
    "    L_terms = term0 + term_knSum + term_kSum + term_knvSum\n",
    "    \n",
    "    return L_terms\n",
    "    \n",
    "\n",
    "\n",
    "def psi(gamma_i):\n",
    "    # this is the first derivative (via Taylor approximation) of the log \\Gamma function\n",
    "    # according to Wikipedia this is the \"digamma\" function\n",
    "    return scipy.special.digamma(gamma_i)\n",
    "\n"
   ]
  },
  {
   "cell_type": "code",
   "execution_count": 7,
   "metadata": {},
   "outputs": [],
   "source": [
    "def ComputeDocumentLikelihood(wd, alpha, eta, gamma, digamma_gamma, phi, digamma_lambda, d):\n",
    "\n",
    "    V, K = digamma_lambda.shape\n",
    "    N = len(wd)\n",
    "    \n",
    "    E_theta_alpha = gammaln(alpha*K) - K * gammaln(alpha) \\\n",
    "                        + (alpha-1) * np.sum(digamma_gamma)\n",
    "    \n",
    "    E_z_theta = np.dot(np.sum(phi[d][:N,:], axis = 0), digamma_gamma)\n",
    "    \n",
    "    E_w_z_beta = np.sum(digamma_lambda[d,:] * phi[d][:N,:])\n",
    "    \n",
    "    E_theta_gamma = gammaln(np.sum(gamma[d,:])) - np.sum(gammaln(gamma[d,:])) \\\n",
    "                    + np.dot(gamma[d,:] - 1, digamma_gamma)\n",
    "\n",
    "    E_z_phi = np.sum(phi[d][:N,:] * np.log(phi[d][:N,:]))\n",
    "    \n",
    "\n",
    "    Likelihood = E_theta_alpha + E_z_theta + E_w_z_beta - E_theta_gamma - E_z_phi\n",
    "    return(Likelihood)"
   ]
  },
  {
   "cell_type": "code",
   "execution_count": 8,
   "metadata": {},
   "outputs": [],
   "source": [
    "def compute_likelihood_smoothed(documents, alpha, eta, gamma, phi, Lambda):\n",
    "    \n",
    "    K, V = Lambda.shape\n",
    "    D = len(documents)\n",
    "    \n",
    "    digamma_lambda = digamma(Lambda.T) - digamma(np.sum(Lambda, axis = 1))\n",
    "    likelihood = np.zeros([D,1])\n",
    "    \n",
    "    for d in range(D):\n",
    "        digamma_gamma = digamma(gamma[d,:]) - digamma(np.sum(gamma[d,:]))\n",
    "\n",
    "        N = len(documents[d])\n",
    "        E_theta_alpha = gammaln(alpha*K) - K * gammaln(alpha) \\\n",
    "                            + (alpha-1) * np.sum(digamma_gamma)\n",
    "        E_z_theta = np.dot(np.sum(phi[d][:N,:], axis = 0), digamma_gamma)\n",
    "        E_w_z_beta = np.sum(digamma_lambda[d,:] * phi[d][:N,:])\n",
    "        E_theta_gamma = gammaln(np.sum(gamma[d,:])) - np.sum(gammaln(gamma[d,:])) \\\n",
    "                        + np.dot(gamma[d,:] - 1, digamma_gamma)\n",
    "        E_z_phi = np.sum(phi[d][:N,:] * np.log(phi[d][:N,:]))\n",
    "        \n",
    "        likelihood = E_theta_alpha + E_z_theta + E_w_z_beta - E_theta_gamma - E_z_phi\n",
    "\n",
    "        E_beta_eta = K * (gammaln(eta * V) - V * gammaln(eta)) + (eta - 1) * np.sum(digamma_lambda)\n",
    "        E_beta_lambda = np.sum(gammaln(np.sum(Lambda, axis = 1)) - np.sum(gammaln(Lambda), axis = 1)[np.newaxis,:]) \\\n",
    "                        + np.sum((Lambda - 1) * digamma_lambda.T)\n",
    "    \n",
    "    likelihood = np.sum(likelihood) + E_beta_eta - E_beta_lambda\n",
    "    \n",
    "    return(likelihood)"
   ]
  },
  {
   "cell_type": "code",
   "execution_count": 9,
   "metadata": {},
   "outputs": [],
   "source": [
    "#def copied(Phi, gamma, alpha, Beta, document, vocabulary, k):\n",
    "#    likelihood = 0.0\n",
    "#    V = len(vocabulary)\n",
    "#    words = np.array(document)\n",
    "#    N = len(words)\n",
    "#    print(N,V,k)\n",
    "#    \n",
    "#    alpha_sum = 0.0\n",
    "#    phi_gamma_sum = 0.0\n",
    "#    phi_logbeta_sum = 0.0\n",
    "#    entropy_sum = 0.0\n",
    "#    gamma_sum = 0.0\n",
    "#    \n",
    "#    alpha_sum += gammaln(np.sum(alpha))  \n",
    "#    gamma_sum -= gammaln(np.sum(gamma)) \n",
    "#    \n",
    "#    for i in range(k):\n",
    "#        alpha_sum += -gammaln(alpha[i]) + \\\n",
    "#                (alpha[i] - 1) * (digamma(gamma[i]) - digamma(np.sum(gamma)))\n",
    "#        \n",
    "#        for n in range(N):\n",
    "#            if Phi[n,i] > 0:\n",
    "#                w_indicator = np.sum(np.in1d(vocabulary, words[n]))   \n",
    "#                phi_gamma_sum += Phi[n,i] * (digamma(gamma[i]) - digamma(np.sum(gamma[:])))\n",
    "#                entropy_sum += Phi[n,i] * np.log(Phi[n,i])\n",
    "#                for j in range(V):\n",
    "#                    if Beta[i,j] > 0:\n",
    "#                        phi_logbeta_sum += Phi[n,i] * w_indicator * np.log(Beta[i,j])\n",
    "#                        #phi_logbeta_sum+=0\n",
    "#        \n",
    "#        gamma_sum += gammaln(gamma[i]) - \\\n",
    "#                    (gamma[i] - 1) * (digamma(gamma[i]) - digamma(np.sum(gamma[:])))\n",
    "#        \n",
    "#        print(\"i: \")\n",
    "#        print(-gammaln(alpha[i]) + \\\n",
    "#                (alpha[i] - 1) * (digamma(gamma[i]) - digamma(np.sum(gamma))))\n",
    "#        print(gammaln(gamma[i]) - \\\n",
    "#                    (gamma[i] - 1) * (digamma(gamma[i]) - digamma(np.sum(gamma[:]))))\n",
    "#        \n",
    "#    \n",
    "#    likelihood += (alpha_sum + phi_gamma_sum + phi_logbeta_sum - gamma_sum - entropy_sum) \n",
    "#    \n",
    "#    print(alpha_sum, gamma_sum, phi_gamma_sum,entropy_sum)\n",
    "#    print(\"L=\",alpha_sum+phi_gamma_sum-gamma_sum-entropy_sum)\n",
    "#\n",
    "#    print(phi_logbeta_sum)\n",
    "#    return likelihood#\n"
   ]
  },
  {
   "cell_type": "code",
   "execution_count": 10,
   "metadata": {},
   "outputs": [],
   "source": [
    "def update_phi_gamma(k, phi, gamma, alpha, beta, document, vocabulary, tol=1e-5, MAX_STEPS = 100):\n",
    "    \n",
    "    likelihood = 0.0\n",
    "    iterations = 0\n",
    "    converged = False\n",
    "    \n",
    "    words = np.array(document)\n",
    "    N = len(words)\n",
    "\n",
    "    while (not converged) and (iterations < MAX_STEPS):\n",
    "        iterations += 1\n",
    "            \n",
    "        phi_old = phi\n",
    "        phi = np.zeros([N,k])\n",
    "        gamma_old = gamma\n",
    "            \n",
    "        for n in range(N):\n",
    "            word = words[n]\n",
    "            if len(np.where(vocabulary == word)[0]) > 0: # word exists in vocabulary\n",
    "                for i in range(k):                \n",
    "                    beta_ = beta[i, np.where(vocabulary == word)]\n",
    "                    phi[n, i] = beta_[0][0] * np.exp(digamma(gamma[i]) - digamma(np.sum(gamma)))\n",
    "                phi[n,:] = phi[n,:] / np.sum(phi[n,:])   \n",
    "        gamma = alpha + np.sum(phi, axis=0)    \n",
    "            \n",
    "\n",
    "        # Convergence ctierion: did phi and gamma change significantly?\n",
    "        if (np.linalg.norm(phi - phi_old) < tol) and (np.linalg.norm(gamma - gamma_old) < tol):              \n",
    "            print(str(iterations) + ' iterations to converge.')\n",
    "                \n",
    "            likelihood += compute_lower_bound_likelihood(phi, gamma, alpha, beta, document, vocabulary, k)\n",
    "            converged = True\n",
    "    \n",
    "    return phi, gamma, likelihood"
   ]
  },
  {
   "cell_type": "code",
   "execution_count": 11,
   "metadata": {},
   "outputs": [],
   "source": [
    "def update_phi_gamma_smoothed(documents, alpha, eta, gamma, phi, Lambda, tol = 1e-4, MAX_STEPS = 100):\n",
    "    K, V = Lambda.shape\n",
    "    D = len(documents)\n",
    "    \n",
    "    digamma_lambda = digamma(Lambda.T) - digamma(np.sum(Lambda, axis = 1))\n",
    "    for d in range(D):\n",
    "        likelihood = -1e9\n",
    "        converged = False\n",
    "        iterations = 0\n",
    "        \n",
    "        while(not converged):\n",
    "\n",
    "            iterations += 1\n",
    "            wd = documents[d]\n",
    "            \n",
    "            digamma_gamma = digamma(gamma[d,:]) - digamma(np.sum(gamma[d,:]))\n",
    "            \n",
    "            N = len(documents[d])\n",
    "            \n",
    "            phi[d][:N,:] = digamma_gamma + digamma_lambda[d,:]\n",
    "            phi[d][:N,:] = np.exp(phi[d][:N,:] - misc.logsumexp(phi[d][:N,:], axis = 1)[:,np.newaxis])\n",
    "            \n",
    "            gamma[d,:] = alpha + np.sum(phi[d][:N,:], axis = 0)\n",
    "            \n",
    "            newLikelihood = ComputeDocumentLikelihood(wd, alpha, eta, gamma, digamma_gamma, phi, digamma_lambda, d)\n",
    "            dlikelihood = abs((newLikelihood - likelihood)/likelihood)\n",
    "            likelihood = newLikelihood\n",
    "            \n",
    "            if(dlikelihood < tol).any():\n",
    "                converged = True\n",
    "    \n",
    "    #print gamma\n",
    "    return(phi, gamma)\n"
   ]
  },
  {
   "cell_type": "code",
   "execution_count": 12,
   "metadata": {},
   "outputs": [],
   "source": [
    "def update_lambda(phi, eta, documents, vocabulary, k):\n",
    "    \n",
    "    M = len(documents)\n",
    "    V = len(vocabulary)\n",
    "    \n",
    "    Lambda = np.ones([k, V]) * eta\n",
    "    for m, doc in enumerate(documents):\n",
    "        words = np.array(doc)\n",
    "        phi_m = phi[m]\n",
    "        for i in range(k):\n",
    "            phi_ = phi_m[:,i]\n",
    "            for j in range(V):\n",
    "                word = vocabulary[j]\n",
    "                indicator = np.in1d(words, word)\n",
    "                indicator.astype(int)  \n",
    "                Lambda[i][j] += np.dot(indicator, phi_)\n",
    "                    \n",
    "    return Lambda"
   ]
  },
  {
   "cell_type": "code",
   "execution_count": 13,
   "metadata": {},
   "outputs": [],
   "source": [
    "def update_beta(phi, documents, vocabulary, k):\n",
    "    \n",
    "    M = len(documents)\n",
    "    V = len(vocabulary)\n",
    "    \n",
    "    beta = np.zeros([k, V])\n",
    "    for m, doc in enumerate(documents):\n",
    "        words = np.array(doc)\n",
    "        phi_m = phi[m]\n",
    "        for i in range(k):\n",
    "            phi_ = phi_m[:,i]\n",
    "            for j in range(V):\n",
    "                word = vocabulary[j]\n",
    "                indicator = np.in1d(words, word)\n",
    "                indicator.astype(int) \n",
    "                beta[i][j] += np.dot(indicator, phi_)\n",
    "    beta = np.transpose(np.transpose(beta) / np.sum(beta, axis=1))\n",
    "\n",
    "    return beta\n",
    "    "
   ]
  },
  {
   "cell_type": "code",
   "execution_count": 14,
   "metadata": {},
   "outputs": [],
   "source": [
    "def update_alpha(alpha, gamma, k, M, max_iter=50, tol=1e-4):\n",
    "    \n",
    "    # Maria B version\n",
    "    temp = 0\n",
    "    for d in range(M):\n",
    "        temp_1 = np.sum(special.polygamma(0, gamma[d])) - np.sum(special.polygamma(0, np.sum(gamma, axis=1)))\n",
    "    \n",
    "    gradient = M * (k * special.polygamma(1, alpha) - special.polygamma(1, k*alpha))\n",
    "    gradient = gradient + temp\n",
    "\n",
    "    hessian = M * k * (k * special.polygamma(2, k*alpha) - special.polygamma(2, alpha))\n",
    "\n",
    "    temp = gradient / (hessian * alpha + gradient + tol)\n",
    "    if (alpha == 0).any():\n",
    "        alpha += 0.005\n",
    "\n",
    "    log_alpha = np.log(alpha) - temp\n",
    "    alpha = np.exp(log_alpha)    \n",
    "        \n",
    "    return alpha\n"
   ]
  },
  {
   "cell_type": "code",
   "execution_count": 15,
   "metadata": {},
   "outputs": [],
   "source": [
    "def update_eta(eta, gamma, k, V, M, max_iter=50, tol=1e-4):\n",
    "    \n",
    "\n",
    "    temp = 0\n",
    "    for d in range(M):\n",
    "        temp_1 = np.sum(special.polygamma(0, gamma[d])) - np.sum(special.polygamma(0, np.sum(gamma, axis=1)))\n",
    "    \n",
    "    gradient = V * (k * special.polygamma(1, eta) - special.polygamma(1, k*eta))\n",
    "    gradient = gradient + temp\n",
    "\n",
    "    hessian = V * k * (k * special.polygamma(2, k*eta) - special.polygamma(2, eta))\n",
    "\n",
    "    temp = gradient / (hessian * eta + gradient + tol)\n",
    "    if (eta == 0):\n",
    "        eta += 0.005\n",
    "\n",
    "    log_eta = np.log(eta) - temp\n",
    "    eta = np.exp(log_eta)    \n",
    "        \n",
    "    return eta\n"
   ]
  },
  {
   "cell_type": "code",
   "execution_count": 16,
   "metadata": {},
   "outputs": [],
   "source": [
    "def E_step(phi, gamma, alpha, beta, documents, vocabulary, k):\n",
    "\n",
    "    for d, doc in enumerate(documents):\n",
    "        phi[d], gamma[d], likelihood = update_phi_gamma(k, phi[d], gamma[d], alpha, beta, doc, vocabulary)\n",
    "                \n",
    "    return phi, gamma, likelihood"
   ]
  },
  {
   "cell_type": "code",
   "execution_count": 17,
   "metadata": {},
   "outputs": [],
   "source": [
    "def E_step_smoothed(documents, alpha, eta, gamma, phi, Lambda, Tol = 1e-5, MAX_STEPS = 100):\n",
    "\n",
    "    K, V = Lambda.shape\n",
    "    D = len(documents)\n",
    "    \n",
    "    iterations = 0\n",
    "    likelihood = -1e9\n",
    "    converged = False\n",
    "    while(not(converged)):\n",
    "        \n",
    "        iterations += 1\n",
    "        phi, gamma = update_phi_gamma_smoothed(documents, alpha, eta, gamma, phi, Lambda)\n",
    "        Lambda = update_lambda(phi, eta, documents, vocabulary, k)\n",
    "\n",
    "\n",
    "        newLikelihood = compute_likelihood_smoothed(documents, alpha, eta, gamma, phi, Lambda)\n",
    "        dlikelihood = abs((newLikelihood - likelihood)/likelihood)\n",
    "        likelihood = newLikelihood\n",
    "\n",
    "        if(dlikelihood < Tol).any():\n",
    "            print('E-step converged after %d iterations' %iterations)\n",
    "            converged = True\n",
    "    return(phi, gamma, Lambda, likelihood)\n"
   ]
  },
  {
   "cell_type": "code",
   "execution_count": 18,
   "metadata": {},
   "outputs": [],
   "source": [
    "def M_step(phi, gamma, alpha, documents, vocabulary, k):\n",
    "    print('M-step')\n",
    "    beta = update_beta(phi, documents, vocabulary, k)\n",
    "    alpha = update_alpha(alpha, gamma, k, M)\n",
    "    \n",
    "    return alpha, beta"
   ]
  },
  {
   "cell_type": "code",
   "execution_count": 19,
   "metadata": {},
   "outputs": [],
   "source": [
    "def M_step_smoothed(phi, gamma, alpha, eta, documents, vocabulary, k):\n",
    "    print('M-step')\n",
    "    \n",
    "    M = len(documents)\n",
    "    V = len(vocabulary)\n",
    "\n",
    "    alpha = update_alpha(alpha, gamma, k, M)\n",
    "    eta = update_eta(eta, gamma, k, V, M)\n",
    "    print(\"NEW DEBU\")\n",
    "    print(eta)\n",
    "    \n",
    "    return alpha, eta"
   ]
  },
  {
   "cell_type": "code",
   "execution_count": 20,
   "metadata": {},
   "outputs": [],
   "source": [
    "def variational_EM(phi_init, gamma_init, alpha_init, beta_init, documents, vocabulary, k, tol=1e-5):\n",
    "    print('Variational EM')\n",
    "    \n",
    "    M = len(documents)\n",
    "    \n",
    "    likelihood = 0\n",
    "    likelihood_old = 0.000004\n",
    "    \n",
    "    iteration = 1 # Initialization step is the first step\n",
    "    \n",
    "    phi = phi_init\n",
    "    gamma = gamma_init\n",
    "    alpha = alpha_init\n",
    "    beta = beta_init\n",
    "    \n",
    "    converged = False\n",
    "    \n",
    "    while (not converged):\n",
    "        \n",
    "        iteration += 1\n",
    "        \n",
    "        # Update parameters \n",
    "        if likelihood == 0:\n",
    "            print(\"Likelihood==0\")\n",
    "            likelihood_old = 0.005\n",
    "        else:\n",
    "            likelihood_old = likelihood\n",
    "        phi_old = phi \n",
    "        gamma_old = gamma \n",
    "        alpha_old = alpha\n",
    "        beta_old = beta\n",
    "    \n",
    "        phi, gamma, likelihood = \\\n",
    "            E_step(phi_old, gamma_old, alpha_old, beta_old, documents, vocabulary, k)\n",
    "        alpha, Beta = \\\n",
    "            M_step(phi, gamma, alpha_old, documents, vocabulary, k)\n",
    "                \n",
    "        if iteration > 15:\n",
    "            break\n",
    "        \n",
    "        # check convergence\n",
    "        if (np.abs((likelihood-likelihood_old)/likelihood_old) > tol):\n",
    "            if (iteration > 2):\n",
    "                converged = True\n",
    "        \n",
    "    return phi, gamma, alpha, Beta, likelihood"
   ]
  },
  {
   "cell_type": "code",
   "execution_count": 21,
   "metadata": {},
   "outputs": [],
   "source": [
    "def variational_EM_smoothed(phi_init, gamma_init, alpha_init, beta_init, Lambda_init, eta_init, documents, vocabulary, k, tol=1e-5):\n",
    "    print('Variational EM')\n",
    "    \n",
    "    M = len(documents)\n",
    "    \n",
    "    likelihood = 0\n",
    "    likelihood_old = 0.000004\n",
    "    \n",
    "    iteration = 1 # Initialization step is the first step\n",
    "    \n",
    "    phi = phi_init\n",
    "    gamma = gamma_init\n",
    "    alpha = alpha_init\n",
    "    beta = beta_init\n",
    "    Lambda = Lambda_init\n",
    "    eta = eta_init\n",
    "    \n",
    "    converged = False\n",
    "    \n",
    "    while (not converged):\n",
    "        \n",
    "        iteration += 1\n",
    "        \n",
    "        # Update parameters \n",
    "        if likelihood == 0:\n",
    "            print(\"Likelihood==0\")\n",
    "            likelihood_old = 0.005\n",
    "        else:\n",
    "            likelihood_old = likelihood\n",
    "        phi_old = phi \n",
    "        gamma_old = gamma \n",
    "        alpha_old = alpha\n",
    "        beta_old = beta\n",
    "        Lambda_old = Lambda\n",
    "        eta_old = eta\n",
    "        \n",
    "    \n",
    "        phi, gamma, Lambda, likelihood = \\\n",
    "            E_step_smoothed(documents, alpha_old, eta_old, gamma_old, phi_old, Lambda_old)\n",
    "        alpha, eta = \\\n",
    "            M_step_smoothed(phi, gamma, alpha, eta, documents, vocabulary, k)\n",
    "                \n",
    "        if iteration > 15:\n",
    "            break\n",
    "        \n",
    "        # check convergence\n",
    "        if (np.abs((likelihood-likelihood_old)/likelihood_old) > tol):\n",
    "            if (iteration > 2):\n",
    "                converged = True\n",
    "        \n",
    "    return phi, gamma, Lambda, alpha, eta, likelihood"
   ]
  },
  {
   "cell_type": "markdown",
   "metadata": {},
   "source": [
    "# MAIN: LDA"
   ]
  },
  {
   "cell_type": "code",
   "execution_count": 22,
   "metadata": {},
   "outputs": [],
   "source": [
    "k = 3\n",
    "corpus_reduced = corpus[:3]\n",
    "M = len(corpus_reduced)\n"
   ]
  },
  {
   "cell_type": "code",
   "execution_count": 23,
   "metadata": {},
   "outputs": [],
   "source": [
    "alpha_init, eta_init, beta_init, gamma_init, phi_init, Lambda_init = initialize_parameters(corpus_reduced, vocabulary, k)"
   ]
  },
  {
   "cell_type": "code",
   "execution_count": 24,
   "metadata": {},
   "outputs": [
    {
     "name": "stdout",
     "output_type": "stream",
     "text": [
      "Variational EM\n",
      "Likelihood==0\n",
      "39 iterations to converge.\n",
      "41 iterations to converge.\n",
      "45 iterations to converge.\n",
      "M-step\n",
      "45 iterations to converge.\n",
      "46 iterations to converge.\n",
      "51 iterations to converge.\n",
      "M-step\n"
     ]
    }
   ],
   "source": [
    "phi, gamma, alpha, beta, likelihood = \\\n",
    "        variational_EM(phi_init, gamma_init, alpha_init, beta_init, corpus_reduced, vocabulary, k)"
   ]
  },
  {
   "cell_type": "markdown",
   "metadata": {},
   "source": [
    "# MAIN: smoothed LDA"
   ]
  },
  {
   "cell_type": "code",
   "execution_count": 26,
   "metadata": {},
   "outputs": [],
   "source": [
    "alpha_init, eta_init, beta_init, gamma_init, phi_init, Lambda_init = initialize_parameters(corpus_reduced, vocabulary, k)"
   ]
  },
  {
   "cell_type": "code",
   "execution_count": 33,
   "metadata": {},
   "outputs": [
    {
     "name": "stdout",
     "output_type": "stream",
     "text": [
      "Variational EM\n",
      "Likelihood==0\n"
     ]
    },
    {
     "name": "stderr",
     "output_type": "stream",
     "text": [
      "C:\\Users\\bjeli\\Anaconda3\\lib\\site-packages\\ipykernel_launcher.py:21: DeprecationWarning: `logsumexp` is deprecated!\n",
      "Importing `logsumexp` from scipy.misc is deprecated in scipy 1.0.0. Use `scipy.special.logsumexp` instead.\n"
     ]
    },
    {
     "name": "stdout",
     "output_type": "stream",
     "text": [
      "E-step converged after 11 iterations\n",
      "M-step\n",
      "NEW DEBU\n",
      "1.0352422730586692\n",
      "E-step converged after 2 iterations\n",
      "M-step\n",
      "NEW DEBU\n",
      "0.6663281132982769\n"
     ]
    }
   ],
   "source": [
    "phi, gamma, Lambda, alpha, eta, likelihood = \\\n",
    "variational_EM_smoothed(phi_init, gamma_init, alpha_init, beta_init, Lambda_init, eta_init, corpus_reduced, vocabulary, k, tol=1e-5)"
   ]
  },
  {
   "cell_type": "code",
   "execution_count": null,
   "metadata": {},
   "outputs": [],
   "source": [
    "Lambda"
   ]
  },
  {
   "cell_type": "markdown",
   "metadata": {},
   "source": [
    "# Analysis"
   ]
  },
  {
   "cell_type": "code",
   "execution_count": 25,
   "metadata": {},
   "outputs": [
    {
     "data": {
      "text/plain": [
       "<matplotlib.colorbar.Colorbar at 0x7f1945d1b518>"
      ]
     },
     "execution_count": 25,
     "metadata": {},
     "output_type": "execute_result"
    },
    {
     "data": {
      "image/png": "[encoded data removed]",
      "text/plain": [
       "<Figure size 432x288 with 2 Axes>"
      ]
     },
     "metadata": {
      "needs_background": "light"
     },
     "output_type": "display_data"
    }
   ],
   "source": [
    "plt.pcolormesh(gamma.T)\n",
    "plt.xlabel(\"Documents\")\n",
    "plt.ylabel(\"topic 1..k\")\n",
    "plt.colorbar()"
   ]
  },
  {
   "cell_type": "code",
   "execution_count": 26,
   "metadata": {},
   "outputs": [],
   "source": [
    "#plt.pcolormesh(Beta)"
   ]
  },
  {
   "cell_type": "code",
   "execution_count": 27,
   "metadata": {},
   "outputs": [
    {
     "name": "stdout",
     "output_type": "stream",
     "text": [
      "['students', 'school', 'bechtel', 'police', 'offer']\n",
      "['man', 'teacher', 'liberace', 'official', 'peres']\n",
      "['museum', 'shot', 'liberace', 'mrs', 'police']\n"
     ]
    },
    {
     "data": {
      "image/png": "[encoded data removed]",
      "text/plain": [
       "<Figure size 432x288 with 1 Axes>"
      ]
     },
     "metadata": {
      "needs_background": "light"
     },
     "output_type": "display_data"
    }
   ],
   "source": [
    "for l in range(k):\n",
    "    beta_topic = beta[l,:]\n",
    "    beta_topic_top4 = np.argsort(beta_topic)[-5:]\n",
    "    plt.plot(beta_topic)\n",
    "    print([w for w in np.array(vocabulary)[beta_topic_top4][:]])"
   ]
  },
  {
   "cell_type": "markdown",
   "metadata": {},
   "source": [
    "## WRITE TEXT WITH COLOR"
   ]
  },
  {
   "cell_type": "code",
   "execution_count": 68,
   "metadata": {},
   "outputs": [
    {
     "data": {
      "text/plain": [
       "'A yearold student at a private Baptist school who allegedly killed one teacher and wounded another before firing into a filled classroom apparently just snapped the schools pastor said I dont know how it could have happened said George Sweet pastor of Atlantic Shores Baptist Church This is a good Christian school We pride ourselves on discipline Our kids are good kids The Atlantic Shores Christian School sophomore was arrested and charged with firstdegree murder attempted murder malicious assault and related felony charges for the Friday morning shooting Police would not release the boys name because he is a juvenile'"
      ]
     },
     "execution_count": 68,
     "metadata": {},
     "output_type": "execute_result"
    }
   ],
   "source": [
    "def get_full_text(corpus_file, number_of_text):\n",
    "    fulltext_words=[]\n",
    "    fulltext_allwords=[]\n",
    "    #number_of_text=2\n",
    "    text_counter=0\n",
    "    special_chars = '1234567890~!@#£$%^&*()_+,./<>?\\|\"]}\\'[{`-'\n",
    "\n",
    "    with open(corpus_file, 'r') as text:\n",
    "        new=False\n",
    "        for line in text:\n",
    "            if new:\n",
    "                #print(line.strip()[0], line.strip()[:10])\n",
    "                if line.strip()[0]==\"<\":\n",
    "                    pass\n",
    "                else:\n",
    "                    #print(\"FOUND\", text)\n",
    "                    text_counter+=1\n",
    "                    if text_counter==number_of_text:\n",
    "                        #print(\" CORRECT\")\n",
    "                        new_text=line\n",
    "                        fulltext=new_text\n",
    "                        words = np.array(new_text.split())\n",
    "                        for word in words:\n",
    "                            fulltext_allwords.append(word)\n",
    "                            for char in special_chars: # remove punctuation etc,\n",
    "                                word = word.replace(char, '') \n",
    "                            fulltext_words.append(word)\n",
    "\n",
    "\n",
    "            else:\n",
    "                if line.strip() == \"<TEXT>\":\n",
    "                    new=True\n",
    "    return fulltext_words, fulltext_allwords\n",
    "\n",
    "fulltext_words, fulltext_allwords = get_full_text('ap/ap.txt', 1)\n",
    "\" \".join(fulltext_words[:100])"
   ]
  },
  {
   "cell_type": "code",
   "execution_count": 69,
   "metadata": {},
   "outputs": [],
   "source": [
    "\n",
    "def get_colorsForWords(how_significant, fulltext_words, beta, vocabulary, colors=colors):\n",
    "    '''\n",
    "    how_significant=2, tells you the factor that the dominance of one of the beta values for a word over the mean of beta\n",
    "    fulltext_words should be all the relevant words: either fulltext_words, or fulltext_words_reuters\n",
    "    beta.\n",
    "    vocabulary  = vocabulary or vocabulary_reuters\n",
    "    '''\n",
    "    fulltext_colors=[]\n",
    "    #how_significant=2\n",
    "    significance=[]\n",
    "    for word in fulltext_words:\n",
    "        if word in vocabulary:\n",
    "            v = np.where(vocabulary==word)[0][0]\n",
    "            #print(v,word_beta )\n",
    "            word_beta = beta[:,v]\n",
    "            #significance.append(np.max(word_beta)/np.mean(word_beta))\n",
    "            if np.max(word_beta)>np.mean(beta):\n",
    "                if np.max(word_beta)> how_significant*np.mean(word_beta):\n",
    "                    #significance =  (np.max(word_beta) / np.mean(word_beta) > 10)\n",
    "                    topic = np.where(np.max(word_beta)==word_beta)[0][0]\n",
    "                    color = colors[topic]\n",
    "                    print(word+\"=\",str( topic)+\", \", end=\"\")\n",
    "\n",
    "                else:\n",
    "                    color='k'\n",
    "            else:\n",
    "                color='k'\n",
    "        else: \n",
    "            color='k'\n",
    "        fulltext_colors.append(color)\n",
    "    return fulltext_colors\n"
   ]
  },
  {
   "cell_type": "code",
   "execution_count": 70,
   "metadata": {},
   "outputs": [
    {
     "name": "stdout",
     "output_type": "stream",
     "text": [
      "pastor= 2, pastor= 2, good= 0, kids= 1, good= 0, kids= 1, related= 0, shooting= 0, juvenile= 1, identified= 0, fired= 2, floor= 1, knew= 2, knew= 2, big= 1, identified= 0, third= 2, running= 0, third= 2, spokesman= 1, motive= 1, fired= 2, adult= 2, youngsters= 0, adult= 2, federal= 2, occurred= 2, outside= 2, "
     ]
    }
   ],
   "source": [
    "colors=['blue','green', 'red']\n",
    "\n",
    "fulltext_colors = get_colorsForWords(2, fulltext_words, beta, vocabulary, colors=colors)"
   ]
  },
  {
   "cell_type": "code",
   "execution_count": 76,
   "metadata": {},
   "outputs": [
    {
     "name": "stdout",
     "output_type": "stream",
     "text": [
      "\u001b[0mA \u001b[0m16-year-old \u001b[0mstudent \u001b[0mat \u001b[0ma \u001b[0mprivate \u001b[0mBaptist \u001b[0mschool \u001b[0mwho \u001b[0mallegedly \u001b[0mkilled \u001b[0mone \u001b[0mteacher \u001b[0mand \u001b[0mwounded \u001b[0manother \u001b[0mbefore \u001b[0mfiring \u001b[0minto \u001b[0ma \u001b[0mfilled \u001b[0mclassroom \u001b[0mapparently \u001b[0m``just \u001b[0msnapped,'' \u001b[0mthe \u001b[0mschool's \u001b[0;31;48mpastor \u001b[0msaid. \u001b[0m``I \u001b[0mdon't \u001b[0mknow \u001b[0mhow \u001b[0mit \u001b[0mcould \u001b[0mhave \u001b[0mhappened,'' \u001b[0msaid \u001b[0mGeorge \u001b[0mSweet, \u001b[0;31;48mpastor \u001b[0mof \u001b[0mAtlantic \u001b[0mShores \u001b[0mBaptist \u001b[0mChurch. \u001b[0m``This \u001b[0mis \u001b[0ma \u001b[0;34;48mgood, \u001b[0mChristian \u001b[0mschool. \u001b[0mWe \u001b[0mpride \u001b[0mourselves \u001b[0mon \u001b[0mdiscipline. \u001b[0mOur \u001b[0;32;48mkids \u001b[0mare \u001b[0;34;48mgood \u001b[0;32;48mkids.'' \u001b[0mThe \u001b[0mAtlantic \u001b[0mShores \u001b[0mChristian \u001b[0mSchool \u001b[0msophomore \u001b[0mwas \u001b[0marrested \u001b[0mand \u001b[0mcharged \u001b[0mwith \u001b[0mfirst-degree \u001b[0mmurder, \u001b[0mattempted \u001b[0mmurder, \u001b[0mmalicious \u001b[0massault \u001b[0mand \u001b[0;34;48mrelated \u001b[0mfelony \u001b[0mcharges \u001b[0mfor \u001b[0mthe \u001b[0mFriday \u001b[0mmorning \u001b[0;34;48mshooting. \u001b[0mPolice \u001b[0mwould \u001b[0mnot \u001b[0mrelease \u001b[0mthe \u001b[0mboy's \u001b[0mname \u001b[0mbecause \u001b[0mhe \u001b[0mis \u001b[0ma \u001b[0;32;48mjuvenile, \u001b[0mbut \u001b[0mneighbors \u001b[0mand \u001b[0mrelatives \u001b[0;34;48midentified \u001b[0mhim \u001b[0mas \u001b[0mNicholas \u001b[0mElliott. \u001b[0mPolice \u001b[0msaid \u001b[0mthe \u001b[0mstudent \u001b[0mwas \u001b[0mtackled \u001b[0mby \u001b[0ma \u001b[0mteacher \u001b[0mand \u001b[0mother \u001b[0mstudents \u001b[0mwhen \u001b[0mhis \u001b[0msemiautomatic \u001b[0mpistol \u001b[0mjammed \u001b[0mas \u001b[0mhe \u001b[0;31;48mfired \u001b[0mon \u001b[0mthe \u001b[0mclassroom \u001b[0mas \u001b[0mthe \u001b[0mstudents \u001b[0mcowered \u001b[0mon \u001b[0mthe \u001b[0;32;48mfloor \u001b[0mcrying \u001b[0m``Jesus \u001b[0msave \u001b[0mus! \u001b[0mGod \u001b[0msave \u001b[0mus!'' \u001b[0mFriends \u001b[0mand \u001b[0mfamily \u001b[0msaid \u001b[0mthe \u001b[0mboy \u001b[0mapparently \u001b[0mwas \u001b[0mtroubled \u001b[0mby \u001b[0mhis \u001b[0mgrandmother's \u001b[0mdeath \u001b[0mand \u001b[0mthe \u001b[0mdivorce \u001b[0mof \u001b[0mhis \u001b[0mparents \u001b[0mand \u001b[0mhad \u001b[0mbeen \u001b[0mtormented \u001b[0mby \u001b[0mclassmates. \u001b[0mNicholas' \u001b[0mgrandfather, \u001b[0mClarence \u001b[0mElliott \u001b[0mSr., \u001b[0msaid \u001b[0mSaturday \u001b[0mthat \u001b[0mthe \u001b[0mboy's \u001b[0mparents \u001b[0mseparated \u001b[0mabout \u001b[0mfour \u001b[0myears \u001b[0mago \u001b[0mand \u001b[0mhis \u001b[0mmaternal \u001b[0mgrandmother, \u001b[0mChanney \u001b[0mWilliams, \u001b[0mdied \u001b[0mlast \u001b[0myear \u001b[0mafter \u001b[0ma \u001b[0mlong \u001b[0millness. \u001b[0mThe \u001b[0mgrandfather \u001b[0malso \u001b[0msaid \u001b[0mhis \u001b[0mgrandson \u001b[0mwas \u001b[0mfascinated \u001b[0mwith \u001b[0mguns. \u001b[0m``The \u001b[0mboy \u001b[0mwas \u001b[0malways \u001b[0mtalking \u001b[0mabout \u001b[0mguns,'' \u001b[0mhe \u001b[0msaid. \u001b[0m``He \u001b[0;31;48mknew \u001b[0ma \u001b[0mlot \u001b[0mabout \u001b[0mthem. \u001b[0mHe \u001b[0;31;48mknew \u001b[0mall \u001b[0mthe \u001b[0mnames \u001b[0mof \u001b[0mthem \u001b[0m_ \u001b[0mnone \u001b[0mof \u001b[0mthose \u001b[0mlittle \u001b[0mguns \u001b[0mlike \u001b[0ma \u001b[0m.32 \u001b[0mor \u001b[0ma \u001b[0m.22 \u001b[0mor \u001b[0mnothing \u001b[0mlike \u001b[0mthat. \u001b[0mHe \u001b[0mliked \u001b[0mthe \u001b[0;32;48mbig \u001b[0mones.'' \u001b[0mThe \u001b[0mslain \u001b[0mteacher \u001b[0mwas \u001b[0;34;48midentified \u001b[0mas \u001b[0mKaren \u001b[0mH. \u001b[0mFarley, \u001b[0m40. \u001b[0mThe \u001b[0mwounded \u001b[0mteacher, \u001b[0m37-year-old \u001b[0mSam \u001b[0mMarino, \u001b[0mwas \u001b[0min \u001b[0mserious \u001b[0mcondition \u001b[0mSaturday \u001b[0mwith \u001b[0mgunshot \u001b[0mwounds \u001b[0min \u001b[0mthe \u001b[0mshoulder. \u001b[0mPolice \u001b[0msaid \u001b[0mthe \u001b[0mboy \u001b[0malso \u001b[0mshot \u001b[0mat \u001b[0ma \u001b[0;31;48mthird \u001b[0mteacher, \u001b[0mSusan \u001b[0mAllen, \u001b[0m31, \u001b[0mas \u001b[0mshe \u001b[0mfled \u001b[0mfrom \u001b[0mthe \u001b[0mroom \u001b[0mwhere \u001b[0mMarino \u001b[0mwas \u001b[0mshot. \u001b[0mHe \u001b[0mthen \u001b[0mshot \u001b[0mMarino \u001b[0magain \u001b[0mbefore \u001b[0;34;48mrunning \u001b[0mto \u001b[0ma \u001b[0;31;48mthird \u001b[0mclassroom \u001b[0mwhere \u001b[0ma \u001b[0mBible \u001b[0mclass \u001b[0mwas \u001b[0mmeeting. \u001b[0mThe \u001b[0myoungster \u001b[0mshot \u001b[0mthe \u001b[0mglass \u001b[0mout \u001b[0mof \u001b[0ma \u001b[0mlocked \u001b[0mdoor \u001b[0mbefore \u001b[0mopening \u001b[0mfire, \u001b[0mpolice \u001b[0;32;48mspokesman \u001b[0mLewis \u001b[0mThurston \u001b[0msaid. \u001b[0mWhen \u001b[0mthe \u001b[0myouth's \u001b[0mpistol \u001b[0mjammed, \u001b[0mhe \u001b[0mwas \u001b[0mtackled \u001b[0mby \u001b[0mteacher \u001b[0mMaurice \u001b[0mMatteson, \u001b[0m24, \u001b[0mand \u001b[0mother \u001b[0mstudents, \u001b[0mThurston \u001b[0msaid. \u001b[0m``Once \u001b[0myou \u001b[0msee \u001b[0mwhat \u001b[0mwent \u001b[0mon \u001b[0min \u001b[0mthere, \u001b[0mit's \u001b[0ma \u001b[0mmiracle \u001b[0mthat \u001b[0mwe \u001b[0mdidn't \u001b[0mhave \u001b[0mmore \u001b[0mpeople \u001b[0mkilled,'' \u001b[0mPolice \u001b[0mChief \u001b[0mCharles \u001b[0mR. \u001b[0mWall \u001b[0msaid. \u001b[0mPolice \u001b[0mdidn't \u001b[0mhave \u001b[0ma \u001b[0;32;48mmotive, \u001b[0mDetective \u001b[0mTom \u001b[0mZucaro \u001b[0msaid, \u001b[0mbut \u001b[0mbelieve \u001b[0mthe \u001b[0mboy's \u001b[0mprimary \u001b[0mtarget \u001b[0mwas \u001b[0mnot \u001b[0ma \u001b[0mteacher \u001b[0mbut \u001b[0ma \u001b[0mclassmate. \u001b[0mOfficers \u001b[0mfound \u001b[0mwhat \u001b[0mappeared \u001b[0mto \u001b[0mbe \u001b[0mthree \u001b[0mMolotov \u001b[0mcocktails \u001b[0min \u001b[0mthe \u001b[0mboy's \u001b[0mlocker \u001b[0mand \u001b[0mconfiscated \u001b[0mthe \u001b[0mgun \u001b[0mand \u001b[0mseveral \u001b[0mspent \u001b[0mshell \u001b[0mcasings. \u001b[0mFourteen \u001b[0mrounds \u001b[0mwere \u001b[0;31;48mfired \u001b[0mbefore \u001b[0mthe \u001b[0mgun \u001b[0mjammed, \u001b[0mThurston \u001b[0msaid. \u001b[0mThe \u001b[0mgun, \u001b[0mwhich \u001b[0mthe \u001b[0mboy \u001b[0mcarried \u001b[0mto \u001b[0mschool \u001b[0min \u001b[0mhis \u001b[0mknapsack, \u001b[0mwas \u001b[0mpurchased \u001b[0mby \u001b[0man \u001b[0;31;48madult \u001b[0mat \u001b[0mthe \u001b[0;34;48myoungster's \u001b[0mrequest, \u001b[0mThurston \u001b[0msaid, \u001b[0madding \u001b[0mthat \u001b[0mauthorities \u001b[0mhave \u001b[0minterviewed \u001b[0mthe \u001b[0;31;48madult, \u001b[0mwhose \u001b[0mname \u001b[0mis \u001b[0mbeing \u001b[0mwithheld \u001b[0mpending \u001b[0man \u001b[0minvestigation \u001b[0mby \u001b[0mthe \u001b[0;31;48mfederal \u001b[0mBureau \u001b[0mof \u001b[0mAlcohol, \u001b[0mTobacco \u001b[0mand \u001b[0mFirearms. \u001b[0mThe \u001b[0mshootings \u001b[0;31;48moccurred \u001b[0min \u001b[0ma \u001b[0mcomplex \u001b[0mof \u001b[0mfour \u001b[0mportable \u001b[0mclassrooms \u001b[0mfor \u001b[0mjunior \u001b[0mand \u001b[0msenior \u001b[0mhigh \u001b[0mschool \u001b[0mstudents \u001b[0;31;48moutside \u001b[0mthe \u001b[0mmain \u001b[0mbuilding \u001b[0mof \u001b[0mthe \u001b[0m4-year-old \u001b[0mschool. \u001b[0mThe \u001b[0mschool \u001b[0mhas \u001b[0m500 \u001b[0mstudents \u001b[0min \u001b[0mkindergarten \u001b[0mthrough \u001b[0m12th \u001b[0mgrade. \u001b[0mPolice \u001b[0msaid \u001b[0mthey \u001b[0mwere \u001b[0mtrying \u001b[0mto \u001b[0mreconstruct \u001b[0mthe \u001b[0msequence \u001b[0mof \u001b[0mevents \u001b[0mand \u001b[0mhad \u001b[0mnot \u001b[0mresolved \u001b[0mwho \u001b[0mwas \u001b[0mshot \u001b[0mfirst. \u001b[0mThe \u001b[0mbody \u001b[0mof \u001b[0mMs. \u001b[0mFarley \u001b[0mwas \u001b[0mfound \u001b[0mabout \u001b[0man \u001b[0mhour \u001b[0mafter \u001b[0mthe \u001b[0mshootings \u001b[0mbehind \u001b[0ma \u001b[0mclassroom \u001b[0mdoor. "
     ]
    }
   ],
   "source": [
    "\n",
    "def write_colored_text(fulltext_allwords, fulltext_colors, colors=colors):\n",
    "    #http://ozzmaker.com/add-colour-to-text-in-python/\n",
    "    #print(\"Examples of how to use ANSI COLOR: \\033[1;37;40m White          \\033[0m 1;37;40m            \\033[0;37;40m Light Grey \\033[0m 0;37;40m               \\033[0;37;48m Black      \\033[0m 0;37;48m\")\n",
    "    colors_ansi=[34, 32,31] #blue, green, red\n",
    "\n",
    "    for a in range(len(fulltext_allwords)):\n",
    "        if fulltext_colors[a]=='k':\n",
    "            #IF WE WANT TO FOCUS ON THE TOPIC WORDS:\n",
    "            #print(\"\\033[0;37;48m\"+fulltext_allwords[a], end=\" \")\n",
    "            print(\"\\033[0m\"+fulltext_allwords[a], end=\" \")\n",
    "\n",
    "            #print(fulltext_allwords[a], end=\" \")\n",
    "        else:\n",
    "            for j in range(k):\n",
    "                 if fulltext_colors[a]==colors[j]:\n",
    "                    print(\"\\033[0;\"+str(colors_ansi[j])+\";48m\"+fulltext_allwords[a], end=\" \")\n",
    "    return\n",
    "                \n",
    "                \n",
    "write_colored_text(fulltext_allwords, fulltext_colors, colors=colors)\n",
    "     "
   ]
  },
  {
   "cell_type": "code",
   "execution_count": 75,
   "metadata": {},
   "outputs": [
    {
     "name": "stdout",
     "output_type": "stream",
     "text": [
      "\u001b[0mTOPIC: 0: \u001b[0;34;48mgood, good, related, shooting, identified, identified, running, youngsters\n",
      "\u001b[0m\n",
      "\u001b[0mTOPIC: 1: \u001b[0;32;48mkids, kids, juvenile, floor, big, spokesman, motive\n",
      "\u001b[0m\n",
      "\u001b[0mTOPIC: 2: \u001b[0;31;48mpastor, pastor, fired, knew, knew, third, third, fired, adult, adult, federal, occurred, outside\n",
      "\u001b[0m\n"
     ]
    }
   ],
   "source": [
    "topic_words =[]\n",
    "for i in range(k):\n",
    "    topic_words.append(np.where(np.array(fulltext_colors)==colors[i]))\n",
    "    print(\"\\033[0mTOPIC: \"+str(i)+\": \"+\"\\033[0;\"+str(colors_ansi[i])+\";48m\"+ \", \".join(np.array(fulltext_words)[topic_words[i]]))\n",
    "    print(\"\\033[0m\")"
   ]
  },
  {
   "cell_type": "markdown",
   "metadata": {},
   "source": [
    "# REUTERS DATA (get from the external program to keep this a bit tidier)"
   ]
  },
  {
   "cell_type": "code",
   "execution_count": 35,
   "metadata": {},
   "outputs": [
    {
     "name": "stderr",
     "output_type": "stream",
     "text": [
      "[nltk_data] Downloading package reuters to /home/peter/nltk_data...\n",
      "[nltk_data]   Package reuters is already up-to-date!\n"
     ]
    },
    {
     "name": "stdout",
     "output_type": "stream",
     "text": [
      "M_max_reuters =  7769\n",
      "We have  100  Documents with sizes:  [633, 259, 119, 155, 115, 34, 250, 83, 182, 133, 126, 85, 84, 111, 99, 101, 67, 26, 73, 140, 108, 173, 49, 236, 109, 111, 365, 42, 66, 49, 130, 90, 52, 21, 136, 14, 28, 102, 110, 67, 72, 143, 196, 31, 24, 34, 601, 32, 123, 958, 193, 118, 36, 55, 54, 113, 36, 67, 569, 25, 100, 185, 60, 145, 78, 61, 10, 87, 252, 61, 151, 466, 128, 44, 25, 179, 180, 54, 167, 42, 76, 114, 301, 506, 78, 83, 51, 111, 254, 10, 136, 186, 127, 145, 85, 34, 34, 91, 68, 77]\n"
     ]
    }
   ],
   "source": [
    "from getReuters import D_reuters as corpus_reuters\n",
    "from getReuters import vocab_list as vocabulary_reuters\n",
    "vocabulary_reuters=np.array(vocabulary_reuters)"
   ]
  },
  {
   "cell_type": "code",
   "execution_count": 38,
   "metadata": {},
   "outputs": [],
   "source": [
    "k_reuters = 2\n",
    "corpus_reuters_reduced = corpus_reuters[:5]\n",
    "M_reuters = len(corpus_reuters_reduced)\n"
   ]
  },
  {
   "cell_type": "code",
   "execution_count": 46,
   "metadata": {},
   "outputs": [],
   "source": [
    "alpha_init_reuters, eta_reuters_init, beta_init_reuters, gamma_init_reuters, phi_init_reuters, lambdabda_init_reuters = \\\n",
    "    initialize_parameters(corpus_reuters_reduced, vocabulary_reuters, k_reuters)"
   ]
  },
  {
   "cell_type": "code",
   "execution_count": 47,
   "metadata": {},
   "outputs": [
    {
     "name": "stdout",
     "output_type": "stream",
     "text": [
      "Variational EM\n",
      "Likelihood==0\n",
      "31 iterations to converge.\n",
      "25 iterations to converge.\n",
      "15 iterations to converge.\n",
      "20 iterations to converge.\n",
      "18 iterations to converge.\n",
      "M-step\n",
      "32 iterations to converge.\n",
      "30 iterations to converge.\n",
      "19 iterations to converge.\n",
      "24 iterations to converge.\n",
      "22 iterations to converge.\n",
      "M-step\n"
     ]
    }
   ],
   "source": [
    "Phi_reuters, gamma_reuters, alpha_reuters, Beta_reuters, likelihood_reuters = \\\n",
    "        variational_EM(phi_init_reuters, gamma_init_reuters, alpha_init_reuters, beta_init_reuters, \n",
    "                       corpus_reuters_reduced, vocabulary_reuters, k_reuters)"
   ]
  },
  {
   "cell_type": "markdown",
   "metadata": {},
   "source": [
    "# TODO Analysis for REUTERS"
   ]
  },
  {
   "cell_type": "code",
   "execution_count": 50,
   "metadata": {},
   "outputs": [
    {
     "data": {
      "text/plain": [
       "<matplotlib.collections.QuadMesh at 0x7f193d13ae10>"
      ]
     },
     "execution_count": 50,
     "metadata": {},
     "output_type": "execute_result"
    },
    {
     "data": {
      "image/png": "[encoded data removed]",
      "text/plain": [
       "<Figure size 432x288 with 1 Axes>"
      ]
     },
     "metadata": {
      "needs_background": "light"
     },
     "output_type": "display_data"
    }
   ],
   "source": [
    "plt.pcolormesh(Beta_reuters)"
   ]
  },
  {
   "cell_type": "code",
   "execution_count": 51,
   "metadata": {},
   "outputs": [],
   "source": [
    "from getReuters import training"
   ]
  },
  {
   "cell_type": "code",
   "execution_count": 60,
   "metadata": {},
   "outputs": [
    {
     "data": {
      "text/plain": [
       "'bahia cocoa review showers continued throughout the week in the bahia cocoa zone , alleviating the drought since early january and improving prospects for the coming temporao , although normal humidity levels have not been restored , comissaria smith said in its weekly review . the dry period means the temporao will be late this year . arrivals for the week ended february 22 were 155 , 221 bags of 60 kilos making a cumulative total for the season of 5 . 93 mln against 5 . 81 at the same stage last year . again it seems that cocoa'"
      ]
     },
     "execution_count": 60,
     "metadata": {},
     "output_type": "execute_result"
    }
   ],
   "source": [
    "def get_full_text_reuters(number_of_text):\n",
    "    fulltext = \" \".join(training[number_of_text-1]).lower().split()\n",
    "    fulltext_words=[]\n",
    "    fulltext_allwords=[]\n",
    "        \n",
    "    for w in fulltext:\n",
    "        \n",
    "        if w in vocabulary_reuters:\n",
    "            fulltext_words.append(w)\n",
    "\n",
    "        fulltext_allwords.append(w)\n",
    "        \n",
    "    return fulltext_words,fulltext_allwords\n",
    "\n",
    "fulltext_words_reuters, fulltext_allwords_reuters = get_full_text_reuters(1)\n",
    "\" \".join(fulltext_allwords_reuters[:100])"
   ]
  },
  {
   "cell_type": "code",
   "execution_count": 82,
   "metadata": {},
   "outputs": [
    {
     "name": "stdout",
     "output_type": "stream",
     "text": [
      "throughout= 1, week= 0, alleviating= 1, early= 0, prospects= 1, week= 0, cumulative= 0, season= 1, mln= 0, harvesting= 1, mln= 0, mln= 0, fit= 1, quality= 1, part= 1, bean= 0, bean= 0, dlrs= 1, ports= 1, named= 1, ports= 1, dlrs= 1, dlrs= 1, dlrs= 1, butter= 1, made= 1, dlrs= 1, butter= 1, dlrs= 1, dlrs= 1, dec= 1, dlrs= 1, dec= 1, ports= 1, dlrs= 1, dlrs= 1, dlrs= 1, dec= 1, dec= 1, dlrs= 1, dlrs= 1, dlrs= 1, dec= 1, dec= 1, mln= 0, mln= 0, final= 1, expected= 1, trade= 0, "
     ]
    }
   ],
   "source": [
    "colors=['blue','green', 'red']\n",
    "\n",
    "\n",
    "fulltext_colors_reuters = get_colorsForWords(1.8, fulltext_words_reuters, Beta_reuters, vocabulary_reuters, colors=colors)"
   ]
  },
  {
   "cell_type": "code",
   "execution_count": 84,
   "metadata": {},
   "outputs": [
    {
     "name": "stdout",
     "output_type": "stream",
     "text": [
      "\u001b[0mbahia \u001b[0mcocoa \u001b[0mreview \u001b[0mshowers \u001b[0mcontinued \u001b[0;32;48mthroughout \u001b[0mthe \u001b[0;34;48mweek \u001b[0min \u001b[0mthe \u001b[0mbahia \u001b[0mcocoa \u001b[0mzone \u001b[0;32;48m, \u001b[0malleviating \u001b[0mthe \u001b[0mdrought \u001b[0;34;48msince \u001b[0mearly \u001b[0mjanuary \u001b[0mand \u001b[0;32;48mimproving \u001b[0mprospects \u001b[0mfor \u001b[0mthe \u001b[0mcoming \u001b[0mtemporao \u001b[0m, \u001b[0malthough \u001b[0mnormal \u001b[0mhumidity \u001b[0mlevels \u001b[0mhave \u001b[0mnot \u001b[0mbeen \u001b[0mrestored \u001b[0m, \u001b[0mcomissaria \u001b[0msmith \u001b[0msaid \u001b[0min \u001b[0mits \u001b[0mweekly \u001b[0mreview \u001b[0m. \u001b[0mthe \u001b[0mdry \u001b[0mperiod \u001b[0mmeans \u001b[0mthe \u001b[0mtemporao \u001b[0mwill \u001b[0;34;48mbe \u001b[0mlate \u001b[0mthis \u001b[0myear \u001b[0m. \u001b[0marrivals \u001b[0mfor \u001b[0mthe \u001b[0;34;48mweek \u001b[0mended \u001b[0mfebruary \u001b[0m22 \u001b[0;32;48mwere \u001b[0m155 \u001b[0;34;48m, \u001b[0m221 \u001b[0mbags \u001b[0mof \u001b[0m60 \u001b[0mkilos \u001b[0mmaking \u001b[0ma \u001b[0mcumulative \u001b[0mtotal \u001b[0mfor \u001b[0mthe \u001b[0mseason \u001b[0mof \u001b[0m5 \u001b[0m. \u001b[0m93 \u001b[0mmln \u001b[0magainst \u001b[0m5 \u001b[0m. \u001b[0m81 \u001b[0mat \u001b[0mthe \u001b[0msame \u001b[0mstage \u001b[0mlast \u001b[0myear \u001b[0m. \u001b[0magain \u001b[0mit \u001b[0mseems \u001b[0mthat \u001b[0mcocoa \u001b[0mdelivered \u001b[0mearlier \u001b[0mon \u001b[0;32;48mconsignment \u001b[0mwas \u001b[0mincluded \u001b[0min \u001b[0mthe \u001b[0marrivals \u001b[0mfigures \u001b[0m. \u001b[0mcomissaria \u001b[0msmith \u001b[0msaid \u001b[0mthere \u001b[0;34;48mis \u001b[0mstill \u001b[0msome \u001b[0mdoubt \u001b[0mas \u001b[0mto \u001b[0mhow \u001b[0;34;48mmuch \u001b[0mold \u001b[0mcrop \u001b[0mcocoa \u001b[0mis \u001b[0mstill \u001b[0mavailable \u001b[0mas \u001b[0mharvesting \u001b[0mhas \u001b[0mpractically \u001b[0mcome \u001b[0mto \u001b[0man \u001b[0mend \u001b[0m. \u001b[0mwith \u001b[0mtotal \u001b[0mbahia \u001b[0mcrop \u001b[0mestimates \u001b[0maround \u001b[0m6 \u001b[0m. \u001b[0m4 \u001b[0;32;48mmln \u001b[0mbags \u001b[0mand \u001b[0msales \u001b[0mstanding \u001b[0mat \u001b[0malmost \u001b[0m6 \u001b[0m. \u001b[0m2 \u001b[0mmln \u001b[0mthere \u001b[0mare \u001b[0ma \u001b[0mfew \u001b[0mhundred \u001b[0;32;48mthousand \u001b[0mbags \u001b[0mstill \u001b[0min \u001b[0mthe \u001b[0mhands \u001b[0mof \u001b[0;32;48mfarmers \u001b[0m, \u001b[0mmiddlemen \u001b[0m, \u001b[0mexporters \u001b[0mand \u001b[0mprocessors \u001b[0m. \u001b[0mthere \u001b[0mare \u001b[0;34;48mdoubts \u001b[0mas \u001b[0mto \u001b[0mhow \u001b[0mmuch \u001b[0mof \u001b[0mthis \u001b[0mcocoa \u001b[0mwould \u001b[0mbe \u001b[0;34;48mfit \u001b[0mfor \u001b[0mexport \u001b[0mas \u001b[0mshippers \u001b[0mare \u001b[0mnow \u001b[0mexperiencing \u001b[0mdificulties \u001b[0min \u001b[0mobtaining \u001b[0m+ \u001b[0mbahia \u001b[0msuperior \u001b[0m+ \u001b[0mcertificates \u001b[0;32;48m. \u001b[0min \u001b[0mview \u001b[0mof \u001b[0;32;48mthe \u001b[0mlower \u001b[0mquality \u001b[0;32;48mover \u001b[0mrecent \u001b[0mweeks \u001b[0mfarmers \u001b[0mhave \u001b[0msold \u001b[0ma \u001b[0mgood \u001b[0mpart \u001b[0;32;48mof \u001b[0mtheir \u001b[0mcocoa \u001b[0mheld \u001b[0mon \u001b[0mconsignment \u001b[0m. \u001b[0;32;48mcomissaria \u001b[0msmith \u001b[0msaid \u001b[0mspot \u001b[0;32;48mbean \u001b[0mprices \u001b[0mrose \u001b[0mto \u001b[0m340 \u001b[0mto \u001b[0m350 \u001b[0mcruzados \u001b[0mper \u001b[0;32;48marroba \u001b[0mof \u001b[0m15 \u001b[0mkilos \u001b[0m. \u001b[0mbean \u001b[0mshippers \u001b[0;32;48mwere \u001b[0;32;48mreluctant \u001b[0mto \u001b[0moffer \u001b[0mnearby \u001b[0mshipment \u001b[0mand \u001b[0;32;48monly \u001b[0mlimited \u001b[0msales \u001b[0;32;48mwere \u001b[0mbooked \u001b[0mfor \u001b[0mmarch \u001b[0mshipment \u001b[0mat \u001b[0m1 \u001b[0m, \u001b[0m750 \u001b[0mto \u001b[0m1 \u001b[0;32;48m, \u001b[0m780 \u001b[0mdlrs \u001b[0mper \u001b[0mtonne \u001b[0;32;48mto \u001b[0mports \u001b[0mto \u001b[0mbe \u001b[0mnamed \u001b[0m. \u001b[0mnew \u001b[0mcrop \u001b[0msales \u001b[0mwere \u001b[0;32;48malso \u001b[0mlight \u001b[0;32;48mand \u001b[0mall \u001b[0mto \u001b[0mopen \u001b[0mports \u001b[0;32;48mwith \u001b[0mjune \u001b[0m/ \u001b[0mjuly \u001b[0mgoing \u001b[0mat \u001b[0m1 \u001b[0m, \u001b[0m850 \u001b[0mand \u001b[0m1 \u001b[0m, \u001b[0m880 \u001b[0mdlrs \u001b[0;32;48mand \u001b[0mat \u001b[0m35 \u001b[0mand \u001b[0m45 \u001b[0mdlrs \u001b[0;32;48munder \u001b[0mnew \u001b[0myork \u001b[0mjuly \u001b[0;32;48m, \u001b[0maug \u001b[0m/ \u001b[0;32;48msept \u001b[0mat \u001b[0m1 \u001b[0m, \u001b[0m870 \u001b[0m, \u001b[0m1 \u001b[0;32;48m, \u001b[0m875 \u001b[0mand \u001b[0;32;48m1 \u001b[0m, \u001b[0m880 \u001b[0mdlrs \u001b[0mper \u001b[0mtonne \u001b[0mfob \u001b[0m. \u001b[0mroutine \u001b[0msales \u001b[0mof \u001b[0mbutter \u001b[0mwere \u001b[0mmade \u001b[0m. \u001b[0mmarch \u001b[0m/ \u001b[0mapril \u001b[0msold \u001b[0mat \u001b[0;32;48m4 \u001b[0m, \u001b[0m340 \u001b[0m, \u001b[0;32;48m4 \u001b[0m, \u001b[0m345 \u001b[0mand \u001b[0m4 \u001b[0m, \u001b[0m350 \u001b[0mdlrs \u001b[0m. \u001b[0mapril \u001b[0;32;48m/ \u001b[0mmay \u001b[0mbutter \u001b[0mwent \u001b[0mat \u001b[0m2 \u001b[0m. \u001b[0m27 \u001b[0mtimes \u001b[0;32;48mnew \u001b[0myork \u001b[0mmay \u001b[0m, \u001b[0mjune \u001b[0;32;48m/ \u001b[0mjuly \u001b[0mat \u001b[0m4 \u001b[0m, \u001b[0m400 \u001b[0mand \u001b[0m4 \u001b[0m, \u001b[0m415 \u001b[0;34;48mdlrs \u001b[0m, \u001b[0maug \u001b[0m/ \u001b[0msept \u001b[0mat \u001b[0;34;48m4 \u001b[0m, \u001b[0m351 \u001b[0mto \u001b[0m4 \u001b[0;32;48m, \u001b[0m450 \u001b[0mdlrs \u001b[0mand \u001b[0mat \u001b[0m2 \u001b[0m. \u001b[0;32;48m27 \u001b[0mand \u001b[0m2 \u001b[0m. \u001b[0m28 \u001b[0mtimes \u001b[0mnew \u001b[0myork \u001b[0;34;48msept \u001b[0mand \u001b[0moct \u001b[0m/ \u001b[0mdec \u001b[0mat \u001b[0m4 \u001b[0m, "
     ]
    },
    {
     "ename": "IndexError",
     "evalue": "list index out of range",
     "output_type": "error",
     "traceback": [
      "\u001b[0;31m---------------------------------------------------------------------------\u001b[0m",
      "\u001b[0;31mIndexError\u001b[0m                                Traceback (most recent call last)",
      "\u001b[0;32m<ipython-input-84-d41059adc155>\u001b[0m in \u001b[0;36m<module>\u001b[0;34m\u001b[0m\n\u001b[0;32m----> 1\u001b[0;31m \u001b[0mwrite_colored_text\u001b[0m\u001b[0;34m(\u001b[0m\u001b[0mfulltext_allwords_reuters\u001b[0m\u001b[0;34m,\u001b[0m \u001b[0mfulltext_colors_reuters\u001b[0m\u001b[0;34m,\u001b[0m \u001b[0mcolors\u001b[0m\u001b[0;34m=\u001b[0m\u001b[0mcolors\u001b[0m\u001b[0;34m)\u001b[0m\u001b[0;34m\u001b[0m\u001b[0;34m\u001b[0m\u001b[0m\n\u001b[0m\u001b[1;32m      2\u001b[0m \u001b[0mtopic_words\u001b[0m \u001b[0;34m=\u001b[0m\u001b[0;34m[\u001b[0m\u001b[0;34m]\u001b[0m\u001b[0;34m\u001b[0m\u001b[0;34m\u001b[0m\u001b[0m\n\u001b[1;32m      3\u001b[0m \u001b[0;32mfor\u001b[0m \u001b[0mi\u001b[0m \u001b[0;32min\u001b[0m \u001b[0mrange\u001b[0m\u001b[0;34m(\u001b[0m\u001b[0mk\u001b[0m\u001b[0;34m)\u001b[0m\u001b[0;34m:\u001b[0m\u001b[0;34m\u001b[0m\u001b[0;34m\u001b[0m\u001b[0m\n\u001b[1;32m      4\u001b[0m     \u001b[0mtopic_words\u001b[0m\u001b[0;34m.\u001b[0m\u001b[0mappend\u001b[0m\u001b[0;34m(\u001b[0m\u001b[0mnp\u001b[0m\u001b[0;34m.\u001b[0m\u001b[0mwhere\u001b[0m\u001b[0;34m(\u001b[0m\u001b[0mnp\u001b[0m\u001b[0;34m.\u001b[0m\u001b[0marray\u001b[0m\u001b[0;34m(\u001b[0m\u001b[0mfulltext_colors_reuters\u001b[0m\u001b[0;34m)\u001b[0m\u001b[0;34m==\u001b[0m\u001b[0mcolors\u001b[0m\u001b[0;34m[\u001b[0m\u001b[0mi\u001b[0m\u001b[0;34m]\u001b[0m\u001b[0;34m)\u001b[0m\u001b[0;34m)\u001b[0m\u001b[0;34m\u001b[0m\u001b[0;34m\u001b[0m\u001b[0m\n\u001b[1;32m      5\u001b[0m     \u001b[0mprint\u001b[0m\u001b[0;34m(\u001b[0m\u001b[0;34m\"\\033[0mTOPIC: \"\u001b[0m\u001b[0;34m+\u001b[0m\u001b[0mstr\u001b[0m\u001b[0;34m(\u001b[0m\u001b[0mi\u001b[0m\u001b[0;34m)\u001b[0m\u001b[0;34m+\u001b[0m\u001b[0;34m\": \"\u001b[0m\u001b[0;34m+\u001b[0m\u001b[0;34m\"\\033[0;\"\u001b[0m\u001b[0;34m+\u001b[0m\u001b[0mstr\u001b[0m\u001b[0;34m(\u001b[0m\u001b[0mcolors_ansi\u001b[0m\u001b[0;34m[\u001b[0m\u001b[0mi\u001b[0m\u001b[0;34m]\u001b[0m\u001b[0;34m)\u001b[0m\u001b[0;34m+\u001b[0m\u001b[0;34m\";48m\"\u001b[0m\u001b[0;34m+\u001b[0m \u001b[0;34m\", \"\u001b[0m\u001b[0;34m.\u001b[0m\u001b[0mjoin\u001b[0m\u001b[0;34m(\u001b[0m\u001b[0mnp\u001b[0m\u001b[0;34m.\u001b[0m\u001b[0marray\u001b[0m\u001b[0;34m(\u001b[0m\u001b[0mfulltext_words_reuters\u001b[0m\u001b[0;34m)\u001b[0m\u001b[0;34m[\u001b[0m\u001b[0mtopic_words\u001b[0m\u001b[0;34m[\u001b[0m\u001b[0mi\u001b[0m\u001b[0;34m]\u001b[0m\u001b[0;34m]\u001b[0m\u001b[0;34m)\u001b[0m\u001b[0;34m)\u001b[0m\u001b[0;34m\u001b[0m\u001b[0;34m\u001b[0m\u001b[0m\n",
      "\u001b[0;32m<ipython-input-76-b07f3ad5ae88>\u001b[0m in \u001b[0;36mwrite_colored_text\u001b[0;34m(fulltext_allwords, fulltext_colors, colors)\u001b[0m\n\u001b[1;32m      5\u001b[0m \u001b[0;34m\u001b[0m\u001b[0m\n\u001b[1;32m      6\u001b[0m     \u001b[0;32mfor\u001b[0m \u001b[0ma\u001b[0m \u001b[0;32min\u001b[0m \u001b[0mrange\u001b[0m\u001b[0;34m(\u001b[0m\u001b[0mlen\u001b[0m\u001b[0;34m(\u001b[0m\u001b[0mfulltext_allwords\u001b[0m\u001b[0;34m)\u001b[0m\u001b[0;34m)\u001b[0m\u001b[0;34m:\u001b[0m\u001b[0;34m\u001b[0m\u001b[0;34m\u001b[0m\u001b[0m\n\u001b[0;32m----> 7\u001b[0;31m         \u001b[0;32mif\u001b[0m \u001b[0mfulltext_colors\u001b[0m\u001b[0;34m[\u001b[0m\u001b[0ma\u001b[0m\u001b[0;34m]\u001b[0m\u001b[0;34m==\u001b[0m\u001b[0;34m'k'\u001b[0m\u001b[0;34m:\u001b[0m\u001b[0;34m\u001b[0m\u001b[0;34m\u001b[0m\u001b[0m\n\u001b[0m\u001b[1;32m      8\u001b[0m             \u001b[0;31m#IF WE WANT TO FOCUS ON THE TOPIC WORDS:\u001b[0m\u001b[0;34m\u001b[0m\u001b[0;34m\u001b[0m\u001b[0;34m\u001b[0m\u001b[0m\n\u001b[1;32m      9\u001b[0m             \u001b[0;31m#print(\"\\033[0;37;48m\"+fulltext_allwords[a], end=\" \")\u001b[0m\u001b[0;34m\u001b[0m\u001b[0;34m\u001b[0m\u001b[0;34m\u001b[0m\u001b[0m\n",
      "\u001b[0;31mIndexError\u001b[0m: list index out of range"
     ]
    }
   ],
   "source": [
    "       \n",
    "write_colored_text(fulltext_allwords_reuters, fulltext_colors_reuters, colors=colors)\n",
    "topic_words =[]\n",
    "for i in range(k):\n",
    "    topic_words.append(np.where(np.array(fulltext_colors_reuters)==colors[i]))\n",
    "    print(\"\\033[0mTOPIC: \"+str(i)+\": \"+\"\\033[0;\"+str(colors_ansi[i])+\";48m\"+ \", \".join(np.array(fulltext_words_reuters)[topic_words[i]]))\n",
    "    print(\"\\033[0m\")       "
   ]
  },
  {
   "cell_type": "code",
   "execution_count": null,
   "metadata": {},
   "outputs": [],
   "source": []
  },
  {
   "cell_type": "code",
   "execution_count": null,
   "metadata": {},
   "outputs": [],
   "source": []
  },
  {
   "cell_type": "code",
   "execution_count": null,
   "metadata": {},
   "outputs": [],
   "source": [
    "def smoothed_LDA_vEM():\n",
    "    "
   ]
  }
 ],
 "metadata": {
  "kernelspec": {
   "display_name": "Python 3",
   "language": "python",
   "name": "python3"
  },
  "language_info": {
   "codemirror_mode": {
    "name": "ipython",
    "version": 3
   },
   "file_extension": ".py",
   "mimetype": "text/x-python",
   "name": "python",
   "nbconvert_exporter": "python",
   "pygments_lexer": "ipython3",
   "version": "3.7.3"
  }
 },
 "nbformat": 4,
 "nbformat_minor": 2
}
