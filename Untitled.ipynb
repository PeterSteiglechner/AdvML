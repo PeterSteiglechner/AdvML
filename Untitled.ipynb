{
 "cells": [
  {
   "cell_type": "markdown",
   "metadata": {},
   "source": [
    "# DD2434_Project"
   ]
  },
  {
   "cell_type": "markdown",
   "metadata": {},
   "source": [
    "# Setup"
   ]
  },
  {
   "cell_type": "markdown",
   "metadata": {},
   "source": [
    "PARAMETERS:\n",
    "\n",
    "k - number of topics\n",
    "N - number of words in a document (different for each document)\n",
    "M - number of documents in a corpus\n",
    "\n",
    "Model parameters:\n",
    "z_n - [k] dimension vector; topic distribution for word n \n",
    "Theta - [k] dimension vector; mixture weights\n",
    "alpha - [k] dimension vector; prior probability for theta (mixture weights) (alpha > 0)\n",
    "beta - [k x V] dimension matrix; beta_ij = p(w^j = 1 | z^i = 1) \n",
    "                                 probability for a specific word j given a specific topic i\n",
    "D - list of [V x N] dimension matrices, that is M long = [\\mathbf{w}_1, ... \\mathbf{w}_M];\n",
    "                                 where \\mathbf{w} = [w_1,...,w_N] is [V x N] (one document consisting of N words) \n",
    "\n",
    "\n",
    "Variational parameters:\n",
    "Gamma - [k] dimension vector; determines Theta in the Variational Model\n",
    "Phi = phi_1 .. phi_N - [N x k] dimension matrix; determines the probability distribution \n",
    "                                 for topics z of words in the Variational Model"
   ]
  },
  {
   "cell_type": "code",
   "execution_count": 1,
   "metadata": {},
   "outputs": [],
   "source": [
    "import numpy as np \n",
    "import matplotlib.pyplot as plt \n",
    "import scipy\n",
    "from scipy import special\n",
    "from scipy.special import digamma, gammaln, polygamma\n",
    "import pandas as pd\n",
    "from collections import Counter "
   ]
  },
  {
   "cell_type": "markdown",
   "metadata": {},
   "source": [
    "## Load the Document Corpus\n",
    "Download the data from \n",
    "https://github.com/Blei-Lab/lda-c/blob/master/example/ap.tgz\n",
    "\n",
    "We can directly load the file \"ap.dat\" which contains:\n",
    "\n",
    "1 line = 1 document,\n",
    "\n",
    "[number of different words in doc] [word index (where the one is in w_n]:[how often it occurs in the doc] [word index 2]:[occurences 2] ..."
   ]
  },
  {
   "cell_type": "code",
   "execution_count": 2,
   "metadata": {},
   "outputs": [],
   "source": [
    "vocabulary = np.genfromtxt('ap/vocab.txt',  dtype='str')"
   ]
  },
  {
   "cell_type": "code",
   "execution_count": 3,
   "metadata": {},
   "outputs": [],
   "source": [
    "def clean_up_data(corpus_file, vocabulary_file, stopwords_file):\n",
    "    \"\"\"\n",
    "    Reads the corpus from the .txt file into a list of lists;\n",
    "    a list for each document which contains a list of all the \n",
    "    words as strings.\n",
    "    Input parameters:\n",
    "    corpus_file - path to the corpus file\n",
    "    vocabulary_file - path to the vocabulary file\n",
    "    stopwords_file - path to the stopwords file\n",
    "    \"\"\"\n",
    "    vocabulary = np.genfromtxt(vocabulary_file,  dtype='str')\n",
    "    special_chars = '1234567890~!@#£$%^&*()_+,./<>?\\|\"]}\\'[{`-'\n",
    "    corpus = []\n",
    "    \n",
    "    # read in stopwords from file into a list\n",
    "    stopwords = [] \n",
    "    with open(stopwords_file, 'r') as file:\n",
    "        stop_words = file.read().replace(',', ' ')\n",
    "        for word in stop_words.split():\n",
    "            stopwords.append(word) \n",
    "    \n",
    "    with open(corpus_file, 'r') as text:\n",
    "        doc = ''\n",
    "        new = False\n",
    "        for line in text:\n",
    "            if new: # reached a new document\n",
    "                if line.strip() != '<TEXT>': # until we reach the new doc\n",
    "                    for char in special_chars: # remove punctuation etc,\n",
    "                        line = line.replace(char, '')\n",
    "                    doc += line\n",
    "                else: # we've reached a new doc again\n",
    "                    doc = doc.lower() # all words lowercase\n",
    "                    words = np.array(doc.split())\n",
    "                    doc = [word for word in words if word not in stopwords]\n",
    "                    corpus.append(doc)\n",
    "                    doc = ''\n",
    "            elif line.strip() == '<TEXT>': new = True\n",
    "\n",
    "    \n",
    "    return corpus, vocabulary"
   ]
  },
  {
   "cell_type": "code",
   "execution_count": 4,
   "metadata": {},
   "outputs": [],
   "source": [
    "corpus, vocabulary = clean_up_data('ap/ap.txt', 'ap/vocab.txt', 'ap/stopwords.txt')"
   ]
  },
  {
   "cell_type": "code",
   "execution_count": 5,
   "metadata": {},
   "outputs": [],
   "source": [
    "def initialize_parameters(documents, vocabulary, k):\n",
    "    M = len(documents)\n",
    "    V = len(vocabulary)\n",
    "    \n",
    "    # Initialize alpha \n",
    "    # alpha = np.ones([M,k]) * 50/k # for every document, for every topic\n",
    "    alpha = np.ones(k)*50/k\n",
    "    # Initialize beta\n",
    "    beta = np.zeros([k,V]) # for every topic, for every word in the vocabulary\n",
    "    for i in range(k):\n",
    "        beta[i] = np.random.uniform(0, 1, V)\n",
    "        beta[i] = beta[i] / np.sum(beta[i])\n",
    "    \n",
    "    # Initialize phi and gamma\n",
    "    phi = []\n",
    "    gamma = np.zeros([M,k]) # for every document, for every topic\n",
    "    for m in range(M):\n",
    "        doc = np.array(documents[m])\n",
    "        N = len(doc)\n",
    "        phi.append(np.ones([N,k]) * 1/float(k)) # uniform over topics\n",
    "        \n",
    "        for i in range(k):\n",
    "            gamma[m][i] = alpha[i] + N/float(k)\n",
    "        m += 1 # WHYYYYYYY?\n",
    "        \n",
    "    return alpha, beta, gamma, phi"
   ]
  },
  {
   "cell_type": "code",
   "execution_count": 6,
   "metadata": {},
   "outputs": [],
   "source": [
    "def compute_lower_bound_likelihood(Phi, gamma, alpha, Beta, document, vocabulary, k):\n",
    "    likelihood = 0.0\n",
    "    V = len(vocabulary)\n",
    "    words = np.array(document)\n",
    "    N = len(words)\n",
    "    \n",
    "    alpha_sum = 0.0\n",
    "    phi_gamma_sum = 0.0\n",
    "    phi_logbeta_sum = 0.0\n",
    "    entropy_sum = 0.0\n",
    "    gamma_sum = 0.0\n",
    "    \n",
    "    alpha_sum += gammaln(np.sum(alpha))  \n",
    "    gamma_sum -= gammaln(np.sum(gamma)) \n",
    "    for i in range(k):\n",
    "        alpha_sum += -gammaln(alpha[i]) + \\\n",
    "                (alpha[i] - 1) * (digamma(gamma[i]) - digamma(np.sum(gamma)))\n",
    "        \n",
    "        for n in range(N):\n",
    "            if Phi[n,i] > 0:\n",
    "                w_indicator = np.sum(np.in1d(vocabulary, words[n]))   \n",
    "                phi_gamma_sum += Phi[n,i] * (digamma(gamma[i]) - digamma(np.sum(gamma[:])))\n",
    "                entropy_sum += Phi[n,i] * np.log(Phi[n,i])\n",
    "                for j in range(V):\n",
    "                    if Beta[i,j] > 0:\n",
    "                        phi_logbeta_sum += Phi[n,i] * w_indicator * np.log(Beta[i,j])\n",
    "            \n",
    "        gamma_sum += gammaln(gamma[i]) - \\\n",
    "                    (gamma[i] - 1) * (digamma(gamma[i]) - digamma(np.sum(gamma[:])))\n",
    "    \n",
    "    likelihood += (alpha_sum + phi_gamma_sum + phi_logbeta_sum - gamma_sum - entropy_sum) \n",
    "    return likelihood"
   ]
  },
  {
   "cell_type": "code",
   "execution_count": 7,
   "metadata": {},
   "outputs": [],
   "source": [
    "def update_phi_gamma(k, phi, gamma, alpha, beta, document, vocabulary, tol=1e-5, MAX_STEPS = 100):\n",
    "    \n",
    "    likelihood = 0.0\n",
    "    security_count = 0\n",
    "    converged = False\n",
    "    \n",
    "    words = np.array(document)\n",
    "    N = len(words)\n",
    "\n",
    "    while (not converged) and (security_count < MAX_STEPS):\n",
    "        security_count += 1\n",
    "            \n",
    "        phi_old = phi\n",
    "        phi = np.zeros([N,k])\n",
    "        gamma_old = gamma\n",
    "            \n",
    "        for n in range(N):\n",
    "            word = words[n]\n",
    "            if len(np.where(vocabulary == word)[0]) > 0: # word does not exist in vocabulary\n",
    "                for i in range(k):                \n",
    "                    beta_ = beta[i, np.where(vocabulary == word)]\n",
    "                    phi[n, i] = beta_[0][0] * np.exp(digamma(gamma[i]) - digamma(np.sum(gamma)))\n",
    "                phi[n,:] = phi[n,:] / np.sum(phi[n,:])   \n",
    "        gamma = alpha + np.sum(phi, axis=0)    \n",
    "            \n",
    "\n",
    "        # Convergence ctierion: did phi and gamma change significantly?\n",
    "        if (np.linalg.norm(phi - phi_old) < tol) and (np.linalg.norm(gamma - gamma_old) < tol):              \n",
    "            print('Document needed ' + str(security_count) + ' iterations to converge.')\n",
    "                \n",
    "            likelihood += compute_lower_bound_likelihood(phi, gamma, alpha, beta, document, vocabulary, k)\n",
    "            converged = True\n",
    "    \n",
    "    return phi, gamma, likelihood"
   ]
  },
  {
   "cell_type": "code",
   "execution_count": 8,
   "metadata": {},
   "outputs": [],
   "source": [
    "def update_beta(phi, documents, vocabulary, k):\n",
    "    \n",
    "    M = len(documents)\n",
    "    V = len(vocabulary)\n",
    "    \n",
    "    beta = np.zeros([k, V])\n",
    "    for m, doc in enumerate(documents):\n",
    "        words = np.array(doc)\n",
    "        phi_m = phi[m]\n",
    "        for i in range(k):\n",
    "            phi_ = phi_m[:,i]\n",
    "            for j in range(V):\n",
    "                word = vocabulary[j]\n",
    "                indicator = np.in1d(words, word)\n",
    "                indicator.astype(int) \n",
    "                beta[i][j] += np.dot(indicator, phi_)\n",
    "    beta = np.transpose(np.transpose(beta) / np.sum(beta, axis=1))\n",
    "\n",
    "    return beta\n",
    "    "
   ]
  },
  {
   "cell_type": "code",
   "execution_count": null,
   "metadata": {},
   "outputs": [],
   "source": [
    "def update_lambda(phi, ni, documents, vocabulary, k):\n",
    "    \n",
    "    M = len(documents)\n",
    "    V = len(vocabulary)\n",
    "    \n",
    "    Lambda = np.ones([k, V])*ni\n",
    "    for m, doc in enumerate(documents):\n",
    "        words = np.array(doc)\n",
    "        phi_m = phi[m]\n",
    "        for i in range(k):\n",
    "            phi_ = phi_m[:,i]\n",
    "            for n, j in enumerate(words)\n",
    "                Lambda[i][j] += phi_[n]\n",
    "\n",
    "\n",
    "    return Lambda"
   ]
  },
  {
   "cell_type": "code",
   "execution_count": 9,
   "metadata": {},
   "outputs": [],
   "source": [
    "def update_alpha(alpha, gamma, k, M, max_iter=50, tol=0.0001):\n",
    "    \"\"\"This function updates alpha.\"\"\"\n",
    "    \n",
    "    # Maria B version\n",
    "    temp = 0\n",
    "    for d in range(M):\n",
    "        temp_1 = np.sum(special.polygamma(0, gamma[d])) - np.sum(special.polygamma(0, np.sum(gamma, axis=1)))\n",
    "    \n",
    "    gradient = M * (k * special.polygamma(1, alpha) - special.polygamma(1, k*alpha))\n",
    "    gradient = gradient + temp\n",
    "\n",
    "    hessian = M * k * (k * special.polygamma(2, k*alpha) - special.polygamma(2, alpha))\n",
    "\n",
    "    temp = gradient / (hessian * alpha + gradient + tol)\n",
    "    if (alpha == 0).any():\n",
    "        alpha += 0.005\n",
    "\n",
    "    log_alpha = np.log(alpha) - temp\n",
    "    alpha = np.exp(log_alpha)    \n",
    "        \n",
    "    return alpha\n"
   ]
  },
  {
   "cell_type": "code",
   "execution_count": 10,
   "metadata": {},
   "outputs": [],
   "source": [
    "def E_step(phi, gamma, alpha, beta, documents, vocabulary, k):\n",
    "\n",
    "    for m, doc in enumerate(documents):\n",
    "        # words = np.array(documents[m])\n",
    "        # N = len(words)\n",
    "        \n",
    "        phi[m], gamma[m], likelihood = update_phi_gamma(k, phi[m], gamma[m], alpha, beta, doc, vocabulary)\n",
    "                \n",
    "    return phi, gamma, likelihood"
   ]
  },
  {
   "cell_type": "code",
   "execution_count": 11,
   "metadata": {},
   "outputs": [],
   "source": [
    "def M_step(phi, gamma, alpha, documents, vocabulary, k):\n",
    "    print('M-step')\n",
    "    beta = update_beta(phi, documents, vocabulary, k)\n",
    "    alpha = update_alpha(alpha, gamma, k, M)\n",
    "    \n",
    "    return alpha, beta"
   ]
  },
  {
   "cell_type": "code",
   "execution_count": 12,
   "metadata": {},
   "outputs": [],
   "source": [
    "k = 4\n",
    "corpus = corpus[:15]\n",
    "M = len(corpus)\n"
   ]
  },
  {
   "cell_type": "code",
   "execution_count": 13,
   "metadata": {},
   "outputs": [],
   "source": [
    "def variational_EM(Phi_init, gamma_init, alpha_init, Beta_init, documents, vocabulary, k):\n",
    "    print('Variational EM')\n",
    "    M = len(documents)\n",
    "    \n",
    "    likelihood = 0\n",
    "    likelihood_old = 0.000004\n",
    "    iteration = 1 # Initialization step is the first step\n",
    "    Phi = Phi_init\n",
    "    gamma = gamma_init\n",
    "    alpha = alpha_init\n",
    "    Beta = Beta_init\n",
    "    while iteration <= 2 or np.abs((likelihood-likelihood_old)/likelihood_old) > 1e-5:\n",
    "        \n",
    "        # Update parameters \n",
    "        if likelihood == 0:\n",
    "            likelihood_old = 0.005\n",
    "        else:\n",
    "            likelihood_old = likelihood\n",
    "        Phi_old = Phi \n",
    "        gamma_old = gamma \n",
    "        alpha_old = alpha\n",
    "        Beta_old = Beta\n",
    "    \n",
    "        Phi, gamma, likelihood = \\\n",
    "            E_step(Phi_old, gamma_old, alpha_old, Beta_old, documents, vocabulary, k)\n",
    "        alpha, Beta = \\\n",
    "            M_step(Phi, gamma, alpha_old, documents, vocabulary, k)\n",
    "                \n",
    "        iteration += 1\n",
    "        \n",
    "        if iteration > 10:\n",
    "            break\n",
    "        \n",
    "    return Phi, gamma, alpha, Beta, likelihood"
   ]
  },
  {
   "cell_type": "code",
   "execution_count": 14,
   "metadata": {},
   "outputs": [],
   "source": [
    "alpha_init, beta_init, gamma_init, phi_init = initialize_parameters(corpus, vocabulary, k)"
   ]
  },
  {
   "cell_type": "code",
   "execution_count": 15,
   "metadata": {},
   "outputs": [
    {
     "name": "stdout",
     "output_type": "stream",
     "text": [
      "Document needed 46 iterations to converge.\n",
      "Document needed 53 iterations to converge.\n",
      "Document needed 44 iterations to converge.\n",
      "Document needed 44 iterations to converge.\n",
      "Document needed 20 iterations to converge.\n",
      "Document needed 61 iterations to converge.\n",
      "Document needed 38 iterations to converge.\n",
      "Document needed 18 iterations to converge.\n",
      "Document needed 8 iterations to converge.\n",
      "Document needed 29 iterations to converge.\n",
      "Document needed 20 iterations to converge.\n",
      "Document needed 24 iterations to converge.\n",
      "Document needed 35 iterations to converge.\n",
      "Document needed 13 iterations to converge.\n",
      "Document needed 61 iterations to converge.\n"
     ]
    }
   ],
   "source": [
    "phi, gamma, likelihood = E_step(phi_init, gamma_init, alpha_init, beta_init, corpus, vocabulary, k)"
   ]
  },
  {
   "cell_type": "code",
   "execution_count": 16,
   "metadata": {},
   "outputs": [
    {
     "name": "stdout",
     "output_type": "stream",
     "text": [
      "M-step\n"
     ]
    }
   ],
   "source": [
    "alpha, beta = M_step(phi, gamma, alpha_init, corpus, vocabulary, k)"
   ]
  },
  {
   "cell_type": "code",
   "execution_count": 17,
   "metadata": {},
   "outputs": [
    {
     "name": "stdout",
     "output_type": "stream",
     "text": [
      "Variational EM\n",
      "Document needed 1 iterations to converge.\n",
      "Document needed 1 iterations to converge.\n",
      "Document needed 1 iterations to converge.\n",
      "Document needed 1 iterations to converge.\n",
      "Document needed 1 iterations to converge.\n",
      "Document needed 1 iterations to converge.\n",
      "Document needed 1 iterations to converge.\n",
      "Document needed 1 iterations to converge.\n",
      "Document needed 1 iterations to converge.\n",
      "Document needed 1 iterations to converge.\n",
      "Document needed 1 iterations to converge.\n",
      "Document needed 1 iterations to converge.\n",
      "Document needed 1 iterations to converge.\n",
      "Document needed 1 iterations to converge.\n",
      "Document needed 1 iterations to converge.\n",
      "M-step\n",
      "Document needed 52 iterations to converge.\n",
      "Document needed 49 iterations to converge.\n",
      "Document needed 60 iterations to converge.\n",
      "Document needed 53 iterations to converge.\n",
      "Document needed 27 iterations to converge.\n",
      "Document needed 72 iterations to converge.\n",
      "Document needed 48 iterations to converge.\n",
      "Document needed 29 iterations to converge.\n",
      "Document needed 10 iterations to converge.\n",
      "Document needed 39 iterations to converge.\n",
      "Document needed 30 iterations to converge.\n",
      "Document needed 38 iterations to converge.\n",
      "Document needed 44 iterations to converge.\n",
      "Document needed 18 iterations to converge.\n",
      "Document needed 73 iterations to converge.\n",
      "M-step\n",
      "Document needed 51 iterations to converge.\n",
      "Document needed 26 iterations to converge.\n",
      "Document needed 45 iterations to converge.\n",
      "Document needed 36 iterations to converge.\n",
      "Document needed 39 iterations to converge.\n",
      "Document needed 62 iterations to converge.\n",
      "Document needed 36 iterations to converge.\n",
      "Document needed 42 iterations to converge.\n",
      "Document needed 14 iterations to converge.\n",
      "Document needed 47 iterations to converge.\n",
      "Document needed 37 iterations to converge.\n",
      "Document needed 45 iterations to converge.\n",
      "Document needed 44 iterations to converge.\n",
      "Document needed 22 iterations to converge.\n",
      "Document needed 64 iterations to converge.\n",
      "M-step\n",
      "Document needed 22 iterations to converge.\n",
      "Document needed 13 iterations to converge.\n",
      "Document needed 56 iterations to converge.\n",
      "Document needed 15 iterations to converge.\n",
      "Document needed 26 iterations to converge.\n",
      "Document needed 52 iterations to converge.\n",
      "Document needed 13 iterations to converge.\n",
      "Document needed 49 iterations to converge.\n",
      "Document needed 19 iterations to converge.\n",
      "Document needed 39 iterations to converge.\n",
      "Document needed 23 iterations to converge.\n",
      "Document needed 39 iterations to converge.\n",
      "Document needed 31 iterations to converge.\n",
      "Document needed 20 iterations to converge.\n",
      "Document needed 12 iterations to converge.\n",
      "M-step\n",
      "Document needed 10 iterations to converge.\n",
      "Document needed 11 iterations to converge.\n",
      "Document needed 51 iterations to converge.\n",
      "Document needed 12 iterations to converge.\n",
      "Document needed 14 iterations to converge.\n",
      "Document needed 59 iterations to converge.\n",
      "Document needed 11 iterations to converge.\n",
      "Document needed 45 iterations to converge.\n",
      "Document needed 20 iterations to converge.\n",
      "Document needed 35 iterations to converge.\n",
      "Document needed 14 iterations to converge.\n",
      "Document needed 31 iterations to converge.\n",
      "Document needed 11 iterations to converge.\n",
      "Document needed 16 iterations to converge.\n",
      "Document needed 7 iterations to converge.\n",
      "M-step\n",
      "Document needed 9 iterations to converge.\n",
      "Document needed 11 iterations to converge.\n",
      "Document needed 11 iterations to converge.\n",
      "Document needed 12 iterations to converge.\n",
      "Document needed 10 iterations to converge.\n",
      "Document needed 17 iterations to converge.\n",
      "Document needed 9 iterations to converge.\n",
      "Document needed 39 iterations to converge.\n",
      "Document needed 14 iterations to converge.\n",
      "Document needed 22 iterations to converge.\n",
      "Document needed 13 iterations to converge.\n",
      "Document needed 18 iterations to converge.\n",
      "Document needed 9 iterations to converge.\n",
      "Document needed 15 iterations to converge.\n",
      "Document needed 6 iterations to converge.\n",
      "M-step\n",
      "Document needed 9 iterations to converge.\n",
      "Document needed 10 iterations to converge.\n",
      "Document needed 7 iterations to converge.\n",
      "Document needed 12 iterations to converge.\n",
      "Document needed 8 iterations to converge.\n",
      "Document needed 8 iterations to converge.\n",
      "Document needed 8 iterations to converge.\n",
      "Document needed 21 iterations to converge.\n",
      "Document needed 12 iterations to converge.\n",
      "Document needed 24 iterations to converge.\n",
      "Document needed 13 iterations to converge.\n",
      "Document needed 11 iterations to converge.\n",
      "Document needed 9 iterations to converge.\n",
      "Document needed 12 iterations to converge.\n",
      "Document needed 6 iterations to converge.\n",
      "M-step\n",
      "Document needed 7 iterations to converge.\n",
      "Document needed 8 iterations to converge.\n",
      "Document needed 6 iterations to converge.\n",
      "Document needed 10 iterations to converge.\n",
      "Document needed 7 iterations to converge.\n",
      "Document needed 7 iterations to converge.\n",
      "Document needed 7 iterations to converge.\n",
      "Document needed 9 iterations to converge.\n",
      "Document needed 10 iterations to converge.\n",
      "Document needed 13 iterations to converge.\n",
      "Document needed 10 iterations to converge.\n",
      "Document needed 9 iterations to converge.\n",
      "Document needed 7 iterations to converge.\n",
      "Document needed 14 iterations to converge.\n",
      "Document needed 5 iterations to converge.\n",
      "M-step\n",
      "Document needed 6 iterations to converge.\n",
      "Document needed 6 iterations to converge.\n",
      "Document needed 5 iterations to converge.\n",
      "Document needed 7 iterations to converge.\n",
      "Document needed 6 iterations to converge.\n",
      "Document needed 6 iterations to converge.\n",
      "Document needed 6 iterations to converge.\n",
      "Document needed 7 iterations to converge.\n",
      "Document needed 7 iterations to converge.\n",
      "Document needed 8 iterations to converge.\n",
      "Document needed 7 iterations to converge.\n",
      "Document needed 7 iterations to converge.\n",
      "Document needed 6 iterations to converge.\n",
      "Document needed 51 iterations to converge.\n",
      "Document needed 5 iterations to converge.\n",
      "M-step\n",
      "Document needed 5 iterations to converge.\n",
      "Document needed 5 iterations to converge.\n",
      "Document needed 4 iterations to converge.\n",
      "Document needed 5 iterations to converge.\n",
      "Document needed 5 iterations to converge.\n",
      "Document needed 5 iterations to converge.\n",
      "Document needed 5 iterations to converge.\n",
      "Document needed 5 iterations to converge.\n",
      "Document needed 5 iterations to converge.\n",
      "Document needed 5 iterations to converge.\n",
      "Document needed 5 iterations to converge.\n",
      "Document needed 5 iterations to converge.\n",
      "Document needed 5 iterations to converge.\n",
      "Document needed 8 iterations to converge.\n",
      "Document needed 4 iterations to converge.\n",
      "M-step\n"
     ]
    }
   ],
   "source": [
    "Phi, gamma, alpha, Beta, likelihood = \\\n",
    "        variational_EM(phi_init, gamma_init, alpha_init, beta_init, corpus, vocabulary, k)"
   ]
  },
  {
   "cell_type": "code",
   "execution_count": 18,
   "metadata": {},
   "outputs": [
    {
     "data": {
      "text/plain": [
       "array([0.14317312, 0.14317312, 0.14317312, 0.14317312])"
      ]
     },
     "execution_count": 18,
     "metadata": {},
     "output_type": "execute_result"
    }
   ],
   "source": [
    "alpha"
   ]
  },
  {
   "cell_type": "code",
   "execution_count": 19,
   "metadata": {},
   "outputs": [
    {
     "name": "stdout",
     "output_type": "stream",
     "text": [
      "['teacher', 'gun', 'american', 'museum', 'liberace', 'text', 'ap', 'year', 'peres', 'doc']\n",
      "['doc', 'won', 'years', 'first', 'panama', 'month', 'police', 'skins', 'ap', 'noriega']\n",
      "['offer', 'mrs', 'noriega', 'years', 'peres', 'production', 'october', 'year', 'police', 'percent']\n",
      "['last', 'states', 'first', 'shot', 'national', 'president', 'official', 'text', 'doc', 'percent']\n"
     ]
    },
    {
     "data": {
      "image/png": "[encoded data removed]",
      "text/plain": [
       "<Figure size 432x288 with 1 Axes>"
      ]
     },
     "metadata": {
      "needs_background": "light"
     },
     "output_type": "display_data"
    }
   ],
   "source": [
    "for l in range(k):\n",
    "    beta_topic = beta[l,:]\n",
    "    beta_topic_top4 = np.argsort(beta_topic)[-10:]\n",
    "    plt.plot(beta_topic)\n",
    "    print([w for w in np.array(vocabulary)[beta_topic_top4][:]])"
   ]
  }
 ],
 "metadata": {
  "kernelspec": {
   "display_name": "Python 3",
   "language": "python",
   "name": "python3"
  },
  "language_info": {
   "codemirror_mode": {
    "name": "ipython",
    "version": 3
   },
   "file_extension": ".py",
   "mimetype": "text/x-python",
   "name": "python",
   "nbconvert_exporter": "python",
   "pygments_lexer": "ipython3",
   "version": "3.7.3"
  }
 },
 "nbformat": 4,
 "nbformat_minor": 2
}
