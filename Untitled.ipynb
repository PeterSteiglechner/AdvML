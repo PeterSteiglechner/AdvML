{
 "cells": [
  {
   "cell_type": "markdown",
   "metadata": {},
   "source": [
    "# DD2434_Project"
   ]
  },
  {
   "cell_type": "markdown",
   "metadata": {},
   "source": [
    "# Setup"
   ]
  },
  {
   "cell_type": "markdown",
   "metadata": {},
   "source": [
    "PARAMETERS:\n",
    "\n",
    "k - number of topics\n",
    "N - number of words in a document (different for each document)\n",
    "M - number of documents in a corpus\n",
    "\n",
    "Model parameters:\n",
    "z_n - [k] dimension vector; topic distribution for word n \n",
    "Theta - [k] dimension vector; mixture weights\n",
    "alpha - [k] dimension vector; prior probability for theta (mixture weights) (alpha > 0)\n",
    "beta - [k x V] dimension matrix; beta_ij = p(w^j = 1 | z^i = 1) \n",
    "                                 probability for a specific word j given a specific topic i\n",
    "D - list of [V x N] dimension matrices, that is M long = [\\mathbf{w}_1, ... \\mathbf{w}_M];\n",
    "                                 where \\mathbf{w} = [w_1,...,w_N] is [V x N] (one document consisting of N words) \n",
    "\n",
    "\n",
    "Variational parameters:\n",
    "Gamma - [k] dimension vector; determines Theta in the Variational Model\n",
    "Phi = phi_1 .. phi_N - [N x k] dimension matrix; determines the probability distribution \n",
    "                                 for topics z of words in the Variational Model"
   ]
  },
  {
   "cell_type": "code",
   "execution_count": 89,
   "metadata": {},
   "outputs": [],
   "source": [
    "import numpy as np \n",
    "import matplotlib.pyplot as plt \n",
    "import scipy\n",
    "from scipy import special\n",
    "from scipy.special import digamma, gammaln, polygamma\n",
    "import pandas as pd\n",
    "from collections import Counter "
   ]
  },
  {
   "cell_type": "markdown",
   "metadata": {},
   "source": [
    "## Load the Document Corpus\n",
    "Download the data from \n",
    "https://github.com/Blei-Lab/lda-c/blob/master/example/ap.tgz\n",
    "\n",
    "We can directly load the file \"ap.dat\" which contains:\n",
    "\n",
    "1 line = 1 document,\n",
    "\n",
    "[number of different words in doc] [word index (where the one is in w_n]:[how often it occurs in the doc] [word index 2]:[occurences 2] ..."
   ]
  },
  {
   "cell_type": "code",
   "execution_count": 90,
   "metadata": {},
   "outputs": [],
   "source": [
    "vocabulary = np.genfromtxt('ap/vocab.txt',  dtype='str')"
   ]
  },
  {
   "cell_type": "code",
   "execution_count": 91,
   "metadata": {},
   "outputs": [],
   "source": [
    "def clean_up_data(corpus_file, vocabulary_file, stopwords_file):\n",
    "    \"\"\"\n",
    "    Reads the corpus from the .txt file into a list of lists;\n",
    "    a list for each document which contains a list of all the \n",
    "    words as strings.\n",
    "    Input parameters:\n",
    "    corpus_file - path to the corpus file\n",
    "    vocabulary_file - path to the vocabulary file\n",
    "    stopwords_file - path to the stopwords file\n",
    "    \"\"\"\n",
    "    vocabulary = np.genfromtxt(vocabulary_file,  dtype='str')\n",
    "    special_chars = '1234567890~!@#£$%^&*()_+,./<>?\\|\"]}\\'[{`-'\n",
    "    corpus = []\n",
    "    \n",
    "    # read in stopwords from file into a list\n",
    "    stopwords = [] \n",
    "    with open(stopwords_file, 'r') as file:\n",
    "        stop_words = file.read().replace(',', ' ')\n",
    "        for word in stop_words.split():\n",
    "            stopwords.append(word) \n",
    "    \n",
    "    with open(corpus_file, 'r') as text:\n",
    "        doc = ''\n",
    "        new = False\n",
    "        for line in text:\n",
    "            if new: # reached a new document\n",
    "                if line.strip() != '</TEXT>': # until we reach the new doc\n",
    "                    for char in special_chars: # remove punctuation etc,\n",
    "                        line = line.replace(char, '') \n",
    "                    doc += line\n",
    "                else: # we've reached a new doc again\n",
    "                    doc = doc.lower() # all words lowercase\n",
    "                    words = np.array(doc.split())\n",
    "                    # PETER EDIT: next two lines\n",
    "                    doc = [word for word in words if (  (word not in stopwords) and (word in vocabulary)  )]\n",
    "                    corpus.append(doc)\n",
    "                    doc = ''\n",
    "            elif line.strip() == '<TEXT>': new = True\n",
    "\n",
    "    \n",
    "    return corpus, vocabulary"
   ]
  },
  {
   "cell_type": "code",
   "execution_count": 92,
   "metadata": {},
   "outputs": [],
   "source": [
    "corpus, vocabulary = clean_up_data('ap/ap.txt', 'ap/vocab.txt', 'ap/stopwords.txt')"
   ]
  },
  {
   "cell_type": "code",
   "execution_count": 105,
   "metadata": {},
   "outputs": [],
   "source": [
    "def initialize_parameters(documents, vocabulary, k):\n",
    "    M = len(documents)\n",
    "    V = len(vocabulary)\n",
    "    \n",
    "    # Initialize alpha \n",
    "    # alpha = np.ones([M,k]) * 50/k # for every document, for every topic\n",
    "    alpha = np.ones(k)*50/k\n",
    "    # Initialize beta\n",
    "    beta = np.zeros([k,V]) # for every topic, for every word in the vocabulary\n",
    "    for i in range(k):\n",
    "        beta[i] = np.random.uniform(0, 1, V)\n",
    "        beta[i] = beta[i] / np.sum(beta[i])\n",
    "    \n",
    "    # Initialize phi and gamma\n",
    "    phi = []\n",
    "    gamma = np.zeros([M,k]) # for every document, for every topic\n",
    "    for m in range(M):\n",
    "        doc = np.array(documents[m])\n",
    "        N = len(doc)\n",
    "        phi.append(np.ones([N,k]) * 1/float(k)) # uniform over topics\n",
    "        \n",
    "        for i in range(k):\n",
    "            gamma[m][i] = alpha[i] + N/float(k)\n",
    "        #m += 1 # WHYYYYYYY?\n",
    "        \n",
    "    return alpha, beta, gamma, phi"
   ]
  },
  {
   "cell_type": "code",
   "execution_count": 106,
   "metadata": {},
   "outputs": [],
   "source": [
    "def compute_lower_bound_likelihood(phi, gamma, alpha, beta, document, vocabulary,k):\n",
    "    '''\n",
    "    This calculate the lower bound of L(gamma, phi, alpha, beta)\n",
    "    Ie. equation 15 in the paper in Appendix 3.\n",
    "    '''\n",
    "   \n",
    "    N, k = phi.shape\n",
    "    k,V = beta.shape\n",
    "    \n",
    "    loggamma_sum = lambda x: scipy.special.gammaln(np.sum(x))\n",
    "    loggamma_x_i = lambda x, i: np.log(scipy.special.gamma(x[i]))\n",
    "    E_log_thetai_givenGamma = lambda i:  (psi(gamma[i]) - psi(np.sum(gamma))) \n",
    "\n",
    "    term0 = loggamma_sum(alpha) - loggamma_sum(gamma)\n",
    "    term_kSum=0\n",
    "    for i in range(k):\n",
    "        E = E_log_thetai_givenGamma(i)\n",
    "        term_kSum += -loggamma_x_i(alpha,i) + (alpha[i]-1)*E\n",
    "        term_kSum += gammaln(gamma[i]) - (gamma[i] - 1) * E\n",
    "\n",
    "        term_knSum = 0\n",
    "        term_knvSum=0\n",
    "        for n in range(N):\n",
    "            if phi[n,i]==0:\n",
    "                print(\"Error: Phi[\",n,i,\"]==0\")\n",
    "            term_knSum += phi[n,i] * E_log_thetai_givenGamma(i)\n",
    "            term_knSum += - phi[n,i] *np.log(phi[n,i])\n",
    "            \n",
    "            v = np.where(vocabulary == document[n])[0][0] # here w_n is not a vector\n",
    "            if beta[i,v]<=0:\n",
    "                print(\"Error: beta[\"+i,v,\"]<=0\")\n",
    "            #L+= phi[n,i] * np.log(beta[i,v]) \n",
    "            term_knvSum += phi[n,i] * np.log(beta[i,v]) \n",
    "\n",
    "    #print(term0,term_knSum, term_kSum)\n",
    "    L_terms = term0+term_knSum+term_kSum+term_knvSum\n",
    "    \n",
    "    return L_terms\n",
    "    \n",
    "\n",
    "\n",
    "def psi(gamma_i):\n",
    "    # this is the first derivative (via Taylor approximation) of the log \\Gamma function\n",
    "    # according to Wikipedia this is the \"digamma\" function\n",
    "    return scipy.special.digamma(gamma_i)\n",
    "\n"
   ]
  },
  {
   "cell_type": "code",
   "execution_count": 107,
   "metadata": {},
   "outputs": [],
   "source": [
    "#def copied(Phi, gamma, alpha, Beta, document, vocabulary, k):\n",
    "#    likelihood = 0.0\n",
    "#    V = len(vocabulary)\n",
    "#    words = np.array(document)\n",
    "#    N = len(words)\n",
    "#    print(N,V,k)\n",
    "#    \n",
    "#    alpha_sum = 0.0\n",
    "#    phi_gamma_sum = 0.0\n",
    "#    phi_logbeta_sum = 0.0\n",
    "#    entropy_sum = 0.0\n",
    "#    gamma_sum = 0.0\n",
    "#    \n",
    "#    alpha_sum += gammaln(np.sum(alpha))  \n",
    "#    gamma_sum -= gammaln(np.sum(gamma)) \n",
    "#    \n",
    "#    for i in range(k):\n",
    "#        alpha_sum += -gammaln(alpha[i]) + \\\n",
    "#                (alpha[i] - 1) * (digamma(gamma[i]) - digamma(np.sum(gamma)))\n",
    "#        \n",
    "#        for n in range(N):\n",
    "#            if Phi[n,i] > 0:\n",
    "#                w_indicator = np.sum(np.in1d(vocabulary, words[n]))   \n",
    "#                phi_gamma_sum += Phi[n,i] * (digamma(gamma[i]) - digamma(np.sum(gamma[:])))\n",
    "#                entropy_sum += Phi[n,i] * np.log(Phi[n,i])\n",
    "#                for j in range(V):\n",
    "#                    if Beta[i,j] > 0:\n",
    "#                        phi_logbeta_sum += Phi[n,i] * w_indicator * np.log(Beta[i,j])\n",
    "#                        #phi_logbeta_sum+=0\n",
    "#        \n",
    "#        gamma_sum += gammaln(gamma[i]) - \\\n",
    "#                    (gamma[i] - 1) * (digamma(gamma[i]) - digamma(np.sum(gamma[:])))\n",
    "#        \n",
    "#        print(\"i: \")\n",
    "#        print(-gammaln(alpha[i]) + \\\n",
    "#                (alpha[i] - 1) * (digamma(gamma[i]) - digamma(np.sum(gamma))))\n",
    "#        print(gammaln(gamma[i]) - \\\n",
    "#                    (gamma[i] - 1) * (digamma(gamma[i]) - digamma(np.sum(gamma[:]))))\n",
    "#        \n",
    "#    \n",
    "#    likelihood += (alpha_sum + phi_gamma_sum + phi_logbeta_sum - gamma_sum - entropy_sum) \n",
    "#    \n",
    "#    print(alpha_sum, gamma_sum, phi_gamma_sum,entropy_sum)\n",
    "#    print(\"L=\",alpha_sum+phi_gamma_sum-gamma_sum-entropy_sum)\n",
    "#\n",
    "#    print(phi_logbeta_sum)\n",
    "#    return likelihood#\n"
   ]
  },
  {
   "cell_type": "code",
   "execution_count": 108,
   "metadata": {},
   "outputs": [],
   "source": [
    "def update_phi_gamma(k, phi, gamma, alpha, beta, document, vocabulary, tol=1e-5, MAX_STEPS = 100):\n",
    "    \n",
    "    likelihood = 0.0\n",
    "    security_count = 0\n",
    "    converged = False\n",
    "    \n",
    "    words = np.array(document)\n",
    "    N = len(words)\n",
    "\n",
    "    while (not converged) and (security_count < MAX_STEPS):\n",
    "        security_count += 1\n",
    "            \n",
    "        phi_old = phi\n",
    "        phi = np.zeros([N,k])\n",
    "        gamma_old = gamma\n",
    "            \n",
    "        for n in range(N):\n",
    "            word = words[n]\n",
    "            if len(np.where(vocabulary == word)[0]) > 0: # word exists in vocabulary\n",
    "                for i in range(k):                \n",
    "                    beta_ = beta[i, np.where(vocabulary == word)]\n",
    "                    phi[n, i] = beta_[0][0] * np.exp(digamma(gamma[i]) - digamma(np.sum(gamma)))\n",
    "                phi[n,:] = phi[n,:] / np.sum(phi[n,:])   \n",
    "        gamma = alpha + np.sum(phi, axis=0)    \n",
    "            \n",
    "\n",
    "        # Convergence ctierion: did phi and gamma change significantly?\n",
    "        if (np.linalg.norm(phi - phi_old) < tol) and (np.linalg.norm(gamma - gamma_old) < tol):              \n",
    "            print('Document needed ' + str(security_count) + ' iterations to converge.')\n",
    "                \n",
    "            likelihood += compute_lower_bound_likelihood(phi, gamma, alpha, beta, document, vocabulary, k)\n",
    "            converged = True\n",
    "    \n",
    "    return phi, gamma, likelihood"
   ]
  },
  {
   "cell_type": "code",
   "execution_count": 109,
   "metadata": {},
   "outputs": [],
   "source": [
    "def update_beta(phi, documents, vocabulary, k):\n",
    "    \n",
    "    M = len(documents)\n",
    "    V = len(vocabulary)\n",
    "    \n",
    "    beta = np.zeros([k, V])\n",
    "    for m, doc in enumerate(documents):\n",
    "        words = np.array(doc)\n",
    "        phi_m = phi[m]\n",
    "        for i in range(k):\n",
    "            phi_ = phi_m[:,i]\n",
    "            for j in range(V):\n",
    "                word = vocabulary[j]\n",
    "                indicator = np.in1d(words, word)\n",
    "                indicator.astype(int) \n",
    "                beta[i][j] += np.dot(indicator, phi_)\n",
    "    beta = np.transpose(np.transpose(beta) / np.sum(beta, axis=1))\n",
    "\n",
    "    return beta\n",
    "    "
   ]
  },
  {
   "cell_type": "code",
   "execution_count": 110,
   "metadata": {},
   "outputs": [],
   "source": [
    "def update_lambda(phi, ni, documents, vocabulary, k):\n",
    "    \n",
    "    M = len(documents)\n",
    "    V = len(vocabulary)\n",
    "    \n",
    "    Lambda = np.ones([k, V])*ni\n",
    "    for m, doc in enumerate(documents):\n",
    "        words = np.array(doc)\n",
    "        phi_m = phi[m]\n",
    "        for i in range(k):\n",
    "            phi_ = phi_m[:,i]\n",
    "            for n, j in enumerate(words):\n",
    "                Lambda[i][j] += phi_[n]\n",
    "\n",
    "\n",
    "    return Lambda"
   ]
  },
  {
   "cell_type": "code",
   "execution_count": 111,
   "metadata": {},
   "outputs": [],
   "source": [
    "def update_alpha(alpha, gamma, k, M, max_iter=50, tol=0.0001):\n",
    "    \"\"\"This function updates alpha.\"\"\"\n",
    "    \n",
    "    # Maria B version\n",
    "    temp = 0\n",
    "    for d in range(M):\n",
    "        temp_1 = np.sum(special.polygamma(0, gamma[d])) - np.sum(special.polygamma(0, np.sum(gamma, axis=1)))\n",
    "    \n",
    "    gradient = M * (k * special.polygamma(1, alpha) - special.polygamma(1, k*alpha))\n",
    "    gradient = gradient + temp\n",
    "\n",
    "    hessian = M * k * (k * special.polygamma(2, k*alpha) - special.polygamma(2, alpha))\n",
    "\n",
    "    temp = gradient / (hessian * alpha + gradient + tol)\n",
    "    if (alpha == 0).any():\n",
    "        alpha += 0.005\n",
    "\n",
    "    log_alpha = np.log(alpha) - temp\n",
    "    alpha = np.exp(log_alpha)    \n",
    "        \n",
    "    return alpha\n"
   ]
  },
  {
   "cell_type": "code",
   "execution_count": 112,
   "metadata": {},
   "outputs": [],
   "source": [
    "def E_step(phi, gamma, alpha, beta, documents, vocabulary, k):\n",
    "\n",
    "    for m, doc in enumerate(documents):\n",
    "        # words = np.array(documents[m])\n",
    "        # N = len(words)\n",
    "        \n",
    "        phi[m], gamma[m], likelihood = update_phi_gamma(k, phi[m], gamma[m], alpha, beta, doc, vocabulary)\n",
    "                \n",
    "    return phi, gamma, likelihood"
   ]
  },
  {
   "cell_type": "code",
   "execution_count": 113,
   "metadata": {},
   "outputs": [],
   "source": [
    "def M_step(phi, gamma, alpha, documents, vocabulary, k):\n",
    "    print('M-step')\n",
    "    beta = update_beta(phi, documents, vocabulary, k)\n",
    "    alpha = update_alpha(alpha, gamma, k, M)\n",
    "    \n",
    "    return alpha, beta"
   ]
  },
  {
   "cell_type": "markdown",
   "metadata": {},
   "source": [
    "# MAIN"
   ]
  },
  {
   "cell_type": "code",
   "execution_count": 114,
   "metadata": {},
   "outputs": [],
   "source": [
    "k = 3\n",
    "corpus_reduced = corpus[:20]\n",
    "M = len(corpus_reduced)\n"
   ]
  },
  {
   "cell_type": "code",
   "execution_count": 115,
   "metadata": {},
   "outputs": [],
   "source": [
    "def variational_EM(Phi_init, gamma_init, alpha_init, Beta_init, documents, vocabulary, k):\n",
    "    print('Variational EM')\n",
    "    M = len(documents)\n",
    "    \n",
    "    likelihood = 0\n",
    "    likelihood_old = 0.000004\n",
    "    iteration = 1 # Initialization step is the first step\n",
    "    Phi = Phi_init\n",
    "    gamma = gamma_init\n",
    "    alpha = alpha_init\n",
    "    Beta = Beta_init\n",
    "    while iteration <= 2 or np.abs((likelihood-likelihood_old)/likelihood_old) > 1e-5:\n",
    "        \n",
    "        # Update parameters \n",
    "        if likelihood == 0:\n",
    "            print(\"Likelihood==0\")\n",
    "            likelihood_old = 0.005\n",
    "        else:\n",
    "            likelihood_old = likelihood\n",
    "        Phi_old = Phi \n",
    "        gamma_old = gamma \n",
    "        alpha_old = alpha\n",
    "        Beta_old = Beta\n",
    "    \n",
    "        Phi, gamma, likelihood = \\\n",
    "            E_step(Phi_old, gamma_old, alpha_old, Beta_old, documents, vocabulary, k)\n",
    "        alpha, Beta = \\\n",
    "            M_step(Phi, gamma, alpha_old, documents, vocabulary, k)\n",
    "                \n",
    "        iteration += 1\n",
    "        \n",
    "        if iteration > 10:\n",
    "            break\n",
    "        \n",
    "    return Phi, gamma, alpha, Beta, likelihood"
   ]
  },
  {
   "cell_type": "code",
   "execution_count": 116,
   "metadata": {},
   "outputs": [],
   "source": [
    "alpha_init, beta_init, gamma_init, phi_init = initialize_parameters(corpus_reduced, vocabulary, k)"
   ]
  },
  {
   "cell_type": "code",
   "execution_count": 117,
   "metadata": {},
   "outputs": [
    {
     "data": {
      "text/plain": [
       "(20, 3)"
      ]
     },
     "execution_count": 117,
     "metadata": {},
     "output_type": "execute_result"
    }
   ],
   "source": [
    "gamma_init.shape"
   ]
  },
  {
   "cell_type": "code",
   "execution_count": 242,
   "metadata": {},
   "outputs": [
    {
     "name": "stdout",
     "output_type": "stream",
     "text": [
      "Document needed 43 iterations to converge.\n",
      "Document needed 48 iterations to converge.\n",
      "Document needed 45 iterations to converge.\n",
      "Document needed 38 iterations to converge.\n"
     ]
    }
   ],
   "source": [
    "phi, gamma, likelihood = E_step(phi_init, gamma_init, alpha_init, beta_init, corpus_reduced, vocabulary, k)"
   ]
  },
  {
   "cell_type": "code",
   "execution_count": 243,
   "metadata": {},
   "outputs": [
    {
     "name": "stdout",
     "output_type": "stream",
     "text": [
      "M-step\n"
     ]
    }
   ],
   "source": [
    "alpha, beta = M_step(phi, gamma, alpha_init, corpus_reduced, vocabulary, k)"
   ]
  },
  {
   "cell_type": "code",
   "execution_count": 119,
   "metadata": {},
   "outputs": [
    {
     "name": "stdout",
     "output_type": "stream",
     "text": [
      "Variational EM\n",
      "Likelihood==0\n",
      "Document needed 1 iterations to converge.\n",
      "Document needed 1 iterations to converge.\n",
      "Document needed 1 iterations to converge.\n",
      "Document needed 1 iterations to converge.\n",
      "Document needed 1 iterations to converge.\n",
      "Document needed 1 iterations to converge.\n",
      "Document needed 1 iterations to converge.\n",
      "Document needed 1 iterations to converge.\n",
      "Document needed 1 iterations to converge.\n",
      "Document needed 1 iterations to converge.\n",
      "Document needed 1 iterations to converge.\n",
      "Document needed 1 iterations to converge.\n",
      "Document needed 1 iterations to converge.\n",
      "Document needed 1 iterations to converge.\n",
      "Document needed 1 iterations to converge.\n",
      "Document needed 1 iterations to converge.\n",
      "Document needed 1 iterations to converge.\n",
      "Document needed 1 iterations to converge.\n",
      "Document needed 1 iterations to converge.\n",
      "Document needed 1 iterations to converge.\n",
      "M-step\n",
      "Document needed 54 iterations to converge.\n",
      "Document needed 50 iterations to converge.\n",
      "Document needed 49 iterations to converge.\n",
      "Document needed 45 iterations to converge.\n",
      "Document needed 26 iterations to converge.\n",
      "Document needed 72 iterations to converge.\n",
      "Document needed 43 iterations to converge.\n",
      "Document needed 26 iterations to converge.\n",
      "Document needed 9 iterations to converge.\n",
      "Document needed 38 iterations to converge.\n",
      "Document needed 22 iterations to converge.\n",
      "Document needed 29 iterations to converge.\n",
      "Document needed 43 iterations to converge.\n",
      "Document needed 16 iterations to converge.\n",
      "Document needed 58 iterations to converge.\n",
      "Document needed 39 iterations to converge.\n",
      "Document needed 41 iterations to converge.\n",
      "Document needed 58 iterations to converge.\n",
      "Document needed 41 iterations to converge.\n",
      "Document needed 59 iterations to converge.\n",
      "M-step\n",
      "Document needed 52 iterations to converge.\n",
      "Document needed 55 iterations to converge.\n",
      "Document needed 48 iterations to converge.\n",
      "Document needed 43 iterations to converge.\n",
      "Document needed 27 iterations to converge.\n",
      "Document needed 43 iterations to converge.\n",
      "Document needed 51 iterations to converge.\n",
      "Document needed 36 iterations to converge.\n",
      "Document needed 12 iterations to converge.\n",
      "Document needed 27 iterations to converge.\n",
      "Document needed 29 iterations to converge.\n",
      "Document needed 38 iterations to converge.\n",
      "Document needed 48 iterations to converge.\n",
      "Document needed 21 iterations to converge.\n",
      "Document needed 56 iterations to converge.\n",
      "Document needed 34 iterations to converge.\n",
      "Document needed 33 iterations to converge.\n",
      "Document needed 61 iterations to converge.\n",
      "Document needed 28 iterations to converge.\n",
      "Document needed 48 iterations to converge.\n",
      "M-step\n",
      "Document needed 16 iterations to converge.\n",
      "Document needed 38 iterations to converge.\n",
      "Document needed 25 iterations to converge.\n",
      "Document needed 28 iterations to converge.\n",
      "Document needed 16 iterations to converge.\n",
      "Document needed 38 iterations to converge.\n",
      "Document needed 27 iterations to converge.\n",
      "Document needed 32 iterations to converge.\n",
      "Document needed 16 iterations to converge.\n",
      "Document needed 18 iterations to converge.\n",
      "Document needed 28 iterations to converge.\n",
      "Document needed 40 iterations to converge.\n",
      "Document needed 39 iterations to converge.\n",
      "Document needed 33 iterations to converge.\n",
      "Document needed 51 iterations to converge.\n",
      "Document needed 17 iterations to converge.\n",
      "Document needed 21 iterations to converge.\n",
      "Document needed 38 iterations to converge.\n",
      "Document needed 41 iterations to converge.\n",
      "Document needed 43 iterations to converge.\n",
      "M-step\n",
      "Document needed 9 iterations to converge.\n",
      "Document needed 24 iterations to converge.\n",
      "Document needed 14 iterations to converge.\n",
      "Document needed 17 iterations to converge.\n",
      "Document needed 12 iterations to converge.\n",
      "Document needed 18 iterations to converge.\n",
      "Document needed 10 iterations to converge.\n",
      "Document needed 37 iterations to converge.\n",
      "Document needed 24 iterations to converge.\n",
      "Document needed 17 iterations to converge.\n",
      "Document needed 17 iterations to converge.\n",
      "Document needed 35 iterations to converge.\n",
      "Document needed 35 iterations to converge.\n",
      "Document needed 32 iterations to converge.\n",
      "Document needed 16 iterations to converge.\n",
      "Document needed 16 iterations to converge.\n",
      "Document needed 14 iterations to converge.\n",
      "Document needed 15 iterations to converge.\n",
      "Document needed 38 iterations to converge.\n",
      "Document needed 46 iterations to converge.\n",
      "M-step\n",
      "Document needed 8 iterations to converge.\n",
      "Document needed 14 iterations to converge.\n",
      "Document needed 10 iterations to converge.\n",
      "Document needed 18 iterations to converge.\n",
      "Document needed 11 iterations to converge.\n",
      "Document needed 9 iterations to converge.\n",
      "Document needed 9 iterations to converge.\n",
      "Document needed 32 iterations to converge.\n",
      "Document needed 23 iterations to converge.\n",
      "Document needed 18 iterations to converge.\n",
      "Document needed 13 iterations to converge.\n",
      "Document needed 30 iterations to converge.\n",
      "Document needed 26 iterations to converge.\n",
      "Document needed 23 iterations to converge.\n",
      "Document needed 8 iterations to converge.\n",
      "Document needed 17 iterations to converge.\n",
      "Document needed 12 iterations to converge.\n",
      "Document needed 11 iterations to converge.\n",
      "Document needed 33 iterations to converge.\n",
      "Document needed 48 iterations to converge.\n",
      "M-step\n",
      "Document needed 8 iterations to converge.\n",
      "Document needed 10 iterations to converge.\n",
      "Document needed 8 iterations to converge.\n",
      "Document needed 14 iterations to converge.\n",
      "Document needed 11 iterations to converge.\n",
      "Document needed 8 iterations to converge.\n",
      "Document needed 8 iterations to converge.\n",
      "Document needed 26 iterations to converge.\n",
      "Document needed 16 iterations to converge.\n",
      "Document needed 16 iterations to converge.\n",
      "Document needed 11 iterations to converge.\n",
      "Document needed 26 iterations to converge.\n",
      "Document needed 19 iterations to converge.\n",
      "Document needed 21 iterations to converge.\n",
      "Document needed 7 iterations to converge.\n",
      "Document needed 15 iterations to converge.\n",
      "Document needed 11 iterations to converge.\n",
      "Document needed 10 iterations to converge.\n",
      "Document needed 19 iterations to converge.\n",
      "Document needed 41 iterations to converge.\n",
      "M-step\n",
      "Document needed 7 iterations to converge.\n",
      "Document needed 9 iterations to converge.\n",
      "Document needed 7 iterations to converge.\n",
      "Document needed 10 iterations to converge.\n",
      "Document needed 10 iterations to converge.\n",
      "Document needed 8 iterations to converge.\n",
      "Document needed 8 iterations to converge.\n",
      "Document needed 27 iterations to converge.\n",
      "Document needed 8 iterations to converge.\n",
      "Document needed 12 iterations to converge.\n",
      "Document needed 10 iterations to converge.\n",
      "Document needed 28 iterations to converge.\n",
      "Document needed 15 iterations to converge.\n",
      "Document needed 20 iterations to converge.\n",
      "Document needed 6 iterations to converge.\n",
      "Document needed 13 iterations to converge.\n",
      "Document needed 9 iterations to converge.\n",
      "Document needed 9 iterations to converge.\n",
      "Document needed 7 iterations to converge.\n",
      "Document needed 27 iterations to converge.\n",
      "M-step\n",
      "Document needed 6 iterations to converge.\n",
      "Document needed 7 iterations to converge.\n",
      "Document needed 6 iterations to converge.\n",
      "Document needed 7 iterations to converge.\n",
      "Document needed 8 iterations to converge.\n",
      "Document needed 6 iterations to converge.\n",
      "Document needed 6 iterations to converge.\n",
      "Document needed 29 iterations to converge.\n",
      "Document needed 7 iterations to converge.\n",
      "Document needed 8 iterations to converge.\n",
      "Document needed 8 iterations to converge.\n",
      "Document needed 30 iterations to converge.\n",
      "Document needed 10 iterations to converge.\n",
      "Document needed 10 iterations to converge.\n",
      "Document needed 6 iterations to converge.\n",
      "Document needed 9 iterations to converge.\n",
      "Document needed 7 iterations to converge.\n",
      "Document needed 7 iterations to converge.\n",
      "Document needed 6 iterations to converge.\n",
      "Document needed 6 iterations to converge.\n",
      "M-step\n",
      "Document needed 5 iterations to converge.\n",
      "Document needed 5 iterations to converge.\n",
      "Document needed 5 iterations to converge.\n",
      "Document needed 6 iterations to converge.\n",
      "Document needed 6 iterations to converge.\n",
      "Document needed 5 iterations to converge.\n",
      "Document needed 5 iterations to converge.\n",
      "Document needed 6 iterations to converge.\n",
      "Document needed 5 iterations to converge.\n",
      "Document needed 6 iterations to converge.\n"
     ]
    },
    {
     "name": "stdout",
     "output_type": "stream",
     "text": [
      "Document needed 6 iterations to converge.\n",
      "Document needed 14 iterations to converge.\n",
      "Document needed 7 iterations to converge.\n",
      "Document needed 6 iterations to converge.\n",
      "Document needed 5 iterations to converge.\n",
      "Document needed 6 iterations to converge.\n",
      "Document needed 6 iterations to converge.\n",
      "Document needed 5 iterations to converge.\n",
      "Document needed 5 iterations to converge.\n",
      "Document needed 5 iterations to converge.\n",
      "M-step\n"
     ]
    }
   ],
   "source": [
    "\n",
    "Phi, gamma, alpha, Beta, likelihood = \\\n",
    "        variational_EM(phi_init, gamma_init, alpha_init, beta_init, corpus_reduced, vocabulary, k)"
   ]
  },
  {
   "cell_type": "code",
   "execution_count": 121,
   "metadata": {},
   "outputs": [
    {
     "data": {
      "text/plain": [
       "array([0.1597394, 0.1597394, 0.1597394])"
      ]
     },
     "execution_count": 121,
     "metadata": {},
     "output_type": "execute_result"
    }
   ],
   "source": [
    "alpha"
   ]
  },
  {
   "cell_type": "code",
   "execution_count": null,
   "metadata": {},
   "outputs": [],
   "source": []
  },
  {
   "cell_type": "markdown",
   "metadata": {},
   "source": [
    "# Analysis"
   ]
  },
  {
   "cell_type": "code",
   "execution_count": 126,
   "metadata": {},
   "outputs": [],
   "source": [
    "beta=Beta"
   ]
  },
  {
   "cell_type": "code",
   "execution_count": 127,
   "metadata": {},
   "outputs": [
    {
     "data": {
      "text/plain": [
       "<matplotlib.colorbar.Colorbar at 0x7f41191a4d30>"
      ]
     },
     "execution_count": 127,
     "metadata": {},
     "output_type": "execute_result"
    },
    {
     "data": {
      "image/png": "[encoded data removed]",
      "text/plain": [
       "<Figure size 432x288 with 2 Axes>"
      ]
     },
     "metadata": {
      "needs_background": "light"
     },
     "output_type": "display_data"
    }
   ],
   "source": [
    "plt.pcolormesh(gamma.T)\n",
    "plt.xlabel(\"Documents\")\n",
    "plt.ylabel(\"topic 1..k\")\n",
    "plt.colorbar()"
   ]
  },
  {
   "cell_type": "code",
   "execution_count": 128,
   "metadata": {},
   "outputs": [],
   "source": [
    "#plt.pcolormesh(Beta)"
   ]
  },
  {
   "cell_type": "code",
   "execution_count": 129,
   "metadata": {},
   "outputs": [
    {
     "name": "stdout",
     "output_type": "stream",
     "text": [
      "['spacecraft', 'magellan', 'panama', 'noriega', 'doc']\n",
      "['oil', 'rose', 'gas', 'bush', 'percent']\n",
      "['doc', 'mrs', 'peres', 'year', 'police']\n"
     ]
    },
    {
     "data": {
      "image/png": "[encoded data removed]",
      "text/plain": [
       "<Figure size 432x288 with 1 Axes>"
      ]
     },
     "metadata": {
      "needs_background": "light"
     },
     "output_type": "display_data"
    }
   ],
   "source": [
    "for l in range(k):\n",
    "    beta_topic = beta[l,:]\n",
    "    beta_topic_top4 = np.argsort(beta_topic)[-5:]\n",
    "    plt.plot(beta_topic)\n",
    "    print([w for w in np.array(vocabulary)[beta_topic_top4][:]])"
   ]
  },
  {
   "cell_type": "markdown",
   "metadata": {},
   "source": [
    "## WRITE TEXT WITH COLOR"
   ]
  },
  {
   "cell_type": "code",
   "execution_count": 159,
   "metadata": {},
   "outputs": [
    {
     "data": {
      "text/plain": [
       "'For three years Charles S Robb was out of the spotlight that had become so familiar first as the soninlaw of President Lyndon Johnson and then as Democratic governor of this conservative state But on Tuesday the yearold lawyer reentered the national arena in decisive style fashioning a huge victory over Republican longshot Maurice Dawkins a retired black minister and Washington lobbyist Robb said today he won because we attempted to identify with mainstream values that are crucial to success at the national level such as strong defense and fiscal responsibility With  percent of the precincts counted Robb had'"
      ]
     },
     "execution_count": 159,
     "metadata": {},
     "output_type": "execute_result"
    }
   ],
   "source": [
    "def get_full_text(corpus_file, number_of_text):\n",
    "    fulltext_words=[]\n",
    "    fulltext_allwords=[]\n",
    "    #number_of_text=2\n",
    "    text_counter=0\n",
    "    special_chars = '1234567890~!@#£$%^&*()_+,./<>?\\|\"]}\\'[{`-'\n",
    "\n",
    "    with open(corpus_file, 'r') as text:\n",
    "        new=False\n",
    "        for line in text:\n",
    "            if new:\n",
    "                #print(line.strip()[0], line.strip()[:10])\n",
    "                if line.strip()[0]==\"<\":\n",
    "                    pass\n",
    "                else:\n",
    "                    #print(\"FOUND\", text)\n",
    "                    text_counter+=1\n",
    "                    if text_counter==number_of_text:\n",
    "                        #print(\" CORRECT\")\n",
    "                        new_text=line\n",
    "                        fulltext=new_text\n",
    "                        words = np.array(new_text.split())\n",
    "                        for word in words:\n",
    "                            fulltext_allwords.append(word)\n",
    "                            for char in special_chars: # remove punctuation etc,\n",
    "                                word = word.replace(char, '') \n",
    "                            fulltext_words.append(word)\n",
    "\n",
    "\n",
    "            else:\n",
    "                if line.strip() == \"<TEXT>\":\n",
    "                    new=True\n",
    "    return fulltext_words, fulltext_allwords\n",
    "\n",
    "fulltext_words, fulltext_allwords = get_full_text('ap/ap.txt', 13)\n",
    "\" \".join(fulltext_words[:100])"
   ]
  },
  {
   "cell_type": "code",
   "execution_count": 160,
   "metadata": {},
   "outputs": [
    {
     "name": "stdout",
     "output_type": "stream",
     "text": [
      "spotlight= 2, familiar= 2, soninlaw= 2, governor= 2, conservative= 2, yearold= 2, lawyer= 2, arena= 2, decisive= 2, style= 2, huge= 2, victory= 2, retired= 2, lobbyist= 2, attempted= 2, identify= 2, mainstream= 2, values= 2, crucial= 2, success= 2, fiscal= 2, responsibility= 2, precincts= 2, counted= 2, combat= 2, officer= 2, built= 2, career= 2, making= 2, conservative= 2, known= 2, social= 2, aide= 2, married= 2, governors= 2, race= 2, bid= 2, governor= 2, sweep= 2, popular= 2, governor= 2, credited= 2, bureaucracy= 2, making= 2, education= 2, funding= 2, opened= 2, positions= 2, authority= 2, blacks= 2, appointed= 2, governor= 2, architects= 2, springs= 2, intended= 2, give= 2, vote= 1, collective= 2, tenure= 2, shaken= 2, prison= 2, attention= 2, six= 2, row= 2, inmates= 2, escaped= 2, succeed= 2, practicing= 2, bid= 2, unemployed= 2, job= 2, "
     ]
    }
   ],
   "source": [
    "colors=['blue','green', 'red']\n",
    "fulltext_colors=[]\n",
    "\n",
    "how_significant=2.5\n",
    "significance=[]\n",
    "for word in fulltext_words:\n",
    "    if word in vocabulary:\n",
    "        v = np.where(vocabulary==word)[0][0]\n",
    "        #print(v,word_beta )\n",
    "        word_beta = beta[:,v]\n",
    "        #significance.append(np.max(word_beta)/np.mean(word_beta))\n",
    "        if np.max(word_beta)>np.mean(beta):\n",
    "            if np.max(word_beta)> how_significant*np.mean(word_beta):\n",
    "                #significance =  (np.max(word_beta) / np.mean(word_beta) > 10)\n",
    "                topic = np.where(np.max(word_beta)==word_beta)[0][0]\n",
    "                color = colors[topic]\n",
    "                print(word+\"=\",str( topic)+\", \", end=\"\")\n",
    "\n",
    "            else:\n",
    "                color='k'\n",
    "        else:\n",
    "            color='k'\n",
    "    else: \n",
    "        color='k'\n",
    "    fulltext_colors.append(color)"
   ]
  },
  {
   "cell_type": "code",
   "execution_count": 161,
   "metadata": {},
   "outputs": [
    {
     "name": "stdout",
     "output_type": "stream",
     "text": [
      "\u001b[0mFor \u001b[0mthree \u001b[0myears, \u001b[0mCharles \u001b[0mS. \u001b[0mRobb \u001b[0mwas \u001b[0mout \u001b[0mof \u001b[0mthe \u001b[0;31;48mspotlight \u001b[0mthat \u001b[0mhad \u001b[0mbecome \u001b[0mso \u001b[0;31;48mfamiliar, \u001b[0mfirst \u001b[0mas \u001b[0mthe \u001b[0;31;48mson-in-law \u001b[0mof \u001b[0mPresident \u001b[0mLyndon \u001b[0mJohnson \u001b[0mand \u001b[0mthen \u001b[0mas \u001b[0mDemocratic \u001b[0;31;48mgovernor \u001b[0mof \u001b[0mthis \u001b[0;31;48mconservative \u001b[0mstate. \u001b[0mBut \u001b[0mon \u001b[0mTuesday, \u001b[0mthe \u001b[0;31;48m49-year-old \u001b[0;31;48mlawyer \u001b[0mre-entered \u001b[0mthe \u001b[0mnational \u001b[0;31;48marena \u001b[0min \u001b[0;31;48mdecisive \u001b[0;31;48mstyle, \u001b[0mfashioning \u001b[0ma \u001b[0;31;48mhuge \u001b[0;31;48mvictory \u001b[0mover \u001b[0mRepublican \u001b[0mlong-shot \u001b[0mMaurice \u001b[0mDawkins, \u001b[0ma \u001b[0;31;48mretired \u001b[0mblack \u001b[0mminister \u001b[0mand \u001b[0mWashington \u001b[0;31;48mlobbyist. \u001b[0mRobb \u001b[0msaid \u001b[0mtoday \u001b[0mhe \u001b[0mwon \u001b[0mbecause \u001b[0m``we \u001b[0;31;48mattempted \u001b[0mto \u001b[0;31;48midentify \u001b[0mwith \u001b[0;31;48mmainstream \u001b[0;31;48mvalues \u001b[0mthat \u001b[0mare \u001b[0;31;48mcrucial \u001b[0mto \u001b[0;31;48msuccess \u001b[0mat \u001b[0mthe \u001b[0mnational \u001b[0mlevel,'' \u001b[0msuch \u001b[0mas \u001b[0mstrong \u001b[0mdefense \u001b[0mand \u001b[0;31;48mfiscal \u001b[0;31;48mresponsibility. \u001b[0mWith \u001b[0m99 \u001b[0mpercent \u001b[0mof \u001b[0mthe \u001b[0;31;48mprecincts \u001b[0;31;48mcounted, \u001b[0mRobb \u001b[0mhad \u001b[0m1,448,389 \u001b[0mvotes \u001b[0mor \u001b[0m71 \u001b[0mpercent, \u001b[0mto \u001b[0mDawkins' \u001b[0m587,887 \u001b[0mvotes \u001b[0mor \u001b[0m29 \u001b[0mpercent. \u001b[0mThe \u001b[0mformer \u001b[0mMarine \u001b[0;31;48mcombat \u001b[0;31;48mofficer \u001b[0mhas \u001b[0;31;48mbuilt \u001b[0ma \u001b[0;31;48mcareer \u001b[0mby \u001b[0;31;48mmaking \u001b[0mDemocrats \u001b[0melectable \u001b[0min \u001b[0;31;48mconservative \u001b[0mVirginia. \u001b[0mOnce \u001b[0;31;48mknown \u001b[0monly \u001b[0mas \u001b[0mthe \u001b[0mformer \u001b[0mWhite \u001b[0mHouse \u001b[0mmilitary \u001b[0;31;48msocial \u001b[0;31;48maide \u001b[0mwho \u001b[0;31;48mmarried \u001b[0mLBJ's \u001b[0mdaughter, \u001b[0mLynda \u001b[0mBird \u001b[0mJohnson, \u001b[0mhe \u001b[0mwon \u001b[0mthe \u001b[0mlieutenant \u001b[0;31;48mgovernor's \u001b[0;31;48mrace \u001b[0min \u001b[0m1977 \u001b[0min \u001b[0mhis \u001b[0mfirst \u001b[0;31;48mbid \u001b[0mfor \u001b[0melective \u001b[0moffice. \u001b[0mFour \u001b[0myears \u001b[0mlater, \u001b[0mhe \u001b[0mran \u001b[0mfor \u001b[0;31;48mgovernor \u001b[0min \u001b[0mthe \u001b[0mfirst \u001b[0;31;48msweep \u001b[0mby \u001b[0mDemocrats \u001b[0mof \u001b[0mthe \u001b[0mstate's \u001b[0mtop \u001b[0mthree \u001b[0moffices \u001b[0msince \u001b[0m1965. \u001b[0mRobb \u001b[0mwas \u001b[0ma \u001b[0;31;48mpopular \u001b[0;31;48mgovernor \u001b[0mwho \u001b[0mwas \u001b[0;31;48mcredited \u001b[0mwith \u001b[0moverhauling \u001b[0mthe \u001b[0mstate \u001b[0;31;48mbureaucracy \u001b[0mand \u001b[0;31;48mmaking \u001b[0mmajor \u001b[0mgains \u001b[0min \u001b[0;31;48meducation \u001b[0;31;48mfunding. \u001b[0mHe \u001b[0malso \u001b[0;31;48mopened \u001b[0;31;48mpositions \u001b[0mof \u001b[0;31;48mauthority \u001b[0min \u001b[0mstate \u001b[0mgovernment \u001b[0mto \u001b[0;31;48mblacks \u001b[0mand \u001b[0mwomen \u001b[0mand \u001b[0;31;48mappointed \u001b[0mVirginia's \u001b[0mfirst \u001b[0mblack \u001b[0mSupreme \u001b[0mCourt \u001b[0mmember. \u001b[0mThe \u001b[0mformer \u001b[0;31;48mgovernor \u001b[0mwas \u001b[0malso \u001b[0mone \u001b[0mof \u001b[0mthe \u001b[0;31;48marchitects \u001b[0mof \u001b[0mlast \u001b[0;31;48mspring's \u001b[0mSuper \u001b[0mTuesday \u001b[0mpresidential \u001b[0mprimary, \u001b[0;31;48mintended \u001b[0min \u001b[0mpart \u001b[0mto \u001b[0;31;48mgive \u001b[0mthe \u001b[0mSouthern \u001b[0;32;48mvote \u001b[0;31;48mcollective \u001b[0mstrength. \u001b[0mBut \u001b[0mRobb's \u001b[0;31;48mtenure \u001b[0mwas \u001b[0;31;48mshaken \u001b[0mby \u001b[0;31;48mprison \u001b[0mtroubles \u001b[0mthat \u001b[0mdrew \u001b[0mnational \u001b[0;31;48mattention \u001b[0mwhen \u001b[0;31;48msix \u001b[0mdeath \u001b[0;31;48mrow \u001b[0;31;48minmates \u001b[0;31;48mescaped \u001b[0min \u001b[0mMay \u001b[0m1984. \u001b[0mRobb, \u001b[0mwho \u001b[0mcould \u001b[0mnot \u001b[0;31;48msucceed \u001b[0mhimself \u001b[0munder \u001b[0mVirginia's \u001b[0mconstitution, \u001b[0mhad \u001b[0mbeen \u001b[0mout \u001b[0mof \u001b[0moffice \u001b[0mfor \u001b[0mthree \u001b[0myears \u001b[0mand \u001b[0;31;48mpracticing \u001b[0mlaw \u001b[0muntil \u001b[0mhis \u001b[0;31;48mbid \u001b[0mfor \u001b[0mthe \u001b[0mSenate. \u001b[0m``I've \u001b[0mbeen \u001b[0;31;48munemployed \u001b[0mfor \u001b[0ma \u001b[0mlong \u001b[0mtime, \u001b[0mand \u001b[0mit \u001b[0mlooks \u001b[0mlike \u001b[0mI \u001b[0mjust \u001b[0mgot \u001b[0ma \u001b[0;31;48mjob,'' \u001b[0mhe \u001b[0msaid. "
     ]
    }
   ],
   "source": [
    "#http://ozzmaker.com/add-colour-to-text-in-python/\n",
    "#print(\"Examples of how to use ANSI COLOR: \\033[1;37;40m White          \\033[0m 1;37;40m            \\033[0;37;40m Light Grey \\033[0m 0;37;40m               \\033[0;37;48m Black      \\033[0m 0;37;48m\")\n",
    "colors_ansi=[34, 32,31] #blue, green, red\n",
    "             \n",
    "             \n",
    "for a in range(len(fulltext_allwords)):\n",
    "    if fulltext_colors[a]=='k':\n",
    "        #IF WE WANT TO FOCUS ON THE TOPIC WORDS:\n",
    "        #print(\"\\033[0;37;48m\"+fulltext_allwords[a], end=\" \")\n",
    "        print(\"\\033[0m\"+fulltext_allwords[a], end=\" \")\n",
    "        \n",
    "        #print(fulltext_allwords[a], end=\" \")\n",
    "    else:\n",
    "        for j in range(k):\n",
    "             if fulltext_colors[a]==colors[j]:\n",
    "                print(\"\\033[0;\"+str(colors_ansi[j])+\";48m\"+fulltext_allwords[a], end=\" \")"
   ]
  },
  {
   "cell_type": "code",
   "execution_count": 141,
   "metadata": {},
   "outputs": [
    {
     "name": "stdout",
     "output_type": "stream",
     "text": [
      "\u001b[0mTOPIC: 0: \u001b[0;34;48marticle, society, magazine, capitals, ambassadors, wound, column, note, sanctions, reversing, tide\n",
      "\u001b[0m\n",
      "\u001b[0mTOPIC: 1: \u001b[0;32;48m\n",
      "\u001b[0m\n",
      "\u001b[0mTOPIC: 2: \u001b[0;31;48m\n",
      "\u001b[0m\n"
     ]
    }
   ],
   "source": [
    "topic_words =[]\n",
    "for i in range(k):\n",
    "    topic_words.append(np.where(np.array(fulltext_colors)==colors[i]))\n",
    "    print(\"\\033[0mTOPIC: \"+str(i)+\": \"+\"\\033[0;\"+str(colors_ansi[i])+\";48m\"+ \", \".join(np.array(fulltext_words)[topic_words[i]]))\n",
    "    print(\"\\033[0m\")"
   ]
  },
  {
   "cell_type": "code",
   "execution_count": null,
   "metadata": {},
   "outputs": [],
   "source": []
  },
  {
   "cell_type": "code",
   "execution_count": null,
   "metadata": {},
   "outputs": [],
   "source": []
  },
  {
   "cell_type": "markdown",
   "metadata": {},
   "source": [
    "# REUTERS DATA (get from the external program to keep this a bit tidier)"
   ]
  },
  {
   "cell_type": "code",
   "execution_count": 181,
   "metadata": {},
   "outputs": [],
   "source": [
    "from getReuters import D_reuters as corpus_reuters\n",
    "from getReuters import vocab_list as vocabulary_reuters\n",
    "vocabulary_reuters=np.array(vocabulary_reuters)"
   ]
  },
  {
   "cell_type": "code",
   "execution_count": 182,
   "metadata": {},
   "outputs": [],
   "source": [
    "k_reuters = 2\n",
    "corpus_reuters_reduced = corpus_reuters[:10]\n",
    "M_reuters = len(corpus_reuters_reduced)\n"
   ]
  },
  {
   "cell_type": "code",
   "execution_count": 183,
   "metadata": {},
   "outputs": [],
   "source": [
    "alpha_init_reuters, beta_init_reuters, gamma_init_reuters, phi_init_reuters =\\\n",
    "    initialize_parameters(corpus_reuters_reduced, vocabulary_reuters, k_reuters)"
   ]
  },
  {
   "cell_type": "code",
   "execution_count": 185,
   "metadata": {},
   "outputs": [
    {
     "name": "stdout",
     "output_type": "stream",
     "text": [
      "Variational EM\n",
      "Likelihood==0\n",
      "Document needed 32 iterations to converge.\n",
      "Document needed 27 iterations to converge.\n",
      "Document needed 14 iterations to converge.\n",
      "Document needed 21 iterations to converge.\n",
      "Document needed 16 iterations to converge.\n",
      "Document needed 10 iterations to converge.\n",
      "Document needed 26 iterations to converge.\n",
      "Document needed 14 iterations to converge.\n",
      "Document needed 15 iterations to converge.\n",
      "Document needed 12 iterations to converge.\n",
      "M-step\n",
      "Document needed 43 iterations to converge.\n",
      "Document needed 32 iterations to converge.\n",
      "Document needed 16 iterations to converge.\n",
      "Document needed 25 iterations to converge.\n",
      "Document needed 20 iterations to converge.\n",
      "Document needed 12 iterations to converge.\n",
      "Document needed 30 iterations to converge.\n",
      "Document needed 18 iterations to converge.\n",
      "Document needed 19 iterations to converge.\n",
      "Document needed 20 iterations to converge.\n",
      "M-step\n",
      "Document needed 55 iterations to converge.\n",
      "Document needed 30 iterations to converge.\n",
      "Document needed 24 iterations to converge.\n",
      "Document needed 26 iterations to converge.\n",
      "Document needed 27 iterations to converge.\n",
      "Document needed 12 iterations to converge.\n",
      "Document needed 23 iterations to converge.\n",
      "Document needed 24 iterations to converge.\n",
      "Document needed 22 iterations to converge.\n",
      "Document needed 25 iterations to converge.\n",
      "M-step\n",
      "Document needed 20 iterations to converge.\n",
      "Document needed 22 iterations to converge.\n",
      "Document needed 28 iterations to converge.\n",
      "Document needed 20 iterations to converge.\n",
      "Document needed 32 iterations to converge.\n",
      "Document needed 10 iterations to converge.\n",
      "Document needed 10 iterations to converge.\n",
      "Document needed 23 iterations to converge.\n",
      "Document needed 24 iterations to converge.\n",
      "Document needed 27 iterations to converge.\n",
      "M-step\n",
      "Document needed 9 iterations to converge.\n",
      "Document needed 14 iterations to converge.\n",
      "Document needed 37 iterations to converge.\n",
      "Document needed 18 iterations to converge.\n",
      "Document needed 18 iterations to converge.\n",
      "Document needed 10 iterations to converge.\n",
      "Document needed 8 iterations to converge.\n",
      "Document needed 15 iterations to converge.\n",
      "Document needed 26 iterations to converge.\n",
      "Document needed 30 iterations to converge.\n",
      "M-step\n",
      "Document needed 8 iterations to converge.\n",
      "Document needed 11 iterations to converge.\n",
      "Document needed 41 iterations to converge.\n",
      "Document needed 21 iterations to converge.\n",
      "Document needed 10 iterations to converge.\n",
      "Document needed 12 iterations to converge.\n",
      "Document needed 8 iterations to converge.\n",
      "Document needed 10 iterations to converge.\n",
      "Document needed 38 iterations to converge.\n",
      "Document needed 32 iterations to converge.\n",
      "M-step\n",
      "Document needed 8 iterations to converge.\n",
      "Document needed 10 iterations to converge.\n",
      "Document needed 44 iterations to converge.\n",
      "Document needed 24 iterations to converge.\n",
      "Document needed 9 iterations to converge.\n",
      "Document needed 16 iterations to converge.\n",
      "Document needed 8 iterations to converge.\n",
      "Document needed 9 iterations to converge.\n",
      "Document needed 25 iterations to converge.\n",
      "Document needed 13 iterations to converge.\n",
      "M-step\n",
      "Document needed 7 iterations to converge.\n",
      "Document needed 9 iterations to converge.\n",
      "Document needed 61 iterations to converge.\n",
      "Document needed 22 iterations to converge.\n",
      "Document needed 8 iterations to converge.\n",
      "Document needed 25 iterations to converge.\n",
      "Document needed 7 iterations to converge.\n",
      "Document needed 8 iterations to converge.\n",
      "Document needed 9 iterations to converge.\n",
      "Document needed 7 iterations to converge.\n",
      "M-step\n",
      "Document needed 6 iterations to converge.\n",
      "Document needed 7 iterations to converge.\n",
      "Document needed 29 iterations to converge.\n",
      "Document needed 14 iterations to converge.\n",
      "Document needed 7 iterations to converge.\n",
      "Document needed 15 iterations to converge.\n",
      "Document needed 6 iterations to converge.\n",
      "Document needed 7 iterations to converge.\n",
      "Document needed 8 iterations to converge.\n",
      "Document needed 6 iterations to converge.\n",
      "M-step\n",
      "Document needed 5 iterations to converge.\n",
      "Document needed 6 iterations to converge.\n",
      "Document needed 7 iterations to converge.\n",
      "Document needed 8 iterations to converge.\n",
      "Document needed 5 iterations to converge.\n",
      "Document needed 7 iterations to converge.\n",
      "Document needed 5 iterations to converge.\n",
      "Document needed 5 iterations to converge.\n",
      "Document needed 6 iterations to converge.\n",
      "Document needed 5 iterations to converge.\n",
      "M-step\n"
     ]
    }
   ],
   "source": [
    "Phi_reuters, gamma_reuters, alpha_reuters, Beta_reuters, likelihood_reuters = \\\n",
    "        variational_EM(phi_init_reuters, gamma_init_reuters, alpha_init_reuters, beta_init_reuters, \n",
    "                       corpus_reuters_reduced, vocabulary_reuters, k_reuters)"
   ]
  },
  {
   "cell_type": "code",
   "execution_count": null,
   "metadata": {},
   "outputs": [],
   "source": []
  },
  {
   "cell_type": "code",
   "execution_count": null,
   "metadata": {},
   "outputs": [],
   "source": []
  },
  {
   "cell_type": "markdown",
   "metadata": {},
   "source": [
    "# TODO Analysis for REUTERS"
   ]
  },
  {
   "cell_type": "code",
   "execution_count": 186,
   "metadata": {},
   "outputs": [
    {
     "data": {
      "text/plain": [
       "<matplotlib.collections.QuadMesh at 0x7f41110968d0>"
      ]
     },
     "execution_count": 186,
     "metadata": {},
     "output_type": "execute_result"
    },
    {
     "data": {
      "image/png": "[encoded data removed]",
      "text/plain": [
       "<Figure size 432x288 with 1 Axes>"
      ]
     },
     "metadata": {
      "needs_background": "light"
     },
     "output_type": "display_data"
    }
   ],
   "source": [
    "plt.pcolormesh(Beta_reuters)"
   ]
  },
  {
   "cell_type": "code",
   "execution_count": null,
   "metadata": {},
   "outputs": [],
   "source": []
  }
 ],
 "metadata": {
  "kernelspec": {
   "display_name": "Python 3",
   "language": "python",
   "name": "python3"
  },
  "language_info": {
   "codemirror_mode": {
    "name": "ipython",
    "version": 3
   },
   "file_extension": ".py",
   "mimetype": "text/x-python",
   "name": "python",
   "nbconvert_exporter": "python",
   "pygments_lexer": "ipython3",
   "version": "3.7.3"
  }
 },
 "nbformat": 4,
 "nbformat_minor": 2
}
